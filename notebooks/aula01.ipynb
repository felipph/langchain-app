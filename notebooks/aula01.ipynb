{
 "cells": [
  {
   "cell_type": "code",
   "execution_count": 1,
   "metadata": {},
   "outputs": [
    {
     "data": {
      "text/plain": [
       "True"
      ]
     },
     "execution_count": 1,
     "metadata": {},
     "output_type": "execute_result"
    }
   ],
   "source": [
    "from dotenv import load_dotenv\n",
    "from langchain.chat_models import AzureChatOpenAI\n",
    "import os\n",
    "load_dotenv()\n"
   ]
  },
  {
   "cell_type": "code",
   "execution_count": 2,
   "metadata": {},
   "outputs": [],
   "source": [
    "chat_llm = AzureChatOpenAI(\n",
    "    openai_api_type    = os.getenv('AZOPENAI_API_TYPE'),\n",
    "    openai_api_key     = os.getenv('AZOPENAI_API_KEY'),\n",
    "    openai_api_base    = os.getenv('AZOPENAI_API_BASE'),\n",
    "    openai_api_version = os.getenv('AZOPENAI_DEPLOYMENT_VERSION'),\n",
    "    deployment_name    = os.getenv('AZOPENAI_DEPLOYMENT_NAME'),\n",
    "    model              = os.getenv('AZOPENAI_MODEL_NAME'),\n",
    ")"
   ]
  },
  {
   "cell_type": "code",
   "execution_count": 3,
   "metadata": {},
   "outputs": [
    {
     "data": {
      "text/plain": [
       "AIMessage(content='Atualmente, o presidente do Brasil é Jair Bolsonaro.', additional_kwargs={}, example=False)"
      ]
     },
     "execution_count": 3,
     "metadata": {},
     "output_type": "execute_result"
    }
   ],
   "source": [
    "from langchain.schema import HumanMessage, SystemMessage, AIMessage\n",
    "\n",
    "result = chat_llm([HumanMessage(content=\"Quem é o presidente do Brasil?\")])"
   ]
  }
 ],
 "metadata": {
  "kernelspec": {
   "display_name": ".venv",
   "language": "python",
   "name": "python3"
  },
  "language_info": {
   "codemirror_mode": {
    "name": "ipython",
    "version": 3
   },
   "file_extension": ".py",
   "mimetype": "text/x-python",
   "name": "python",
   "nbconvert_exporter": "python",
   "pygments_lexer": "ipython3",
   "version": "3.10.12"
  },
  "orig_nbformat": 4
 },
 "nbformat": 4,
 "nbformat_minor": 2
}
