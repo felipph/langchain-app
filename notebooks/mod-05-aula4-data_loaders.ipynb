{
 "cells": [
  {
   "attachments": {},
   "cell_type": "markdown",
   "id": "d36f3909-071c-4f5a-9d5d-968edecf3e68",
   "metadata": {},
   "source": [
    "# LangChain: Data Loaders"
   ]
  },
  {
   "attachments": {},
   "cell_type": "markdown",
   "id": "49bd0868",
   "metadata": {},
   "source": [
    "## LangChain\n",
    "\n",
    "```\n",
    "poetry add langchain\n",
    "```\n",
    "\n",
    "Crie um arquivo `.env` com as configurações:\n",
    "\n",
    "```\n",
    "AZOPENAI_API_BASE = xxxx\n",
    "AZOPENAI_API_KEY = xxxx\n",
    "AZOPENAI_API_TYPE = xxxx\n",
    "\n",
    "# Gpt 3.5\n",
    "AZOPENAI_DEPLOYMENT_NAME = xxxx\n",
    "AZOPENAI_DEPLOYMENT_VERSION = xxxx\n",
    "AZOPENAI_MODEL_NAME = xxxx\n",
    "\n",
    "# Embeddings\n",
    "AZOPENAI_EMBEDDINGS_DEPLOYMENT_NAME = xxxx\n",
    "AZOPENAI_EMBEDDINGS_MODEL_NAME = xxxx\n",
    "AZOPENAI_EMBEDDINGS_DEPLOYMENT_VERSION = xxxx\n",
    "```"
   ]
  },
  {
   "cell_type": "code",
   "execution_count": 1,
   "id": "1fea5630",
   "metadata": {},
   "outputs": [],
   "source": [
    "from dotenv import load_dotenv\n",
    "import os\n",
    "load_dotenv()\n",
    "\n",
    "from langchain.chat_models import AzureChatOpenAI # Abstraction for ChatGPT API endpoint\n",
    "from langchain.embeddings import OpenAIEmbeddings\n",
    "from langchain.schema import HumanMessage, SystemMessage, AIMessage"
   ]
  },
  {
   "cell_type": "code",
   "execution_count": 2,
   "id": "daad10ff",
   "metadata": {},
   "outputs": [],
   "source": [
    "#from langchain.chat_models import ChatOpenAI\n",
    "#chat = ChatOpenAI(openai_api_key=api_key)\n",
    "\n",
    "base_dir = \"../dados/\"\n",
    "\n",
    "chat_llm = AzureChatOpenAI(\n",
    "    openai_api_type=os.getenv('AZOPENAI_API_TYPE'),\n",
    "    openai_api_key=os.getenv('AZOPENAI_API_KEY'),\n",
    "    openai_api_base=os.getenv('AZOPENAI_API_BASE'),\n",
    "    openai_api_version=os.getenv('AZOPENAI_DEPLOYMENT_VERSION'),\n",
    "    deployment_name=os.getenv('AZOPENAI_DEPLOYMENT_NAME'),\n",
    "    model=os.getenv('AZOPENAI_MODEL_NAME'),\n",
    ")\n",
    "\n",
    "embeddings_model = OpenAIEmbeddings(\n",
    "        deployment=os.getenv('AZOPENAI_EMBEDDINGS_DEPLOYMENT_NAME'),\n",
    "        openai_api_key=os.getenv('AZOPENAI_API_KEY'),\n",
    "        openai_api_base=os.getenv('AZOPENAI_API_BASE'),\n",
    "        openai_api_version=os.getenv('AZOPENAI_DEPLOYMENT_VERSION'),\n",
    "        openai_api_type='azure',\n",
    "        model='text-embedding-ada-002',\n",
    "        chunk_size=1,\n",
    "        client=\"chatcontas\"\n",
    "    )\n",
    "\n"
   ]
  },
  {
   "cell_type": "markdown",
   "id": "88db4204",
   "metadata": {},
   "source": [
    "### Document\n",
    "Um objeto que contém um trecho de texto e metadados (mais informações sobre esse texto)"
   ]
  },
  {
   "cell_type": "code",
   "execution_count": 3,
   "id": "5b8bc3c4",
   "metadata": {},
   "outputs": [
    {
     "data": {
      "text/plain": [
       "Document(page_content='Este é o meu documento. Está cheio de textos que reuni de outros lugares', metadata={'my_document_id': 234234, 'my_document_source': 'The LangChain Papers', 'my_document_create_time': 1680013019})"
      ]
     },
     "execution_count": 3,
     "metadata": {},
     "output_type": "execute_result"
    }
   ],
   "source": [
    "from langchain.schema import Document\n",
    "\n",
    "Document(page_content=\"Este é o meu documento. Está cheio de textos que reuni de outros lugares\",\n",
    "         metadata={\n",
    "             'my_document_id' : 234234,\n",
    "             'my_document_source' : \"The LangChain Papers\",\n",
    "             'my_document_create_time' : 1680013019\n",
    "         })\n"
   ]
  },
  {
   "cell_type": "markdown",
   "id": "dced60df",
   "metadata": {},
   "source": [
    "### Document Loaders"
   ]
  },
  {
   "cell_type": "code",
   "execution_count": 4,
   "id": "e77e6285",
   "metadata": {},
   "outputs": [
    {
     "data": {
      "text/plain": [
       "[Document(page_content='                     TRIBUNAL DE CONTAS DO ESTADO DO PARÁ                        Secretaria de Controle Externo - 1ª CCG 1\\nRELATÓRIO DE \\nAUDITORIA \\nPROGRAMADAPROCESSO: 011165/2022ÓRGÃO: Tribunal de Contas dos \\nMunicípios do Estado do Pará – \\nTCM/PA  e Fundo de Modernização, \\nReaparelhamento e Aperfeiçoamento do \\nTribunal de Contas dos Municípios do \\nEstado do Pará - FUMREAPEXERCÍCIO: 2021RESPONSÁVEL: Exma. Sra. \\nConselheira Presidente  Mara Lúcia \\nBarbalho da Cruz (14/01/2021 a \\n31/12/2023)Setembro/2022', metadata={'source': '../dados//relatorio_auditoria_TC_011165_2022_RTC_97_2022.pdf', 'page': 0}),\n",
       " Document(page_content='                    TRIBUNAL DE CONTAS DO ESTADO DO PARÁ                                                         Secretaria de Controle Externo – 1ª CCG 2 SUMÁRIO 1. IDENTIFICAÇÃO DA FISCALIZAÇÃO.........................................................32. INFORMAÇÕES SOBRE O ÓRGÃO AUDITADO.........................................32.1. Responsáveis pela administração do órgão no exercício auditado...................32.2. Unidades Gestoras:...............................................................................................32.2.1. Tribunal de Contas dos Municípios do Estado do Pará – TCM/PA...................32.2.2. Fundo de Modernização, Reaparelhamento e Aperfeiçoamento do Tribunal de \\nContas dos    Municípios do Estado do Pará -  FUMREAP.............................................43. INTRODUÇÃO E OBJETIVO...........................................................................53.1. Da Auditoria..........................................................................................................53.2. Do Objetivo............................................................................................................54. RESULTADO DA FISCALIZAÇÃO.................................................................84.1. Quanto à Remessa da prestação de Contas........................................................94.2. Quanto à Execução Orçamentária e Financeira................................................94.3. Quanto às Receitas do FUMREAP....................................................................124.4. Quanto aos gastos com pessoal do TCM/PA no exercício de 2021.................125. ANÁLISE DAS CONTRATAÇÕES SELECIONADAS................................135.1. A Santos Leal Serviços Ltda..............................................................................135.1.1. Termos Aditivos ao Contrato n° 001/2016.......................................................135.1.2. Termos Aditivos ao Contrato n° 003/2016.......................................................175.2. Braz & Braz Ltda (Contrato nº 001/2021/TCM/PA).......................................205.3. Amazon Card’s SS Ltda.....................................................................................235.3.1. Contrato nº 003/2017........................................................................................235.3.2. Termos Aditivos ao Contrato n° 024/2020.......................................................245.3.3. Contrato nº 003/2021........................................................................................265.4. Polo Vigilância Especializada Eireli (Contrato n° 014/2019)..........................285.5. Pedragon Autos Ltda (Nota de Empenho n° 2021NE00124)..........................306. CONCLUSÃO.....................................................................................................32', metadata={'source': '../dados//relatorio_auditoria_TC_011165_2022_RTC_97_2022.pdf', 'page': 1}),\n",
       " Document(page_content='                    TRIBUNAL DE CONTAS DO ESTADO DO PARÁ                                                         Secretaria de Controle Externo – 1ª CCG 31. IDENTIFICAÇÃO DA FISCALIZAÇÃONatureza da Fiscalização: Auditoria Programada – Auditoria de Contas de GestãoProcesso nº: 011165/2022Autorização: Resolução nº 19.328/2021 – PAF/2022Período Fiscalizado: 15/01/2021 a 31/12/2021Relator: Conselheiro Odilon Inácio Teixeira2. INFORMAÇÕES SOBRE O ÓRGÃO AUDITADOÓrgão: Tribunal de Contas dos Municípios do Estado do Pará – TCM/PAEndereço: Trav. Magno de Araújo, 474 – Telégrafo Sem Fio – Belém – Pará, CEP 66.113-055Telefone: (91) 3210 - 7500Sítio Eletrônico Oficial: <www.tcm.pa.gov.br>.Responsável Atual: Mara Lúcia Barbalho da Cruz – Conselheira Presidente       2.1. Responsáveis pela administração do órgão no exercício auditado A análise quanto à responsabilidade dos atos praticados no exerício levou em consideração \\no art. 81, § 2°, do Ato n° 23 do TCM/PA (Regimento Interno do Tribunal de Contas do Estado do \\nPará), o qual assevera que os mandatos do Presidente, do Vice-Presidente e do Corregedor \\nprorrogar-se-ão até a posse efetiva dos respectivos sucessores. Nesse sentido, a gestão anterior \\n(2020) se estendeu até o dia 14/01/2021, de modo que o mandato da nova Presidente iniciou-se no \\ndia imediatamente posterior (em 15/01/2021). Ademais, verificou-se, em consulta ao Sistema \\nIntegrado de Administração Financeira para Estados e Municípios (Siafem), que não houve \\nmovimentação orçamentária e financeira no período entre 01 e 14 de janeiro de 2021.           Quadro 1 – Responsáveis pela administração do ÓrgãoExercícioNº Processo Gestor AtuaçãoFundamento\\n2021011165/2022Mara Lúcia Barbalho da Cruz15/01 a 31/12/2021Termo de posse n° 71, \\nDiário Oficial Eletrônico \\ndo TCM/PA n° 9412.2. Unidades Gestoras: 2.2.1.Tribunal de Contas dos Municípios do Estado do Pará – TCM/PA O Tribunal de Contas dos Municípios do Estado do Pará (TCM-PA) é um órgão estadual \\nindependente, o qual possui como principal finalidade o controle externo da Administração Pública \\nMunicipal, em auxílio às Câmaras Municipais, conforme previsão contida no art. 71, §1º, da \\nConstituição do Estado do Pará.Atualmente, a estrutura administrativa e o funcionamento do órgão são regidos pela Lei \\nComplementar estadual nº 109, de 27 de dezembro de 2016 (Lei Orgânica do TCM/PA), a qual é \\nregulamentada pelo Ato nº 23, de 16 de dezembro de 2020 (Regimento Interno do TCM/PA). Nesse \\ntocante, é importante assinalar que o inciso I do art. 15, da Lei Orgânica do TCM/PA, estabelece ', metadata={'source': '../dados//relatorio_auditoria_TC_011165_2022_RTC_97_2022.pdf', 'page': 2}),\n",
       " Document(page_content='                    TRIBUNAL DE CONTAS DO ESTADO DO PARÁ                                                         Secretaria de Controle Externo – 1ª CCG 4 que compete ao Presidente do órgão a direção daquela Corte de Contas, motivo pelo qual se torna, \\nautomaticamente, ordenador de despesas. 2.2.2.Fundo de Modernização, Reaparelhamento e Aperfeiçoamento do Tribunal de Contas dos    \\nMunicípios do Estado do Pará -  FUMREAP Instituído pela Lei Ordinária N° 7.368, de 29 de dezembro de 2009, o FUMREAP tem por \\nfinalidade complementar os recursos financeiros indispensáveis às ações do Tribunal de Contas dos \\nMunicípios do Estado do Pará, seus programas e projetos de desenvolvimento, aperfeiçoamento e \\nespecialização de seus recursos humanos, bem como, o seu aparelhamento técnico administrativo, \\nmediante: I - Concepção, desenvolvimento, viabilização, execução de planos, programas e \\nprojetos de aprimoramento, descentralização e reaparelhamento dos serviços \\nafetos ao Tribunal de Contas dos Municípios do Estado do Pará; II - Adaptação, reforma, restauração e ampliação de suas instalações, com vistas \\nà adequação de órgãos, unidades e serviços vinculados às atividades do Tribunal \\nde Contas dos Municípios do Estado do Pará; III - Treinamento e aperfeiçoamento de pessoal, inclusive mediante co-\\nparticipação com entidades científicas, educacionais e culturais, públicas ou \\nprivadas, nacionais ou internacionais, na promoção de eventos que visem à \\natualização, aperfeiçoamento e especialização dos Conselheiros e Servidores do \\nTribunal de Contas dos Municípios do Estado do Pará; IV - Aquisição de equipamentos, mobiliário e materiais permanentes para fins de \\nsuprimento dos serviços; V - Melhora do nível de informatização na tramitação dos processos, mediante \\naquisição de equipamentos e utilização de novos sistemas de informática, \\nmicrofilmagem, reprografia e outros meios tecnológicos capazes de obter maior \\nceleridade, eficiência e segurança na prestação jurisdicional; VI - Eventual concessão de bolsas de estudo para seu pessoal, quando matriculado \\nem cursos de especialização em área de interesse do Tribunal de Contas dos \\nMunicípios do Estado do Pará, obedecidos os critérios e condições previstas no \\nregulamento específico; VII - Publicação de livros técnicos e manuais de orientação a gestores públicos, \\ncujo tema ou matéria sejam compatíveis com a atividade de controle externo; ', metadata={'source': '../dados//relatorio_auditoria_TC_011165_2022_RTC_97_2022.pdf', 'page': 3}),\n",
       " Document(page_content='                    TRIBUNAL DE CONTAS DO ESTADO DO PARÁ                                                         Secretaria de Controle Externo – 1ª CCG 5 VIII - realização de cursos, pesquisas, palestras, simpósios, seminários e \\ncongressos ou eventos similares sobre questões relacionadas com as técnicas de \\ncontrole externo da Administração Pública.No que tange ao seu financiamento, o art. 3º da referida lei estadual prevê diversas fontes \\nde recursos, incluindo transferências voluntárias da Administração Estadual, dotações consignadas \\nno orçamento e as resultantes de créditos adicionais que lhe sejam consignados, bem como, o saldo \\nfinanceiro apurado no balanço anual do próprio FUMREAP.Ademais, de acordo com o art. 4º da mencionada lei, caberá ao Presidente do Tribunal de \\nContas dos Municípios do Estado do Pará a gestão da administração e movimentação de seus \\nrecursos financeiros e o ordenamento das despesas, facultada a delegação.3. INTRODUÇÃO E OBJETIVO 3.1. Da AuditoriaTratam os autos da prestação de contas relativa ao exercício 2021 do Tribunal de Contas \\ndos Municípios do Estado do Pará (TCM-PA) e do Fundo de Modernização, Reaparelhamento e \\nAperfeiçoamento do TCM (FUMREAP), a qual foi formalizada de forma agregada, nos termos do \\nart. 2º, inciso IV, da Resolução TCE/PA nº 18.919/2017, constituindo, portanto, documentos e \\ninformações de ambas as unidades jurisdicionadas, os quais foram autuados, nos termos do art. 9º \\ndaquela Resolução, e passaram a formar o Processo nº 01116-5/2022.Por meio da Auditoria, foram verificadas a legalidade e a legitimidade dos atos de gestão \\ndos responsáveis pela aplicação dos recursos da Unidade Gestora auditada, no que concerne aos \\naspectos contábil, financeiro e orçamentário. Dessa forma, buscou-se averiguar o atendimento aos \\npreceitos legais e normativos, bem como aos princípios que devem nortear a Administração Pública  \\nno desempenho de suas funções.3.2. Do Objetivo O objetivo da auditoria é a análise e emissão de relatório técnico sobre a gestão dos bens e \\ndos valores públicos referentes ao exercício de 2021. Nesse sentido, em função do volume de \\ninformações presentes na Prestação de Contas referente ao exercício ora em análise, foi necessária \\na utilização da técnica de amostragem, para formação de um escopo significante.Conforme disposições contidas na Resolução TCE/PA nº 17.842/2010, a significância \\nengloba três aspectos, quais sejam: relevância, materialidade e risco. Nesse sentido, a fim de ', metadata={'source': '../dados//relatorio_auditoria_TC_011165_2022_RTC_97_2022.pdf', 'page': 4}),\n",
       " Document(page_content='                    TRIBUNAL DE CONTAS DO ESTADO DO PARÁ                                                         Secretaria de Controle Externo – 1ª CCG 6 verificar tais critérios, foram analisados os empenhos realizados por ambas as Unidades Gestoras. \\nCom relação ao FUMREAP, tem-se que, conforme consulta no Siafem/2021, foi empenhado \\nsomente o montante de R$ 3.057,24 (três mil e cinquenta e sete reais e vinte e quatro centavos). \\nNesse sentido, as despesas em questão fogem dos critérios materialidade e relevância, motivo pelo \\nqual serão analisadas tão somente as receitas do FUMREAP, em tópico próprio.Com relação aos valores empenhados a partir da UG do TCM (030101), observa-se, de \\nacordo com o elemento de despesa correspondente,  a seguinte distribuição das despesas com maior \\nmaterialidade no exercício:Quadro 3  – Percentual de despesas empenhadas pelo TCM/PA por elemento de despesa\\nFonte: Siafem/2021Desse modo, observa-se que o valor mais expressivo empenhado pelo TCM/PA, no \\nexercício de 2021, refere-se às parcelas relativas a gastos com pessoal do órgão – vencimentos e \\nvantagens fixas – pessoal civil (319011); aposentadorias e reformas (319001); obrigações patronais \\n(319013); e às despesas de exercícios anteriores relativas a pessoal (319092). Nesse sentido, mostra-\\nse relevante verificar, na presente análise, se tais montantes não vieram a extrapolar os limites da \\nLei de Responsabilidade Fisical, o que poderia trazer implicações para as contas do exercício ora \\nanalisado, haja vista a relevância da gestão fiscal responsável no âmbito da Administração Pública, \\nbem como dos riscos inerentes à inobservância de tais preceitos para a higidez econômico-financeira \\ndo órgão.Ademais, considerando-se que além de gastos com pessoal, houve volume considerável de \\nrecursos despendidos no elemento de despesa \"outros serviços de terceiros – pessoa jurídica \\n(339039)”, bem como os riscos que envolvem as contratações públicas (incluindo-se falhas \\noperacionais e efetivos dano ao erário), também foi necessária a análise de alguns contratos ', metadata={'source': '../dados//relatorio_auditoria_TC_011165_2022_RTC_97_2022.pdf', 'page': 5}),\n",
       " Document(page_content='                    TRIBUNAL DE CONTAS DO ESTADO DO PARÁ                                                         Secretaria de Controle Externo – 1ª CCG 7 significativos que foram firmados e/ou executados no exercício de 2021, conforme disposto na \\ntabela a seguir:    Quadro 4 – Contratações Analisadas Empresa CNPJContrato/Substitutivo \\nde Contrato nºModalidade\\n001/2016Pregão \\nEletrônico N° \\n2015/011/TCM\\nA Santos Leal Serviços Ltda.10.464.862/0001-29003/2016Pregão \\nEletrônico N° \\n2015/012/TCMBraz & Braz Ltda.10.251.429/0001-05 001/2021Pregão \\nEletrônico N° \\n2020/12/TCM03/2017Pregão \\nEletrônico N° \\n02/201724/2020Dispensa de \\nLicitação \\n(PA202112891)\\nAmazon Card’s SS Ltda.63.887.699/0001-7303/2021Dispensa de \\nLicitação \\n(PA202112891)Polo Vigilância Especializada Eireli02.650.833/0001-23 014/2019Pregão \\nEletrônico N° \\n2019/03/TCMPedragon Autos Ltda.03.935.826/0001-30 02/2021Pregão \\nEletrônico Nº \\n15/2020/TCM    Fonte: Siafem/2021 Para o cumprimento da finalidade da presente Auditoria Programada, foram elaborados \\nquestionamentos relacionados às receitas do FUMREAP, aos gastos com pessoal do TCM/PA, aos \\nprocessos licitatórios, à execução contratual, à repactuação da avença e ao cumprimento aos \\nnormativos legais, conforme relatados a seguir:a) Os gastos com pessoal do TCM/PA se mantiveram dentro dos patamares estabelecidos pela \\nLRF?b) As receitas do FUMREAP seguiram as determinações legais pertinentes no que tange à \\nrespectiva fonte?c) Houve a devida publicidade dos procedimentos licitatórios ou de contratações diretas?d) Houve comprovação dos pressupostos exigidos legalmente nas prorrogações contratuais?e) As aquisições e prestações de serviços estavam de acordo com os contratos firmados?f) Foi especialmente designado pela Administração representante para realização da tarefa \\nde fiscalização e a execução do contrato foi efetivamente acompanhada e fiscalizada?g) Houve reserva de dotação orçamentária para atendimento das despesas contratuais?', metadata={'source': '../dados//relatorio_auditoria_TC_011165_2022_RTC_97_2022.pdf', 'page': 6}),\n",
       " Document(page_content='                    TRIBUNAL DE CONTAS DO ESTADO DO PARÁ                                                         Secretaria de Controle Externo – 1ª CCG 8 h) A execução das despesas está de acordo com a dotação orçamentária estabelecida no \\nexercício?i) Os pagamentos foram efetuados em conformidade com as cláusulas definidas nos contratos \\ne demais termos aditivos e/ou especificação dos contratados?j) A execução orçamentária das despesas seguiu suas estapas regulares de execução?\\nA execução dos trabalhos de auditoria fundamentou-se nos seguintes instrumentos legais e \\nnormativos:a) Constituição Federal de 1988;b) Constituição do Estado do Pará de 1989c) Lei Federal nº 4.320/1964d)  Lei Federal nº 8.666/1993 e)  Lei Complementar Federal n° 101/2000 f)  Lei Complementar Estadual nº 81/2012 (Lei orgânica do TCE/PA);g)  Ato nº 63/2012 (Regimento Interno do TCE/PA); h) Resolução TCE/PA n° 17.842/2010;i)  Resolução TCE/PA nº 18.545/2014;j)  Lei Estadual nº 5.416/1987;k)   Lei nº 9.160 de 06/01/2021;l)   Lei nº 9.105 de 21/07/2020;m)  Lei n° 5.654 de 23/01/1991 – Lei Orgânica do Tribunal de Contas dos Municípiosn)  Ato n° 23/2020 – Regimento Interno do Tribunal de Contas dos Municípios do Pará; \\nPara instrução dos autos, salienta-se a não imposição de restrição em face do método \\naplicado ou da execução dos trabalhos. Ressalta-se, ainda, que não foram utilizados recursos do \\nFundo de Modernização, Reaparelhamento e Aperfeiçoamento do TCM- FUMREAP no escopo \\namostral, relacionado na Solicitação de Documentos e Informações – SDI nº 01/2022.4. RESULTADO DA FISCALIZAÇÃOConcluídos os trabalhos relativos ao exame da prestação de contas de gestão referente ao \\nexercício 2021 do Tribunal de Contas dos Municípios do Estado do Pará (TCM-PA), são \\napresentados, a seguir, os comentários e observações pertinentes:', metadata={'source': '../dados//relatorio_auditoria_TC_011165_2022_RTC_97_2022.pdf', 'page': 7}),\n",
       " Document(page_content='                    TRIBUNAL DE CONTAS DO ESTADO DO PARÁ                                                         Secretaria de Controle Externo – 1ª CCG 9 4.1. Quanto à Remessa da prestação de ContasDe acordo com o art. 140 do RITCE/PA (Ato n° 63/2012 e atualizações), a remessa das \\nprestações de contas de gestão, perante esta Corte de Contas, deve ocorrer até o dia 31 de março do \\nano subsequente. Conforme consulta ao Fiscalis, verifica-se a seguinte situação quanto à remessa \\ndas contas do TCM/PA e do FUMREAP relativas ao exercício de 2021:                   Quadro 5 – Encaminhamento das contasSiglaUnidade JurisdicionadaTipoPrazoRemessaTCMPATribunal de Contas dos \\nMunicípios do Estado do ParáAgregadoraFUMREAPFundo de Modernização. \\nReaparelhamento e \\nAperfeiçoamento do TCM/PAAgregada\\n31/03/202230/03/2022        Fonte: FiscalisPortanto, o encaminhamento da prestação de contas do TCM/PA e agregada, relativa ao \\nexercício de 2021, atendeu ao prazo regulamentar pertinente.4.2. Quanto à Execução Orçamentária e Financeira  De acordo com a Lei nº 9.160/2021 (Lei Orçamentária Estadual), que estimou a Receita e \\nfixou a Despesa do Estado do Pará para o exercício de 2021, a dotação inicial para o Tribunal de \\nContas dos Municípios do Estado do Pará – TCM/PA previu o valor de R$ 191.540.864,00 (cento \\ne noventa e um milhões, quinhentos e quarenta mil, oitocentos e sessenta e quatro reais), conforme \\nabaixo:                      Quadro 6: Dotação Inicial                                                                    R$ (1,00)FONTE VALOR TESOURO 188.558.790,00 OUTRAS FONTES 2.982.074,00 T O T A L 191.540.864,00                               Fonte: Orçamento estadual (DOE de 08/01/2021, p. 75)Em consulta ao Siafem/PA, essa dotação inicial foi atualizada por meio de créditos \\nadicionais originários do superávit financeiro (R$ 5.000.000,00), do excesso de arrecadação (R$ \\n36.036.908,30) e de créditos adicionais de outros poderes (R$ 20.783.586,00). Ao final do exercício, \\napós empenhos, reforços, anulações e descentralizações de créditos, as despesas resultaram em \\ndotação atualizada para o TCM/PA, na ordem de R$ 28.774.174,54 (vinte e oito milhões, setecentos \\ne setenta e quatro mil, cento e setenta e quatro reais e cinquenta e quarto centavos) na unidade ', metadata={'source': '../dados//relatorio_auditoria_TC_011165_2022_RTC_97_2022.pdf', 'page': 8}),\n",
       " Document(page_content='                    TRIBUNAL DE CONTAS DO ESTADO DO PARÁ                                                         Secretaria de Controle Externo – 1ª CCG 10 gestora (UG) 030101 e de R$ 857.690,76 (oitocentos e cinquenta e sete mil, seiscentos e noventa \\nreais e setenta e seis centavos) na unidade gestora (UG) 030102, conforme movimentação a seguir: Quadro  7– Movimentação Orçamentária – TCM                                                                                  R$1,00                                                                           \\nMovimentação UG 030101UG 030102Total Unidades Gestoras \\nAgregadasCrédito Inicial191.540.864,00 0,00191.540.864,00 (+)Provisão Recebida 0,00 860.748,00 860.748,00 (+)Suplementação61.820.494,30 0,0061.820.494,30 (-)Cancelamento de dotações suplementares22.183.586,00 0,0022.183.586,00 (+)Total créditos iniciais231.177.772,30860.748,00 232.038.520,30 (+)Emissão de empenhos206.567.643,181.997,15206.569.640,33 (+)Reforço de empenhos15.401.437,981.500,00 15.402.937,98 (-)Anulação de empenhos22.785.203,00439,9122.785.642,91 (-)Total empenhos/anulações199.183.878,163.057,24 199.186.935,40 (-)Provisão concedida 860.748,000,00860.748,00 (-)Destaque Concedido 2.358.971,60 0,002.358.971,60 (-)Recebimentos/concessões de créditos3.219.719,60 0,003.219.719,60 Crédito Disponível28.774.174,54857.690,76 29.631.865,30  Fonte: Siafem/2021\\nNa  movimentação do quadro 7 acima, também se constatou, que dos recursos \\norçamentários disponibilizados, foram aplicados R$ 199.186.973,40 (cento e noventa e nove \\nmilhões, cento e oitenta e seis mil, novecentos e setenta e três reais e quarenta centavos), \\nconsiderando a soma dos valores empenhados em ambas as Unidades Gestoras: Quadro 8 – Valor aplicado                                                                                                            R$1,00 DISPÊNDIOSUG 030101UG 030102 TOTALOrçamentários 199.183.878,16 3.057,24 199.186.935,40  Fonte: Business Objects – BO/exercício 2021 No detalhamento do Balanço Financeiro, observou-se que  os recursos  despendidos  pelo \\nTCM/PA, no exercício de 2021, foram alocados da seguinte forma: Despesas Orçamentárias, \\nTransferências Financeiras Concedidas e Pagamentos Extraorçamentários, no total de R$ \\n274.613.175,16 (duzentos e setenta e quatro milhões, seiscentos e treze mil, cento e setenta e cinco \\nreais e dezesseis centavos), na UG 030101 e  Despesa Orçamentária no valor de R$ 3.057,24  (três ', metadata={'source': '../dados//relatorio_auditoria_TC_011165_2022_RTC_97_2022.pdf', 'page': 9}),\n",
       " Document(page_content='                    TRIBUNAL DE CONTAS DO ESTADO DO PARÁ                                                         Secretaria de Controle Externo – 1ª CCG 11 mil, cinquenta e sete reais e vinte e quatro centavos), na UG 030102. A  disponibilidade de Caixa está demonstrada no superavit financeiro do exercício, no \\nimporte de R$ 120.424.892,62 (cento e vinte milhões, quatrocentos e vinte e quatro mil, oitocentos \\ne noventa e dois reais e sessenta e dois centavos) na UG 030101 e R$ 4.292.016,51 (quatro \\nmilhões, duzentos e noventa e dois mil, dezesseis reais e cinquenta e um centavos) na UG 030102, \\nevidenciando-se a solidez financeira, conforme quadro a seguir:   Quadro 9 – Balanço Financeiro                                                                                                              R$1,00 RECEITADESPESAIngressosDispêndios\\nDiscriminaçãoUG030101UG030102Discriminação UG030101UG030102Transferências \\nFinanceiras \\nRecebidas233.347.737,21696.227,66Despesa orçamentária199.183.878,16 3.057,24\\nOrdinária199.183.878,16-Recursos ordinários do tesouro \\nEstadual199.183.878,16-Vinculada0,003.057,24 Rec. Destinado a previdência \\nsocial-RPPS--Rec. Prov. De Transf. \\nConvênios e afins--Rec. Destinados a Fundo dos \\nPoederes- 3.057,24 Outras destinações de recursos--Transferencias Financeiras \\nConcedidas5.017.674,30 0,00Transferência Concedida p/ \\nexecução orçamentária50.814,76                    \\n-   Transferencia Concedida p/ \\naportes recursos p/RPPS4.966.859,54                    \\n-   \\nTransf. \\nRecebida p/ \\nexec. \\norçamentária233.347.737,21696.227,66   Recebimentos \\nExtraorçament\\nários114.183.157,79 0,00Pagamentos \\nExtraorçamentários70.411.622,70 0,00Consignações 48.823.081,68                    -   Consignações     \\n48.774.054,82  Restos a Pagar \\ndo Exercício-\\ninsc.44.401.393,43                    -   Restos a Pagar de Exerc. Ant. \\nbaixa          \\n193.596,94                     \\n-   Recursos \\nFinanceiros \\nDiferidos20.956.568,00                    -   Recursos Financeiros Diferidos     \\n21.443.970,94                     \\n-   Ganhos com a \\ndesincorporaçã\\no de passivos2.114,68                    -   Outros créditos a receber e \\nvalores a CP                         \\n-                       \\n-   ', metadata={'source': '../dados//relatorio_auditoria_TC_011165_2022_RTC_97_2022.pdf', 'page': 10}),\n",
       " Document(page_content='                    TRIBUNAL DE CONTAS DO ESTADO DO PARÁ                                                         Secretaria de Controle Externo – 1ª CCG 12       Saldo do \\nExercício \\nAnterior47.507.172,78 3.598.846,09Saldo para o exercício \\nseguinte120.424.892,624.292.016,51Caixa e \\nEquivalente de \\nCaixa47.507.172,78 3.598.846,09 Caixa e equivalentes de caixa120.424.892,624.292.016,51      Total395.038.067,78 4.295.073,75Total 395.038.067,784.295.073,75Fonte: Fiscalis/Balanço Financeiro4.3. Quanto às Receitas do FUMREAPConforme consultas realizadas no Siafem/2021, observou-se que o FUMREAP auferiu R$ \\n696.277,00 (seiscentos e noventa e seis mil, duzentos e setenta e sete reais) naquele exercício, além \\ndo superávit de R$ 3.598.846,00 (três milhões, quinhentos e noventa e oito mil, oitocentos e \\nquarenta e seis reais) relativo a exercícios anteriores.Com relação ao primeiro dos valores, observa-se que R$ 160.492,70 (cento e sessenta mil, \\nquatrocentos e noventa e dois reais e setenta centavos) foram advindos da fonte de recursos 0112 \\n(Receita Patrimonial – Outros Poderes) e R$ 535.734,96 (quinhentos e trinta e cinco mil, setecentos \\ne trinta e quatro reais e noventa e seis centavos) foram oriundos da fonte de recursos 0175 (Fundo \\nde Modernização, Reaparelhamento e Aperfeiçoamento do TCM/PA), de modo que estes últimos \\nadviram de multas executadas pelo órgão, enquanto os primeiros foram relativos a rendimentos das \\nrespectivas aplicações financeiras.Tais valores estão expressamente previstos no art. 3º, da Lei estadual nº 7.368/2009:Art. 3° São fontes de receita do FUMREAP: (...)III - o produto da arrecadação das multas previstas no art. 57 da Lei Complementar nº 25, de 08 \\nde agosto de 1994, aplicáveis à pessoa física, órgão ou entidade que atuem na condição definida \\nno art. 29 da mesma Lei (...)VI - os rendimentos das aplicações financeiras do FUMREAP (...).Desse modo, verifica-se a regularidade das receitas destinadas, no exercício de 2021, ao \\nFundo de Modernização, Reaparelhamento e Aperfeiçoamento do TCM/PA.4.4. Quanto aos gastos com pessoal do TCM/PA no exercício de 2021Conforme determina o art. 54, da Lei Complementar nº 101/2000 (Lei de Responsabilidade \\nFiscal – LRF), ao final de cada quadrimestre os poderes e órgãos independentes emitem Relatório \\nde Gestão Fiscal (RGF) contendo várias disposições, entre elas, o montante da despesa total com \\npessoal (art. 55, I, “a”), oportunidade em que é possível verificar o atendimento aos limites de gastos ', metadata={'source': '../dados//relatorio_auditoria_TC_011165_2022_RTC_97_2022.pdf', 'page': 11}),\n",
       " Document(page_content='                    TRIBUNAL DE CONTAS DO ESTADO DO PARÁ                                                         Secretaria de Controle Externo – 1ª CCG 13 com pessoal contidos no art. 20 da mesma Lei. Especificamente com relação TCM/PA, tem-se que, pelo fato de ser considerado um órgão \\nautônomo no âmbito da Administração Pública Estadual, seu limite específico de gastos com \\npessoal estava previsto na Resolução TCE/PA nº  17.793/2009, qual seja, 0,60% da Receita Corrente \\nLíquida (RCL) estadual1, considerando-se o mês de referência e os onze meses imediatamente \\nanteriores. Diante disso, o limite de alerta e o limite prudencial, nos termos dos arts. 22, parágrafo \\núnico, e 59, §1º, inciso II, ambos da LRF, seriam, respectivamente, de 0,54% e 0,57 % da RCL.Nesse passo, a tabela a seguir demonstra o percentual dos gastos com pessoal do TCM/PA, \\ncom relação à RCL estadual, nos três quadrimestres de 2021:Quadro 10 – Percentual de Gastos com Pessoal do TCM/PA em 2021QuadrimestreLimite MáximoLimite PrudencialLimite de AlertaPercentual Atingido \\npelo TCM/PA1º/20210,46%2º/20210,48%3º/2021\\n0,60%0,57%0,54%0,48%  Fonte: Processos TC/006481/2021, TC/012604/2021 e TC/002235/2022Desse modo, verifica-se que ao longo de todo o exercício de 2021 o gasto com pessoal do \\nTCM/PA esteve abaixo do limite de alerta, demonstrado equilíbrio com relação ao referido critério \\nde gestão fiscal responsável.5. ANÁLISE DAS CONTRATAÇÕES SELECIONADASOs documentos solicitados ao TCM/PA, por meio da SDI nº 001/2022, foram \\ndisponibilizados por meio do Sistema de Processo Eletrônico “e-TCE”, conforme expedientes nº \\n014762/2022 e nº 015116/2022, de modo que alguns esclarecimentos e documentos \\ncomplementares foram encaminhados via e-mail institucional por parte da servidora designada pelo \\nTCM/PA para acompanhamento dos trabalhos de Auditoria.5.1. A Santos Leal Serviços Ltda5.1.1.Termos Aditivos ao Contrato n° 001/2016Em 05/01/2016, o TCM/PA firmou junto à empresa A. Santos Leal Serviços Ltda, o \\nContrato nº 001/2016, cujo objeto foi a prestação de serviços de mão de obra terceirizada nas 1 De acordo com o art. 2º, da LRF, considera-se RCL estadual somatório das receitas tributárias, de contribuições, \\npatrimoniais, industriais, agropecuárias, de serviços, transferências correntes e outras receitas também correntes, \\ndeduzidas as parcelas entregues aos Municípios por determinação constitucional. ', metadata={'source': '../dados//relatorio_auditoria_TC_011165_2022_RTC_97_2022.pdf', 'page': 12}),\n",
       " Document(page_content='                    TRIBUNAL DE CONTAS DO ESTADO DO PARÁ                                                         Secretaria de Controle Externo – 1ª CCG 14 funções especificadas no respectivo Termo de Referência (assistente administrativo, motorista e \\nserviços gerais para limpeza, asseio e conservação geral), incluindo fornecimento de equipamentos \\ne materiais necessários para a execução dos serviços.O valor global do contrato firmado foi de R$ 1.525.600,00 (um milhão, quinhentos e vinte \\ne cinco mil e seiscentos reais), com valor mensal do contrato inicial de R$ 127.133,33 (cento e vinte \\ne sete mil, cento e trinta e três reais e trinta e três centavos). Já a vigência contratual foi estipulada \\nem 12 (doze) meses, iniciando-se na data de assinatura do instrumento contratual, com possibilidade \\nde prorrogação, nos termos do art. 57, da Lei nº 8.666/1993 e alterações, desde que fosse observado \\no prazo máximo de 60 (sessenta) meses.Conforme documentação apresentada pelo órgão, ao longo da execução contratual foram \\ncelebrados doze termos aditivos, de modo que o 11º e o 12º Termos Aditivos foram celebrados no \\nexercício de 2021 e a vigência do Décimo Termo Aditivo se estendeu até o exercício em questão, \\nconforme se observa na tabela a seguir:Quadro 11 – Relação de Termos Aditivos ao Contrato nº 001/2016Termo AditivoData de Celebração Principais Disposições\\n10º05/12/2019Prorrogação do prazo da vigência do Contrato inicial por mais \\n12 (doze) meses, no período de 05 de janeiro de 2020 a 04 de \\njaneiro de 2021.11º04/01/2021Prorrogação excepcional do prazo do Contrato inicial pelo prazo \\nde 6 (seis) meses, no período de 05 de janeiro a 04 de julho de \\n2021, com fundamento no §4° do art. 57 da Lei n° 8.666/93.12º01/07/2021- Repactuação/reequilíbrio econômico-financeiro, com fulcro no \\nart. 65, inciso I, alínea “d”, da Lei nº 8.666/1993; - Prorrogação excepcional do prazo de vigência do Contrato nº \\n001/2016, por até 06 (seis) meses, no período de 05/07/2021 a \\n04/01/2022, com fundamento no §4º, do art. 57, da Lei nº \\n8.666/1993.Fontes: Documentação apresentada pelo jurisdicionado via e-TCE; Portal da Transparência do TCM/PA Por tratar-se de contrato de prestação de serviços contínuos, a regra estabelecida pelo inciso \\nII do art. 57, da Lei nº 8.666/1993, é a de que poderão ser prorrogados por iguais e sucessivos \\nperíodos com vistas à obtenção de preços e condições mais vantajosas para a administração, limitada \\na 60 (sessenta) meses. Entretanto, o §4º, do artigo mencionado ressalta que, em caráter excepcional, \\ndevidamente justificado e mediante autorização da autoridade superior, o prazo de 60 (sessenta) \\nmeses em questão poderá ser prorrogado por até doze meses. Nesse sentido, a referida prorrogação \\nseguiu os ditames legais.No que tange à repactuação, tem-se que esta se deu em razão da Convenção Coletiva \\n2021/2022, cujos reflexos financeiros impactaram no custo da contratada para execução dos \\nserviços. O pedido de repactuação, por parte da contratada, foi analisado pelo setor técnico do ', metadata={'source': '../dados//relatorio_auditoria_TC_011165_2022_RTC_97_2022.pdf', 'page': 13}),\n",
       " Document(page_content='                    TRIBUNAL DE CONTAS DO ESTADO DO PARÁ                                                         Secretaria de Controle Externo – 1ª CCG 15 TCM/PA, bem como pela Assessoria Jurídica, tendo ambos os setores se manifestado \\nfavoravelmente. Destarte observa-se que a requisição de alteração contratual em questão, encontra-\\nse de acordo com o instrumento contratual e a alteração de custo, decorrente de Convenção Coletiva, \\nexige o reequilíbrio econômico-financeiro contratual, nos termos do art. 65, II, alínea “d”, da Lei nº \\n8.666/1993.Ao consultar o Siafem/PA, verificou-se que, no exercicio de 2021, houve o dispêndio \\nlíquido  referente a esta contratação no valor de  R$ 1.973.881,53 (um milhão, noventos e setenta e \\ntrês mil, oitocentos e oitenta e um reais e cinquenta e três centavos). Ao se examinarem os \\ndocumentos  comprobatórios destas despesas, apurou-se que:a) No exercício ora analisado, por  ocasião do 12º Termo Aditivo, houve uma \\nrepactuação/reequilíbrio ajustando o valor mensal para R$ 207.337,96 (duzentos e sete mil, \\ntrezentos e trinta e sete reais e noventa e seis centavos), e, desta forma, o valor pago anual, \\nlíquido das retenções tributárias, importou em R$ 1.973.881,53 (um milhão, novecentos e \\nsetenta e três mil, oitocentos e oitenta e um reais e cinquenta e três centavos), conforme \\nresumo no quadro 12 abaixo:    Quadro 12 – Execução da Despesa                                                                                                            R$ 1,00 Nota de EmpenhoNota FiscalOrdem BancáriaNEs TIPOVALORDATANº ValorDATANºValor02/02/2021354196.622,0605/02/202100119169.291,6104/03/2021363196.622,0610/03/202100296169.291,6106/04/2021372196.622,0612/04/202100448169.291,6103/05/2021374196.622,0606/05/202100622169.291,6109/06/2021380196.622,0615/06/202100825169.291,61\\n00074, 00075, \\n00484, 00485, \\n00487, 01317original2.109.673,0206/07/2021391196.622,0613/07/202101003169.291,6106/07/202140164.295,4028/07/20210115453.236,6011/08/2021402207.337,9518/08/202101288178.517,97\\n00181, 00182, \\n01104reforço589.867,0817/09/2021411207.337,9521/09/202101555178.517,9705/10/2021413207.337,9507/10/202101727178.517,9702/11/2021419207.337,9505/11/202101935178.517,9706/12/2021427207.337,9513/12/202102224178.517,97\\n00192, 00193, \\n01238anulação-196.623,0206/12/202144214.861,6218/12/20210236712.305,42 SALDO 2.502.917,08TOTAL2.295.579,13TOTAL 1.973.881,53  Fonte:   Siafem/PA 2021 e  peças 28,31-32 /expediente 15116/2022b) Os valores empenhados para execução da despesa, no montante de R$ 2.502.917,08 (dois \\nmilhões, quinhentos e dois mil, novecentos e dezessete reais e oito centavos) estão \\ncompatíveis com a previsão orçamentária definida na Lei orçamentária nº 9.160, de 06 de \\njaneiro de 2021 - OGE  para o Órgão e Cláusula Terceira constante no 12º Termo Aditivo ', metadata={'source': '../dados//relatorio_auditoria_TC_011165_2022_RTC_97_2022.pdf', 'page': 14}),\n",
       " Document(page_content='                    TRIBUNAL DE CONTAS DO ESTADO DO PARÁ                                                         Secretaria de Controle Externo – 1ª CCG 16 contratual, na funcional programática 01.122.1454.8559 - Projeto de Operacionalização da \\nGestão Admininstrativa, Fonte de recursos 0101 e Natureza de Despesa 339039;c) As notas de empenho 2021NE00192, 2021NE00193 e 2021NE01238, anularam \\nparcialmente os empenhos 2021NE00075, 2021NE00074 e 2021NE00484, \\nrespectivamente, devido saldo a maior;d) Os valores totais das retenções do Instituto Nacional de Seguro Social (INSS), Imposto \\nSobre Serviço (ISS) e Imposto de Renda Pessoa Jurídica (IRPJ), cujos documentos foram \\ndisponilizados por meio do expediente nº 15116/22, estão especificados abaixo e \\ncorrespondem à diferença entre o total liquidado e o total pago das despesas no exercício:                            Quadro 13 – Execução da Despesa                                             R$ 1,00 RETENÇÕES EspecificaçãoValor (R$)INSS179.371,71ISS114.778,95IRPJ27.546,94TOTAL321.697,60    Fonte: Elaborado pela equipe de Auditoria (peças 31e 32 - expediente \\n15116/22)e) Houve ainda, inscrição em Restos a Pagar no valor de R$ 207.337,95 (duzentos e sete mil, \\ntrezentos e trinta e sete reais e noventa e cinco centavos), o qual corresponde à diferença \\nentre o Total Empenhado e o Total Liquidado das despesas no exercício;f) Os pagamentos obedeceram à ordem cronológica de exigibilidade, acompanhados de \\ncertidões de regularidade junto à Fazenda Estadual, FGTS, Trabalhistas e Fazenda Federal. \\nAlém disso, não se identificou pagamento antecipado ou sem contraprestação e apurou-se \\nque houve a liquidação e, na sequência, o pagamento, em consonância com o firmado no art. \\n62, da Lei nº 4.320/64;g) Não obstante estar definida, na Cláusula Oitava do contrato, a atribuição pelo atesto da Nota \\nFiscal à Sra. Diene Bezerra dos Reis, Diretora Adjunta de Administração do TCM/PA, os \\ndocumentos fiscais emitidos em 2021 foram atestados  pelos servidores Carlos Lima Chamie \\ne Victor Bruno Pinto Vieira, designados por meio da Portaria TCM/PA nº 0833, de 02 de \\nagosto de 2021, para atuarem  como suplente e fiscal de contrato em questão.', metadata={'source': '../dados//relatorio_auditoria_TC_011165_2022_RTC_97_2022.pdf', 'page': 15}),\n",
       " Document(page_content='                    TRIBUNAL DE CONTAS DO ESTADO DO PARÁ                                                         Secretaria de Controle Externo – 1ª CCG 17 5.1.2.Termos Aditivos ao Contrato n° 003/2016Em 01/02/2016, o TCM/PA firmou, junto à empresa A Santos Leal Serviços Ltda, o \\nContrato nº 003/2016, cujo objeto foi a prestação de serviço continuado, com dedicação exclusiva, \\nde fornecimento de mão de obra para manutenção preventiva e corretiva nas instalações elétricas, \\nmecânicas e hidrossanitárias, rede lógica e reparos gerais do prédio sede. O valor global anual do contrato firmado foi de R$ 117.900,00 (cento e dezessete mil e \\nnovecentos reais), com valor mensal do contrato de R$ 9.825,00 (nove mil, oitocentos e vinte e \\ncinco reais), podendo esse ser alterado para maior ou menor, dentro dos limites estabelecidos pela \\nlegislação vigente, com fulcro no art. 65, § 1° da Lei n° 8.666/93.Ao longo da execução contratual foram celebrados 07 (sete) termos aditivos, de modo que, \\nno exercício de 2021, tais termos foram firmados da seguinte maneira:Quadro 14 – Relação de Termos Aditivos ao Contrato nº 003/2016Termo AditivoData de Celebração Principais Disposições\\n6º05/01/2021Prorrogação excepcional do prazo de vigência, por mais 06 \\n(seis) meses, pelo período de 01 de fevereiro de a 01 de agosto \\nde 2021, com fundamento no §4º do art. 57, da Lei nº \\n8.666/1993.7º28/07/2021Prorrogação excepcional do prazo do Contrato inicial pelo prazo \\nde 6 (seis) meses, no período de 02 de agosto de 2021 a 31 de \\njaneiro de 2022, com fundamento no §4° do Art. 57 da Lei n° \\n8.666/93.Fontes: Documentação apresentada pelo jurisdicionado via e-TCE; Portal da Transparência do TCM/PA. Por tratar-se de contrato de prestação de serviços contínuos, a regra estabelecida pelo inciso \\nII do art. 57, da Lei nº 8.666/1993, é a de que poderão ser prorrogados por iguais e sucessivos \\nperíodos com vistas à obtenção de preços e condições mais vantajosas para a administração, limitada \\na 60 (sessenta meses). Entretanto, o § 4º, do artigo mencionado ressalta que, em caráter excepcional, \\ndevidamente justificado e mediante autorização da autoridade superior, o prazo de 60 (sessenta) \\nmeses em questão poderá ser prorrogado por até 12 (doze) meses. Nesse sentido, a prorrogação \\ncitada seguiu os ditames legais.Ao consultar o Siafem/PA, verificou-se que, no exercicio de 2021, houve o pagamento \\nlíquido  em favor da empresa A Santos Leal Serviços Ltda., referente a esta tratativa, no valor de \\nR$ 186.007,24 (cento e oitenta e seis mil, sete reais e vinte e quatro centavos), cuja análise da \\nexecução orçamentária e financeira da despesa está resumida abaixo e teve como base a \\ndocumentação encaminhada por meio do expediente nº 015116/2022:a) Os  valores empenhados em 2021 no total de R$ 207.082,10 (duzentos e sete mil, oitenta e \\ndois reais e dez centavos) estão compatíveis com a previsão orçamentária Estadual definida ', metadata={'source': '../dados//relatorio_auditoria_TC_011165_2022_RTC_97_2022.pdf', 'page': 16}),\n",
       " Document(page_content='                    TRIBUNAL DE CONTAS DO ESTADO DO PARÁ                                                         Secretaria de Controle Externo – 1ª CCG 18 na Lei Orçamentária nº 9.160 de 06 de janeiro de 2021 – OGE  para o Órgão, assim como, \\ncom a Cláusula Oitava constante do instrumento contratual, na funcional 01.122.1454.8559, \\nprojeto de operacionalização da gestão admininstrativa, fonte de recursos 0101 e natureza de \\ndespesa 339039.     Quadro 15 – Execução da Despesa                                                                                                            R$(1,00) Nota de empenho Ordem BancáriaNEs TIPOVALOR\\nNF-e /ReciboValorNº Valor355 10.474,60 115 9.510,94Recibo2.900,50 287 2.900,50 364 10.474,60 434 9.510,94 373 10.474,60 444 9.510,94Recibo17.981,22 575 17.981,22 375 10.474,60 616 9.510,94 381 10.474,60 829 9.510,94 392 10.474,60 1021 9.510,94Recibo4.552,001029 4.552,00 403 10.474,60 1284 9.510,94 412 10.474,60 1559 9.510,94 414 10.474,60 1774 9.510,94Recibo55.953,18 1792 55.953,18 420 10.474,60 1949 9.510,94\\n00073, 00085, 00136, \\n00296, 00532, 00567, \\n00996original           \\n207.082,10 428 10.474,60 2208 9.510,94 SALDO 207.082,10SALDO196.607,50SALDO 186.007,24        Fontes:  Siafem/PA e documentação encaminhada b) Os documentos fiscais emitidos pela prestação dos serviços e identificados no quadro acima, \\nassim como os recibos, encontram-se atestados pelos servidores Carlos Lima Chamie, e \\nNathacha Silva Machado, nomeados como fiscais por meio da Portaria nº 1.166 de \\n02/10/2019 e Portaria nº 833 de 02/08/2021, observando assim a Cláusula contratual Décima \\nSegunda.c) Ainda quanto aos recibos em destaque, no valor total de R$ 81.386,90 (oitenta e um mil, \\ntrezentos e oitenta e seis reais e noventa centavos), identificou-se, na documentação \\nencaminhada,  que se referem aos ressarcimentos pelas peças, materiais e equipamentos \\nadquiridos pela empresa contratada, em cumprimento ao  apostilamento contratual  nº \\n002/2017 (peça 25, p.17). Em comprovação a tais aquisições, foram identificadas as  Notas \\nFiscais  conforme quadro abaixo:            Quadro 16 – Notas Fiscais referentes recibosLocalização Notas Fiscais Valor (R$) p. 7 a 15 (peça 25 exp. nº 015116/22) 2.900,50 p.80 a 104 (peça 25 exp. nº 015116/22) 17.981,22', metadata={'source': '../dados//relatorio_auditoria_TC_011165_2022_RTC_97_2022.pdf', 'page': 17}),\n",
       " Document(page_content='                    TRIBUNAL DE CONTAS DO ESTADO DO PARÁ                                                         Secretaria de Controle Externo – 1ª CCG 19 p. 152 a 175 (peça exp. nº 015116/22) 4.552,00 p. 260 a 286 (peça  25 exp. nº 015116/22) 55.953,18 Total 81.386,90               Fonte: expediente n° 015116/2022d) Após confirmação de disponibilidade orçamentária, o 1º Termo Aditivo ao contrato  alterou \\no valor mensal para R$ 10.474,60 (dez mil, quatrocentos e setenta e quatro reais e sessenta \\ncentavos)  e, assim, a emissão das Notas Fiscais, conforme quadro 15, equivaleu ao total de \\nR$ 115.220,60 (cento e quinze mil, duzentos e vinte reais e sessenta centavos),  que somados \\naos valores  ressarcidos, expressam um desembolso anual de R$ 196.607,50 (cento e noventa \\ne seis mil, seiscentos e sete reais e cinquenta centavos);e) Do saldo empenhado, o valor de R$10.474,60 (dez mil, quatrocentos e setenta e quatro reais \\ne sessenta centavos) referente à nota de de empenho 2021NE00567 (Nota Fiscal nº 430)  foi \\ninscrita em restos a pagar, sendo paga no exercicio seguinte por meio da ordem bancária \\n2022OB00016.f)Ressalta-se, ainda, que nas Notas Fiscais relacionadas no quadro 15 foram discriminados os \\nvalores dos tributos a serem retidos, tais como as contribuições previdenciárias, Imposto \\nSobre Serviço (ISS) e Imposto de Renda Pessoa Jurídica (IRPJ), conforme Quadro 17 a \\nseguir, cujos comprovantes das retenções foram identificados nas peças 24 e 25 do expediente \\nnº 015116/2022:                                                                             Quadro 17 - Retenções     RETENÇÕES EspecificaçãoValor (R$)Contribuições \\nPrevidenciárias6.337,10ISS2.880,46IRPJ1.382,70TOTAL10.600,26                                                         Fonte:  (peças 24 e 25 – Expediente nº 015116/2022)g) Em concordância com a Cláusula Nona, os pagamentos líquidos, após as retenções dos \\nimpostos, ocorreram em parcelas mensais iguais e sucessivas no valor de R$ 9.510,94 (nove \\nmil, quinhentos e dez reais e noventa e quatro centavos) alcançando, no exercicio, a \\nimportância de R$ 104.620,34 (cento e quatro mil, seiscentos e vinte reais e trinta e quatro \\ncentavos). Dessa forma, esta importância, somada aos valores ressarcidos, totaliza um \\ndispêndio no exercicio de R$ 186.007,24 (cento e oitenta e seis mil, sete reais e vinte quatro \\ncentavos);', metadata={'source': '../dados//relatorio_auditoria_TC_011165_2022_RTC_97_2022.pdf', 'page': 18}),\n",
       " Document(page_content='                    TRIBUNAL DE CONTAS DO ESTADO DO PARÁ                                                         Secretaria de Controle Externo – 1ª CCG 20 h) O pagamento obedeceu à ordem cronológica de exigibilidades prevista no art. 5º da Lei nº \\n8.666/93, não ocorrendo antecipações ou pagamentos sem contraprestação do serviço \\ncontratado;i)  Após empenho e verificação do direito adquirido pela contratada, mediante o documento \\ncomprobatório, atestado pelo fiscal do contrato, houve a liquidação e na sequência o \\npagamento em consonância com o firmado no art. 62, da Lei nº 4.320/64;j)  Por ocasião do pagamento, foram verificadas a regularidade fiscal e previdenciária da \\ncontratada, comprovada por meio de certidões válidas e comprovantes de recolhimento dos \\nimpostos retidos.5.2. Braz & Braz Ltda (Contrato nº 001/2021/TCM/PA)Em 15/01/2021, o TCM/PA firmou junto à empresa Braz & Braz Ltda, o Contrato nº \\n001/2021/TCM/PA, cujo objeto foi a prestação de serviços de locação de veículos, para atendimento \\naos Conselheiros e à Administração do órgão auditado, em tempo integral, com quilometragem \\nlivre, sendo 05 (cinco) veículos executivos do tipo “sedan” e 02 (dois) veículos utilitários do tipo \\n“pick up”. O valor global anual do contrato firmado foi de R$ 279.498,00 (duzentos e setenta e nove \\nmil, quatrocentos e noventa e oito reais). O contrato em questão foi oriundo do Pregão Eletrônico \\nnº 2020/12/TCM/PA. Não foram identificados termos aditivos ao contrato em questão na \\ndocumentação apresentada pelo órgão jurisdicionado.Ao consultar o Siafem/PA, quanto às despesas relativas a esta contratação, verificou-se que \\nhouve um comprometimento, no exercício em análise, no valor de R$ 246.567,21 (duzentos e \\nquarenta e seis mil, quinhentos e sessenta e sete reais e vinte e um centavos) por meio de notas de \\nempenho, cujas emissões apresentam-se em  conformidade com a Lei n° 4.320/64,  com a  Lei \\nOrçamentária n° 9.160, de 06/01/2021 – OGE 2021, assim como com o definido na Cláusula Quinta \\ncontratual: classificação orçamentária 03101.01.122.1454.8559, fonte 0101 e elemento de despesa \\n339033.Ainda, em consulta ao Siafem/PA, aferiu-se que houve pagamentos, no tocante a este \\ncontrato, no total de R$ 223.276,21(duzentos e vinte e três mil, duzentos e setenta e seis reais e vinte \\ne um centavos), de modo que, deste valor,  R$ 1.795,40 (um mil, setecentos e noventa e cinco reais \\ne quarenta centavos) refere-se a pagamentos por infração de trânsito, conforme resumo do Quadro \\n18 abaixo, cuja documentação comprobatória referente a esta despesa foi encaminhada por meio do \\nexpediente nº 015116/2022:', metadata={'source': '../dados//relatorio_auditoria_TC_011165_2022_RTC_97_2022.pdf', 'page': 19}),\n",
       " Document(page_content='                    TRIBUNAL DE CONTAS DO ESTADO DO PARÁ                                                         Secretaria de Controle Externo – 1ª CCG 21 Quadro 18 – Execução da Despesa                                                                                                                    R$(1,00)NOTA DE EMPENHONOTAS FISCAIS/GUIAS DE \\nRECOLHIMENTOORDEM BANCÁRIANes NºTIPOVALOR DATA NºVALORDATANºVALOR 10/03/2021 387511.857,3106/04/202142311.857,31 08/04/2021 402723.291,5022/04/202148423.291,50 11/05/2021 424323.291,5017/05/202165223.291,50 08/06/2021 439123.291,5016/06/202183423.291,50 09/07/2021 461323.291,5004/08/2021118123.291,50 06/08/2021 474323.291,5012/08/2021124323.291,50 08/09/2021 489023.291,5015/09/2021150623.291,50 06/10/2021 518723.291,5013/10/2021175123.291,50 05/11/2021 542723.291,5011/11/2021197823.291,50 06/12/2021 567923.291,5009/12/2021220023.291,50 26/05/2021 4332156,2005/07/2021964156,20 19/11/2021 455778,1022/07/2021109678,105294108,03\\n00017, 00387, 00486, 00568, \\n01096, 01326, 01070Original94.961,4021/10/20215295108,03\\n05/11/20211934216,0621/10/2021 5567104,1315/12/20212271104,135008104,135009156,185010104,135011104,135012104,135013104,135014104,135015117,145016104,13\\n00387 Reforço151.606,3123/09/20215017238,68\\n26/10/202118771.240,91TOTAL GERAL 246.567,71 TOTAL GERAL 223.276,21TOTAL GERAL223.276,21Fonte: Siafem/PA e expediente nº 015116/2022 (peças 3, 4 e 5)Evidencia-se que, em relação aos valores empenhados no Quadro 18, em consonância ao \\nprevisto na Cláusula Nona contratual, subitem 9.22, foram emitidas as Notas de Empenho nºs 00486, \\n00568, 01070, 01096 e 01326, cujos pagamentos foram efetivados, conforme mencionado no \\nparágrafo anterior. Não obstante estar prenunciado no termo contratual referido reembolso de eventuais \\nmultas, solicitaram-se informações ao TCM/PA sobre quais providências foram tomadas a fim de 2 “Arcar com as despesas de abastecimento de combustível e com o reembolso relativo ao pagamento de eventuais \\nmultas por infrações das leis de trânsito ocorridas no período de locação dos veículos”', metadata={'source': '../dados//relatorio_auditoria_TC_011165_2022_RTC_97_2022.pdf', 'page': 20}),\n",
       " Document(page_content='                    TRIBUNAL DE CONTAS DO ESTADO DO PARÁ                                                         Secretaria de Controle Externo – 1ª CCG 22 eliminar tal dispêndio, obtendo-se em resposta os esclarecimentos da Diretoria Adjunta de \\nAdmininstração evidenciados a seguir:“A Diretoria de Administração do TCMPA formalizou, ainda em 2021, a comunicação \\nàs chefias imediatas dos condutores identificados pelos veículos que apontaram \\ninfração de trânsito, assinalando as ocorrências e a impositiva necessidade de \\nrestituição aos cofres do Tribunal, acerca dos valores despendidos”. [...] Ao analisar \\nas condições de implementação desses procedimentos e consequente responsabilização \\ndos condutores que deram causa às multas, observou-se que, apesar da previsão \\ncontratual do pagamento das multas à titulo de reembolso à empresa contratada, não \\nse estaria observando o prazo mínimo necessário para a formalização de defesa, em \\nobservância ao assegurado direito constitucional”. ( p.2, item 14 /atos anexos).Por fim, quanto às providências relacionadas, informou que está em fase de conclusão a \\nedição de ato interno do Tribunal, visando dar maior conhecimento e formalização destes \\nprocedimentos, dentre os quais: (a) o “ressarcimento, corrigido pelo IPCA,  das multas já \\nreembolsadas pelo TCMPA à empresa contratada, pelo condutor responsável/gabinete”; (b) “a \\ncontratada cumpre o prazo de encaminhamento para dar direito ao servidor de ampla defesa”; e \\n(c) “não havendo manifestação pelo condutor responsável/gabinete, a contratada pagará a multa \\ne solicitará o reembolso, que será providenciado pelo TCM e o TCM encaminha multa, para \\ndesconto em contracheque”.Apurou-se, ainda, com relação aos valores demonstrados no Quadro 18, que a diferença \\nentre o total geral empenhado e os totais gerais efetivamente liquidados e pagos, na ordem de R$ \\n23.291,50 (vinte e três mil, duzentos e noventa e um reais e cinquenta centavos), foi paga  no \\nexercício seguinte, por meio da ordem bancária nº 2022OB00011 (NF  nº 5680).Na análise da documentação encaminhada, constatou-se que as faturas ora discriminadas, \\nem conformidade com o que fora especificado no subitem 10.3 da Cláusula Décima, foram atestadas \\npela servidora Ana Cristina Gonçalves Vieira (chefe da Dirmat/DAD/TCM) e pelo servidor  Carlos \\nAlberto Nunes, fiscais do contrato conforme Portaria nº 0251 de 5/2/2021, Diário Oficial Eletrônico \\ndo TCM/PA nº 964 de 22/02/2021, certificando assim a prestação dos serviços. No que se refere aos pagamentos, em conformidade ao definido na Cláusula Sexta,  \\nobservou-se que há proporcionalidade dos pagamentos mensais em relação ao valor global anual \\nestipulado, ademais, verificou-se que foram efetivados por meio de ordem bancárias e precedidos \\nde certidões de regularidade fiscal, com depósito na conta corrente da contratada.Igualmente, não se identificou pagamento antecipado ou sem contraprestação do serviço \\ncontratado, de modo que o pagamento obedeceu à ordem cronológica de exigibilidades prevista no \\nart. 5º da Lei nº 8.666/93, direcionando, assim, o entendimento pelo cumprimento às diretrizes \\nlegais.', metadata={'source': '../dados//relatorio_auditoria_TC_011165_2022_RTC_97_2022.pdf', 'page': 21}),\n",
       " Document(page_content='                    TRIBUNAL DE CONTAS DO ESTADO DO PARÁ                                                         Secretaria de Controle Externo – 1ª CCG 23 5.3. Amazon Card’s SS Ltda 5.3.1.Contrato nº 003/2017 Visando à contratação de empresa para fornecimento de bilhetes vale alimentação para \\natender as necessidades do TCM/PA, o órgão em questão celebrou o Contrato n° 003/2017 com a \\nempresa Amazon Card’s SS Ltda (CNPJ 66.887.699/0001-73) o qual foi resultante do Pregão \\nEletrônico n° 02/2017-TCM/PA. O contrato em questão foi celebrado em 13/04/2017, de modo que \\no valor mensal estimado inicialmente foi de R$ 50.500,00 (cinquenta mil e quinhentos reais) \\nincluindo todos os custos e despesas para fornecimento mensal de no máximo 2.000 bilhetes, \\nacrescido de taxa de administração de 1%. A vigência do contrato, por sua vez, foi estipulada em \\n12 (doze) meses, a contar da data de sua assinatura. Não foram identificados termos aditivos ao \\nContrato nº 003/2017 na documentação apresentada pelo órgão jurisdicionado auditado.Em conformidade com o que dispõe o caput do art. 67, da Lei n° 8.666/1993, a execução \\ndo contrato foi acompanhada e fiscalizada por representante da Administração, como pôde ser \\natestado por meio de publicação contida no Diário Ofical Eletrônico n° 977, do TCMPA, pág. 15, \\nde 11/03/2021 (expediente 014762/2022, peça 7). Na oportunidade, foram designadas as servidoras \\nLorena de Lourdes de Aguiar Smith e Kamila de Atayde Espezin Vieira Rezende como Fiscal e \\nSuplente de Fiscal, respectivamente. A execução da despesa para cumprimento do objeto definido no Contrato n° 003/2017, \\ncelebrado, está a seguir discriminada:Quadro 19 – Empenho, Liquidação e Pagamento NOTA DE EMPENHO NOTA FISCAL/FATURAORDEM BANCÁRIA DATAN°TIPO Valor DATAN° VALOR DATAN° VALOR 00107       62.286,15 18/01/202198804       62.317,00 05/02/202100108             30,85 00285       58.096,72 \\n28/01/202100048Original280.000,00 17/01/202199250       58.125,50 09/03/202100286            28,7800429       51.534,98 12/03/202199677       51.560,50 08/04/202100430             25,52 00614       35.988,68 \\n04/05/202100302Anulação  \\n(71.990,50) 12/04/2021100141       36.006,50 10/05/202100615             17,82TOTAL 208.009,50 TOTAL      208.009,50 TOTAL      208.009,50 Fontes: Siafem/PA e expediente n° 014762/2022 (peça 11) Após consultas ao Siafem/2021, ao Fiscalis e às peças 6 a 16 do expediente n° \\n014762/2022, constatou-se, referente ao Contrato n° 003/2017, o que segue:a) Foram empenhados, liquidados e pagos, no exercício em análise, o total de R$ 208.009,50 \\n(duzentos e oito mil, nove reais e cinquenta centavos);b) Houve retenção de R$ 102,97 (cento e dois reais e noventa e sete centavos) referente ao ', metadata={'source': '../dados//relatorio_auditoria_TC_011165_2022_RTC_97_2022.pdf', 'page': 22}),\n",
       " Document(page_content='                    TRIBUNAL DE CONTAS DO ESTADO DO PARÁ                                                         Secretaria de Controle Externo – 1ª CCG 24 Imposto sobre Serviços – ISS, o qual foi devidamente recolhido por meio de guias próprias;c) Nos empenhos constaram o nome do credor, sua especificação e a importância das despesas, \\nbem como os demais dados necessários ao controle da execução orçamentária;d) Consta na Cláusula Sétima do Contrato a função programática 03101.01.331.1454.8565-\\n339039.41 para atender as despesas deste Contrato. Tal programação foi confirmada por \\nmeio do Ofício nº 002/2018 da Diretoria de Administração, de 26/01/2018 (expediente \\n014762/2022, peça 8, pág. 10);e) Em consulta ao Siafem/2021, verificou-se que todas as Notas de Empenhos foram realizadas \\nseguindo a programação funcional e por estrutura programática em conformidade com a Lei \\nn° 4.320, de 17/03/1964, Lei Orçamentária n° 9.160, de 06/01/2021 (OGE 2021, vol. II) e \\nPortaria Interministerial n° 163, de 04/05/2001, bem como o definido no instrumento \\ncontratual, evidenciando a regular execução da despesa com a dotação orçamentária \\nestabelecida no exercício;f) Houve a obediência da ordem cronológica de exigibilidade prevista no art. 5° da Lei n° \\n8.666/93, não havendo pagamento antecipado ou sem contraprestação dos serviços definidos \\nno contrato.g) As Notas Fiscais foram devidamente atestadas por servidor designado pelo TCM/PA, como \\nconsta em publicação do Diário Oficial Eletrônico n° 977, de 11/03/2021, do TCM/PA (peça \\n7, expediente 014762/2022, pág. 2), em conformidade com a Cláusula Quinta do contrato \\nem questão.5.3.2.Termos Aditivos ao Contrato n° 024/2020Visando à contratação de empresa especializada na prestação de serviços de administração, \\npara o fornecimento de vales combutível em bilhete impresso para o abastecimento da frota de \\nveículos que serve ao TCM/PA, foi celebrado o Contrato n° 024/2020 com a empresa Amazon \\nCard’s SS Ltda (CNPJ 66.887.699/0001-73) o qual teve por fundamento legal o inciso art. 24, IV, \\nda Lei n° 8.666/93 (PA 202012689). O contrato em questão foi celebrado em 17/09/2020 e seu valor \\nmensal estimado foi de R$ 153.000,00 (cento e cinquenta e três mil reais). Por sua vez, a vigência \\ndo contrato foi estipulada em 180 (cento e oitenta) dias, a contar da data de sua assinatura. Ao longo \\nda execução contratual não foram celebrados termos aditivos, conforme se depreende por meio da \\ndocumentação apresentada pelo TCM/PA.Em conformidade com o que dispõe o caput do art. 67, da Lei n° 8.666/1993, a execução \\ndo contrato foi acompanhada e fiscalizada por representante da Administração, como pode ser ', metadata={'source': '../dados//relatorio_auditoria_TC_011165_2022_RTC_97_2022.pdf', 'page': 23}),\n",
       " Document(page_content='                    TRIBUNAL DE CONTAS DO ESTADO DO PARÁ                                                         Secretaria de Controle Externo – 1ª CCG 25 verificado no DOE/TCM-PA, n° 977, página 15, de 11 de março de 2021 (expediente nº \\n014762/2022, peça 7). Na oportunidade, foram designadas as servidoras Lorena de Lourdes de \\nAguiar Smith e Kamila de Atayde Espezin Vieira Rezende como Fiscal e Suplente de Fiscal, \\nrespectivamente.A execução da despesa, para cumprimento do objeto definido no Contrato n° 024/2020, \\nocorreu da seguinte maneira:Quadro 20 – Empenho, Liquidação e Pagamento NOTA DE EMPENHO NOTA FISCAL/FATURAORDEM BANCÁRIA DATAN°TIPO Valor DATAN° VALOR DATAN° VALOR 00070 29.586,3818/01/202198805       29.622,50 01/02/202100071 36,12 00254 28.562,62\\n28/01/202100047Original120.000,00 17/02/202199240       28.597,50 01/03/202100255 34,88 00391 29.586,3812/03/202199678       29.622,50 26/03/202100392 36,12 00482 29.586,38\\n28/04/202100284Anulação  \\n(2.535,00) 12/04/2021100142       29.622,50 22/04/202100483 36,12 TOTAL 117.465,00 TOTAL      117.465,00 TOTAL 117.465,00     Fontes: Siafem/PA e Expediente n° 014762/2022 (peça 30) Após consultas ao Siafem/2021, ao Sistema Fiscalis e às peças 29 a 32 do expediente n° \\n014762/2022, constatou-se, referente ao Contrato n° 024/2020, o que segue:a) Foram empenhados, liquidados e pagos o valor total, no exercício em análise, de R$ \\n117.465,00 (cento e dezessete mil, quatrocentos e sessenta e cinco reais);b) Houve retenção de R$ 143,24 (cento e quarenta e três reais e vinte e quatro centavos) \\nreferente ao Imposto Sobre Serviços – ISS, o qual foi devidamente recolhido por meio de \\nguias próprias;c) Nos empenhos constam o nome do credor, sua especificação e a importância das despesas, \\nbem como os demais dados necessários ao controle da execução orçamentária;d) Consta na Cláusula Quinta do Contrato a função programática 03101.01.122.1454.8559, \\nFonte 0101, Elemento de Despesa 339030, para atender as despesas deste Contrato. Tal \\nprogramação foi confirmada por meio do Memorando n° 083/2020/DA/TCM, de \\n10/09/2020 (expediente 014762/2022, peça 31, pág. 14);e) Em consulta ao Siafem/2021, verificou-se que todas as Notas de Empenhos foram realizadas \\nseguindo a programação funcional e por estrutura programática em conformidade com a Lei \\nn° 4.320, de 17/03/1964, Lei Orçamentária n° 9.160, de 06/01/2021 (OGE 2021, vol. II) e \\nPortaria Interministerial n° 163, de 04/05/2001, bem como o definido no instrumento \\ncontratual, evidenciando a regular execução da despesa com a dotação orçamentária \\nestabelecida no exercício;', metadata={'source': '../dados//relatorio_auditoria_TC_011165_2022_RTC_97_2022.pdf', 'page': 24}),\n",
       " Document(page_content='                    TRIBUNAL DE CONTAS DO ESTADO DO PARÁ                                                         Secretaria de Controle Externo – 1ª CCG 26 f) Houve observância à ordem cronológica de exigibilidade previstas no art. 5° da Lei n° \\n8.666/93, não havendo pagamento antecipado ou sem contraprestação dos serviços definidos \\nno contrato;g) As Notas Fiscais foram devidamente atestadas por servidor designado pelo TCM/PA, como \\nconsta em publicação do DOE/TCM-PA n° 977, de 11/03/2021 (peça 7, expediente \\n014762/2022, pág. 2), em conformidade com o artigo 58, inciso III, da Lei n° 8.666, de \\n21/06/1993.5.3.3.Contrato nº 003/2021Em 26/03/2021, o TCM/PA firmou junto à empresa Amazon Card’s SS Ltda., o Contrato \\nnº 003/2021, cujo objeto foi a prestação de serviços de administração visando ao fornecimento de \\nvales combustível, em bilhete impresso para o abastecimento da frota de veículos que serve ao \\nTCM/PA. O contrato em questão foi oriundo de dispensa de licitação, formalizada por meio do \\nProcesso interno nº PA202112891, no âmbito do TCM/PA.O valor do contrato foi estimado em R$ 180.000,00 (cento e oitenta mil reais) podendo \\nesse valor, a fim de atender as necessidades da Contratante, ser altrerado para maior ou menor, \\ndentro dos limites estabelecidos pela legislação vigente, com fulcro no art. 65, §1° da Lei n° \\n8.666/93. O prazo de duração do referido contrato administrativo é de 180 (cento e oitenta) dias, a \\ncontar da data de sua assinatura.Verifica-se que foi dada publicidade à dispensa de licitação em questão por meio de \\npublicação no DOE/TCM-PA nº 987, de 25/03/2021, constando também no Portal da Transparência \\ndo TCM/PA. Nesse sentido, entende-se que o órgão atendeu aos princípios gerais da publicidade \\nque são atinentes aos atos da Administração Pública (art. 37, caput, da CF/88), bem como aqueles \\nque são especificamente relacionados às contratações públicas (art. 1º, caput, da Lei nº 8.666/1993). Em conformidade com o que dispõe o caput do art. 67, da Lei n° 8.666/1993, a execução \\ndo contrato foi acompanhada e fiscalizada pela representante da Administração Sra. Lorena de \\nAguiar Smith (Diretora de Administração), como pode ser visto no expediente nº 014762/2022, peça \\n15, páginas 47, 60, 71, 82, 92 e 102. A execução da despesa para cumprimento do objeto definido no Contrato n° 03/2021, \\ncelebrado, está a seguir discriminada:', metadata={'source': '../dados//relatorio_auditoria_TC_011165_2022_RTC_97_2022.pdf', 'page': 25}),\n",
       " Document(page_content='                    TRIBUNAL DE CONTAS DO ESTADO DO PARÁ                                                         Secretaria de Controle Externo – 1ª CCG 27    Quadro 21 – Empenho, Liquidação e Pagamento NOTA DE EMPENHO NOTA FISCAL/FATURAORDEM BANCÁRIADATAN°TIPO Valor DATAN° VALOR DATAN° VALOR 20/05/20210067226.208,0014/05/202110072026.240,0020/05/002100674 32,00 01/07/20210094726.208,0015/06/202110121426.240,0001/07/202100942 32,00 26/07/20210110726.208,0013/07/202110168926.240,0026/07/202101109 32,00 20/08/20210131731.326,7516/08/202110220131.365,0020/08/202101318 38,25 04/10/20210169728.255,5016/09/202110270928.290,0004/10/202101698 34,50\\n25/03/202100239ORIGINAL180.000,0005/10/20210171726.208,0009/12/202101282ANULAÇÃO-15.385,0021/09/202110275726.240,0005/10/202101718 32,00 TOTAL 164.615,00 TOTAL 164.615,00 TOTAL 164.615,00   Fontes: Siafem/PA e expediente n° 014762/2022 (peça 14) Após consultas ao Siafem/2021, ao Sistema Fiscalis e nas peças 7, 14 e 15 do Expediente \\nn° 014762/2022, constatou-se, referente ao Contrato n° 03/2021, que:a) Foram empenhados, liquidados e pagos o valor total, no exercício em análise, de R$ \\n164.615,00 (cento e sessenta e quatro mil, seiscentos e quinze reais);b) A anulação parcial da Nota de Empenho nº 01282 ocorreu em função do término da vigência \\ndo contrato em 10/09/2021;c) Houve retenção de R$ 200,75 (duzentos reais e setenta e cinco centavos) referente ao \\nImposto sobre Serviços – ISS, o qual foi devidamente recolhido por meio de guias próprias;d) Nos empenhos constam o nome do credor, sua especificação e a importância das despesas, \\nbem como os demais dados necessários ao controle da execução orçamentária;e) Consta na Cláusula Quinta do Contrato a função programática 03101.01.122.1454.8559, \\nFonte 0101, Elemento de Despesa 339030, para atender as despesas deste Contrato. f) Em consulta ao Sistema Integrado de Administração Financeira para Estados e Municípios \\n– Siafem/PA, verificou-se que todas as Notas de Empenhos foram realizadas seguindo a \\nprogramação funcional e por estrutura programática em conformidade com a Lei Federal n° \\n4.320, de 17/03/1964, com a Lei Orçamentária Anual (Lei estadual n° 9.160, de 06/01/2021, \\nOGE 2021 – vol. II) e Portaria Interministerial n° 163, de 04/05/2001, bem como o definido \\nno instrumento contratual, evidenciando a regular execução da despesa com a dotação \\norçamentária estabelecida no exercício.', metadata={'source': '../dados//relatorio_auditoria_TC_011165_2022_RTC_97_2022.pdf', 'page': 26}),\n",
       " Document(page_content='                    TRIBUNAL DE CONTAS DO ESTADO DO PARÁ                                                         Secretaria de Controle Externo – 1ª CCG 28 g) Houve observância à ordem cronológica de exigibilidade prevista no art. 5° da Lei n° \\n8.666/93, não havendo pagamento antecipado ou sem contraprestação dos serviços definidos \\nno contrato.5.4. Polo Vigilância Especializada Eireli (Contrato n° 014/2019)Em 05/08/2019, o TCM/PA firmou, junto à empresa Polo Vigilância Especializada Eireli, \\no Contrato nº 014/2019/TCM/PA, cujo objeto foi a contratação de empresa para prestação de \\nserviços de vigilância armada e desarmada nas dependências e instalações do Tribunal de Contas \\ndos Municípios do Estado do Pará – TCM/PA, em três postos de trabalho, sendo dois diurnos e um \\nnoturno, na forma do Termo de Referência. O valor global do contrato em questão, equivalente ao período de 60 (sessenta) meses, foi \\nestipulado em R$ 3.089.740,80 (três milhões, oitenta e nove mil, setecentos e quarenta reais e oitenta \\ncentavos), o que equivale a um valor anual de R$ 617.948,16 (seiscentos e dezessete mil, novecentos \\ne quarenta e oito reais e dezesseis centavos) e mensal de R$ 51.495,68 (cinquenta e um mil, \\nquatrocentos e noventa e cinco reais e sessenta e oito centavos).No exercício de 2021 foi celebrado o 2º Termo Aditivo, o qual tinha como objeto a \\nconcessão de equilíbrio econômico-financeiro no percentual de 5,2% (cinco inteiros e dois décimos \\npor cento), pertinente ao atendimento à Cláusula Terceira da Convenção Coletiva de Trabalho \\n2021/2022 do Sindicato dos Vigilantes do Estado do Pará, com efeitos financeiros retroativos a \\n01.01.2021. Diante disso, o novo valor mensal passou a ser de R$ 79.876,44 (setenta e nove mil, \\noitocentos e setenta e seis reais e quarenta e quatro centavos), correspondendo ao valor anual de R$ \\n958.517,28 (novecentos e cinquenta e oito mil, quinhentos e dezessete reais e vinte e oito centavos). \\nA análise jurídica do procedimento em questão foi realizada por meio do Parecer nº 227/2021 – \\nDiretoria Jurídica/TCM.O requerimento de repactuação formalizado pela contratada junto ao TCM/PA (peça 20, \\ndo expediente nº 14762/2022) foi instruído com memória de cálculos demonstrando o impacto \\nfinanceiro da Convenção Coletiva de Trabalho da categoria, o qual foi analisado pela Seção de \\nContratos, Convênios e Licitações do TCM/PA, o qual observou o interstício de um ano entre a data \\nde celebração do contrato e o pedido de repactuação, bem como o registro da Convenção Coletiva \\njunto ao Ministério do Trabalho e Emprego. Nesse sentido, tendo sido avaliado o impacto da \\nConvenção Coletiva nos custos da contratada para execução dos respectivos serviços, verifica-se a \\nregularidade da realização de repactuação contratual, nos termos do art. 65, inciso II, alínea “d”, da ', metadata={'source': '../dados//relatorio_auditoria_TC_011165_2022_RTC_97_2022.pdf', 'page': 27}),\n",
       " Document(page_content='                    TRIBUNAL DE CONTAS DO ESTADO DO PARÁ                                                         Secretaria de Controle Externo – 1ª CCG 29 Lei nº 8.666/1993.Em consulta ao Siafem/PA, identificou-se, quanto à execução orçamentária e financeira \\ndesta despesa, com base em documentação comprobatória encaminhada por meio do expediente nº \\n014762/2022, a seguinte situação:Quadro 22 – Empenho, Liquidação e Pagamento                                                                                               R$ 1,00 EMPENHO NOTAS FISCAISORDENS BANCÁRIASNes TIPOVALOR NºValor Data NºValor7536 74.430,0010/02/202215261.776,90 7755 74.430,0015/03/202231661.776,90 7970 74.430,0027/04/202253361.776,90\\n00076, 01208 ORIGINAL363.077,288192 74.430,0006/05/202260161.776,90 8342 74.430,0010/06/202280061.776,90 8487 74.430,0008/07/202297661.776,90 8985 74.430,0012/08/2022123461.776,90\\n00190, 00659REFORÇO640.819,929566 74.430,0009/09/2022148661.776,901003074.430,0008/10/2022174061.776,901043274.430,0005/11/2022192961.776,901077554.464,4029/11/2022211045.205,46\\n01207 ANULAÇÃO-           \\n45.379,92 1082779.876,4413/12/2022223566.297,45 SALDO 958.517,28SALDO878.640,84 SALDO 729.271,91Fontes: Siafem/PA - 2021 e  expediente nº 014762/2022 a) Apurou-se que os valores empenhados estão compatíveis com  a programação orçamentária \\ndefinida para o Órgão,  conforme  Lei Orçamentária nº 9.160 de 06/01/2021, e   instrumento \\ncontratual (Cláusula Quinta), na classificação 03.101.01.122.1454.8559, fonte 0101, \\nelemento de despesa 339037, no programa Controle Externo Municipal, projeto de \\noperacionalização de gestão administrativa;b) Ainda, quanto às notas fiscais acima referentes à prestação dos serviços, constatou-se  o \\nrecolhimento dos tributos destacados no seu teor como o previdenciário (INSS), o imposto \\nde Renda da Pessoa Jurídica (IRPJ) e o Imposto Sobre Serviços (ISS) , cujos totais somados \\nalcançam o  valor de R$ 149.368,93 (cento e quarenta e nove mil, trezentos e sessenta e oito \\nreais e noventa e três centavos), assim como, a certificação da prestação dos serviços pelos \\natesto dos fiscais Ranyere W Martins Gadelha e José Brito Gomes Junior conforme previsto \\nno art. 67, Lei nº 8.666/93 e subitem 7.1, Cláusula Sétima, de acordo com quadro a seguir:                     Quadro 23 – Retenções                                                   R$(1,00)Notas FiscaisINSSIRPJ ISS75368.187,30744,303.721,5077558.187,30744,303.721,5079708.187,30744,303.721,5081928.187,30744,303.721,5083428.187,30744,303.721,50', metadata={'source': '../dados//relatorio_auditoria_TC_011165_2022_RTC_97_2022.pdf', 'page': 28}),\n",
       " Document(page_content='                    TRIBUNAL DE CONTAS DO ESTADO DO PARÁ                                                         Secretaria de Controle Externo – 1ª CCG 30 84878.187,30744,303.721,5089858.187,30744,303.721,5095668.187,30744,303.721,50100308.187,20744,303.721,50104328.187,30744,303.721,50107755.991,08544,642.723,22108278.786,41798,763.993,82Total96.650,498.786,40        43.932,04                            Fonte: Siafem/PA e expediente nº 014762/2022, peça 23 Quanto aos pagamentos efetivados, no total  de R$ 729.271,91(setecentos e vinte e nove \\nmil, duzentos e setenta e um reais e noventa e um centavos), líquido das retenções, atenderam ao \\ndefinido na Cláusula Quarta contratual e foram precedidos de confirmação de regularidade fiscal \\npela contratada, mediante certidões válidas, fornecimento de recibos pelos pagamentos \\nconcretizados. Esta, e as demais constatações, direcionam o entendimento de que os serviços \\nexecutados e os pagamentos efetivados obedeceram às orientações legais e contratuais.5.5. Pedragon Autos Ltda (Nota de Empenho n° 2021NE00124)No exercício de 2021, o TCM/PA aquiriu veículo Chevrolet S/10 LTZ DD4A, Chassi \\n9BG148MK0MC428033, junto à empresa Pedragon Autos Ltda (CNPJ 03.935.826/0001-30). Tal \\naquisição foi precedida do Pregão Eletrônico n° 2020/15/TCMPA, no tipo “Menor Preço Global do \\nLote” (PA202012587), conforme justificativa emitida pelo Departamento de Administração do \\nTCM/PA no dia 02/04/2020 (peça 5, expediente n° 014762/2022, pág. 2-3). Há de se ressaltar que o lote do pregão que foi adjudicado em favor da licitante vencedora \\nprevia a entrega de três veículos. Entretanto, diante da dificuldade de entrega dos veículos, haja \\nvista os diversos problemas de fabricação que a indústria automobilística nacional enfrentou em \\ndecorrência da pandemia da Covid-19, só foi possível a entrega de um veículo, tendo o TCM/PA \\naquiescido. Isso porque o órgão reviu a configuração de sua frota e verificou que a aquisição de um \\núnico veículo já seria suficiente para atender às necessidades daquela Corte de Contas.        Destaca-se que não foi celebrado contrato, tendo sido este substituído pela Nota de Empenho \\nnº 2021NE00124 (peça n° 15, expediente n° 015116), a qual foi parcialmente anulada pela Nota de \\nEmpenho nº 2021NE00575. A esse respeito, há de se considerar que o valor do veículo, qual seja, \\nR$ 229.520,00 (duzentos e vinte e nove mil, quinhentos e vinte reais), estava abaixo do valor que \\nservia de parâmetro para as tomadas de preço, isto é, R$ 1.430.000,00 (um milhão, quatrocentos e \\ntrinta mil), nos termos do art. 1º, inciso II, alínea “d”, do Decreto nº 9.412/2018. Nesse sentido, se \\nmostraria, em tese, dispensável, a critério da Administração, a minuta contratual, nos termos do art.  ', metadata={'source': '../dados//relatorio_auditoria_TC_011165_2022_RTC_97_2022.pdf', 'page': 29}),\n",
       " Document(page_content='                    TRIBUNAL DE CONTAS DO ESTADO DO PARÁ                                                         Secretaria de Controle Externo – 1ª CCG 31 62, caput, da Lei nº 8.666/1993. Ao longo da execução contratual, a Adminstração enfrentou problemas no que tange ao \\nlicenciamento do veículo, haja vista ter sido identificado que um veículo de outro estado houvera \\nsido licenciado com o chassi de mesma numeração daquela constante no veículo fornecido pela \\ncontrtada (peça nº 05, pág. 305, expediente n° 014762). Entretanto, conforme informações \\nrepassadas pelo órgão, a situação foi resolvida e o documento do veículo foi devidamente emitido \\nem nome do TCM/PA (peça nº 18, expediente n° 015116).No que tange à atualização da disponibilidade orçamentária para atender a despesa \\ninicialmente fixada, verifica-se que foi efetivada no dia 05/02/2021, conforme protocolo \\nPA202012587 da Diretoria de Orçamentos e Finanças (peça 5, expediente 014762/2022, pág. 221), \\nnos seguintes termos: Classificação orçamentária 03101.01.122 1454-8742; Aparelhamento e \\nAdequação das Instalações Físicas; Fonte 0301; Elemento da despesa: 449052 e Dotação \\nDisponível: R$ 3.000.000,00 (três milhões de reais).Quanto à execução orçamentária e financeira da despesa, para aquisição do veículo \\nmencionado, tem-se que ocorreu da seguinte maneira:Quadro 24 – Empenho, Liquidação e Pagemento NOTA DE EMPENHO NOTA FISCAL/FATURAORDEM BANCÁRIA DATAN°TIPO Valor DATAN° VALOR DATAN° VALOR \\n15/02/202100124Original688.560,00\\n229.520,0022/07/202100575Anulação459.040,00\\n27/05/2021357923229.520,0013/07/202101007TOTAL 229.520,00 TOTAL      229.520,00 TOTAL 229.520,00     Fonte: Siafem/PA Assim sendo, com base no quadro acima, bem como em informações obtidas no \\nSiafem/2021, no sistema Fiscalis e na peça 5 do expediente n° 014762/2022, constatou-se, referente \\nao Contrato n° 02/2021, o que segue:a) O empenho foi parcialmente anulado no valor de R$ 459.040,00 (quatrocentos e cinquenta \\ne nove mil e quarenta reais), resultando em uma execução orçamentária e financeira no valor \\nde R$ 229.520,00 (duzentos e vinte e nove mil, quinhentos e vinte reais);b) No empenho constou o nome do credor, sua especificação e a importância da despesa, bem \\ncomo os demais dados necessários ao controle da execução orçamentária;c) Consta no processo licitatório a funcional programática 03101.01.122.1454.8742 – ', metadata={'source': '../dados//relatorio_auditoria_TC_011165_2022_RTC_97_2022.pdf', 'page': 30}),\n",
       " Document(page_content='                    TRIBUNAL DE CONTAS DO ESTADO DO PARÁ                                                         Secretaria de Controle Externo – 1ª CCG 32 Aparelhamento e adequação das Instalações Físicas;  Fonte 0101; Elemento de Despesa \\n449052, para atender as respectivas despesas. Tal programação foi confirmada por meio do \\nprotocolo PA202012587 da Diretoria de Orçamentos e Finanças (peça 5, expediente \\n014762/2022, pág. 221), ora mencioando;d) Em consulta ao Siafem/2021, verificou-se que a classificação orçamentária foi realizada \\nseguindo a programação funcional e por estrutura programática em conformidade com a Lei \\nn° 4.320, de 17/03/1964, Lei Orçamentária n° 9.160, de 06/01/2021 (OGE 2021 – vol II) e \\nPortaria Interministerial n° 163, de 04/05/2001, evidenciando a regular execução da despesa \\ncom a dotação orçamentária estabelecida no exercício;e) A nota fiscal foi devidamente atestada pelo chefe de patrimônio do TCM/PA, o Sr. Onazis \\ndo Amaral, concebendo correto e regular recebimento do veículo objeto do contrato (peça \\n5, expediente nº 014762/2022, pág. 276), em conformidade com o artigo 58, inciso III, da \\nLei n° 8.666, de 21/06/1993.6. CONCLUSÃOApós os exames procedidos no decurso da Auditoria Programada realizada na Prestação \\nde Contas do Tribunal de Contas dos Municípios do Estado do Pará – TCM/PA,  exercício de 2021, \\nno valor total executado de R$ 199.183.878,16 (cento e noventa e nove  milhões, cento e oitenta e \\ntrês mil, oitocentos e setenta e oito reais e dezesseis centavos), à qual estão agregadas as contas do \\nFundo de Modernização, Reaparelhamento e Aperfeiçoamento do Tribunal de Contas dos \\nMunicípios do Estado do Pará – FUMREAP, referente ao mesmo exercício, no valor total executado \\nde R$ 3.057,24 (três mil, cinquenta e sete reais e vinte e quatro centavos), ambas sob a \\nresponsabilidade da Presidente, a Conselheira Mara Lúcia Barbalho da Cruz (CPF ***. 368.792 -\\n**), verificou-se a prática de gestão em conformidade com o descrito no art. 56, I, da Lei Orgânica \\ndeste TCE/PA (Lei Complementar nº 81/2012), c/c art. 158, I, do Regimento Interno do TCE/PA \\n(Ato nº 63/2012), razão pela qual opina-se pela REGULARIDADE das contas. É o relatório. Belém, 17 de outubro de 2022.       Dualyson de Abreu BorbaAuditor de Controle Externo Mat. nº 0101575 Orlando F. Rabelo FilhoAuditor de Controle Externo \\nMat. nº 0101201Suany C. Freitas MacedoAuditora de Controle Externo Mat. nº 0101782 Assinatura eletrônica pelo sistema e-TCE - SUANY CAMPOS FREITAS MACEDO - 17/10/2022 13:11:41\\n Para validar essa(s) assinatura(s) acesse http://validarassinatura.tcepa.tc.br/ e insira o codigo - 44C653BF0A717A1ED3241A9D83E28AC9 Assinatura eletrônica pelo sistema e-TCE - DUALYSON DE ABREU BORBA - 17/10/2022 13:13:04\\n Para validar essa(s) assinatura(s) acesse http://validarassinatura.tcepa.tc.br/ e insira o codigo - 44C653BF0A717A1ED3241A9D83E28AC9 Assinatura eletrônica pelo sistema e-TCE - ORLANDO FARIAS RABELO FILHO - 17/10/2022 13:21:44\\n Para validar essa(s) assinatura(s) acesse http://validarassinatura.tcepa.tc.br/ e insira o codigo - 44C653BF0A717A1ED3241A9D83E28AC9', metadata={'source': '../dados//relatorio_auditoria_TC_011165_2022_RTC_97_2022.pdf', 'page': 31})]"
      ]
     },
     "execution_count": 4,
     "metadata": {},
     "output_type": "execute_result"
    }
   ],
   "source": [
    "# poetry add pypdf\n",
    "from langchain.document_loaders import PyPDFLoader\n",
    "loader = PyPDFLoader(base_dir + '/relatorio_auditoria_TC_011165_2022_RTC_97_2022.pdf')\n",
    "docs = loader.load()\n",
    "docs"
   ]
  },
  {
   "cell_type": "code",
   "execution_count": 5,
   "id": "28ad60e6",
   "metadata": {},
   "outputs": [
    {
     "data": {
      "text/plain": [
       "'                     TRIBUNAL DE CONTAS DO ESTADO DO PARÁ                        Secretaria de Controle Externo - 1ª CCG 1\\nRELATÓRIO DE \\nAUDITORIA \\nPROGRAMADAPROCESSO: 011165/2022ÓRGÃO: Tribunal de Contas dos \\nMunicípios do Estado do Pará – \\nTCM/PA  e Fundo de Modernização, \\nReaparelhamento e Aperfeiçoamento do \\nTribunal de Contas dos Municípios do \\nEstado do Pará - FUMREAPEXERCÍCIO: 2021RESPONSÁVEL: Exma. Sra. \\nConselheira Presidente  Mara Lúcia \\nBarbalho da Cruz (14/01/2021 a \\n31/12/2023)Setembro/2022'"
      ]
     },
     "execution_count": 5,
     "metadata": {},
     "output_type": "execute_result"
    }
   ],
   "source": [
    "docs[0].page_content"
   ]
  },
  {
   "cell_type": "code",
   "execution_count": 6,
   "id": "94409fda",
   "metadata": {},
   "outputs": [
    {
     "data": {
      "text/plain": [
       "{'source': '../dados//relatorio_auditoria_TC_011165_2022_RTC_97_2022.pdf',\n",
       " 'page': 3}"
      ]
     },
     "execution_count": 6,
     "metadata": {},
     "output_type": "execute_result"
    }
   ],
   "source": [
    "docs[3].metadata"
   ]
  },
  {
   "cell_type": "code",
   "execution_count": 7,
   "id": "99324199",
   "metadata": {},
   "outputs": [
    {
     "data": {
      "text/plain": [
       "[Document(page_content='\\ufeffCOD: 010009\\nDISCRIMINAÇÃO: Locação da obra à trena\\nUNID.: m2\\nQUANT.: 44,00\\nP. UNIT.: \\nP. C/ BDI: 2,86\\nP. TOTAL: 114,40\\nP. TOTAL C/ BDI: 125,84\\n(A - B) / B: -11,19%\\n: ', metadata={'source': '../dados//analise_orcamento.csv', 'row': 0}),\n",
       " Document(page_content='\\ufeffCOD: 010004\\nDISCRIMINAÇÃO: Placa da obra\\nUNID.: m2\\nQUANT.: 6,00\\nP. UNIT.: \\nP. C/ BDI: 275,42\\nP. TOTAL: 1.633,80\\nP. TOTAL C/ BDI: 1.652,52\\n(A - B) / B: -1,60%\\n: ', metadata={'source': '../dados//analise_orcamento.csv', 'row': 1}),\n",
       " Document(page_content='\\ufeffCOD: 020014\\nDISCRIMINAÇÃO: Retirada de esquadria sem aproveitamemo\\nUNID.: m2\\nQUANT.: 20,48\\nP. UNIT.: \\nP. C/ BDI: 2,93\\nP. TOTAL: 59,39\\nP. TOTAL C/ BDI: 60,01\\n(A - B) / B: -2,73%\\n: ', metadata={'source': '../dados//analise_orcamento.csv', 'row': 2}),\n",
       " Document(page_content='\\ufeffCOD: 020016\\nDISCRIMINAÇÃO: Demolição manual de alvenaria de tijolo\\nUNID.: m3\\nQUANT.: 15,36\\nP. UNIT.: \\nP. C/ BDI: 29,61\\nP. TOTAL: 449,13\\nP. TOTAL C/ BDI: 454,81\\n(A - B) / B: -2,06%\\n: ', metadata={'source': '../dados//analise_orcamento.csv', 'row': 3}),\n",
       " Document(page_content='\\ufeffCOD: 020020\\nDISCRIMINAÇÃO: Demolição da estrutura em madeira da cobertura\\nUNID.: m2\\nQUANT.: 194,07\\nP. UNIT.: \\nP. C/ BDI: 3,71\\nP. TOTAL: 708,36\\nP. TOTAL C/ BDI: 720,00\\n(A - B) / B: -19,14%\\n: ', metadata={'source': '../dados//analise_orcamento.csv', 'row': 4}),\n",
       " Document(page_content='\\ufeffCOD: 020024\\nDISCRIMINAÇÃO: Retirada de telhas fibrocimento sem aproveitamemo\\nUNID.: m2\\nQUANT.: 158,10\\nP. UNIT.: \\nP. C/ BDI: 2,05\\nP. TOTAL: 320,94\\nP. TOTAL C/ BDI: 324,11\\n(A - B) / B: -2,44%\\n: ', metadata={'source': '../dados//analise_orcamento.csv', 'row': 5}),\n",
       " Document(page_content='\\ufeffCOD: 020174\\nDISCRIMINAÇÃO: Retirada de entulho - manualmente\\nUNID.: m3\\nQUANT.: 23,72\\nP. UNIT.: \\nP. C/ BDI: 30,36\\nP. TOTAL: 660,36\\nP. TOTAL C/ BDI: 720,14\\n(A - B) / B: -9,95%\\n: ', metadata={'source': '../dados//analise_orcamento.csv', 'row': 6}),\n",
       " Document(page_content='\\ufeffCOD: 030010\\nDISCRIMINAÇÃO: Escavação manual até 1,50m de profundidade\\nUNID.: m3\\nQUANT.: 12,96\\nP. UNIT.: \\nP. C/ BDI: 26,01\\nP. TOTAL: 331,78\\nP. TOTAL C/ BDI: 337,09\\n(A - B) / B: -2,73%\\n: ', metadata={'source': '../dados//analise_orcamento.csv', 'row': 7}),\n",
       " Document(page_content='\\ufeffCOD: 030011\\nDISCRIMINAÇÃO: Aterro com material fora da obra, incluindo apiloamento\\nUNID.: m3\\nQUANT.: 86,40\\nP. UNIT.: \\nP. C/ BDI: 63,52\\nP. TOTAL: 4.890,24\\nP. TOTAL C/ BDI: 5.488,13\\n(A - B) / B: -11,68%\\n: ', metadata={'source': '../dados//analise_orcamento.csv', 'row': 8}),\n",
       " Document(page_content='\\ufeffCOD: 030254\\nDISCRIMINAÇÃO: Reaterro compactado\\nUNID.: m3\\nQUANT.: 12,96\\nP. UNIT.: \\nP. C/ BDI: 27,77\\nP. TOTAL: 355,10\\nP. TOTAL C/ BDI: 359,90\\n(A - B) / B: -2,77%\\n: ', metadata={'source': '../dados//analise_orcamento.csv', 'row': 9}),\n",
       " Document(page_content='\\ufeffCOD: 040026\\nDISCRIMINAÇÃO: Baldrame em concreto ciclópico c/ pedra preta incl. forma\\nUNID.: m3\\nQUANT.: 5,78\\nP. UNIT.: \\nP. C/ BDI: 725,26\\nP. TOTAL: 4.071,14\\nP. TOTAL C/ BDI: 4.192,00\\n(A - B) / B: -2,88%\\n: ', metadata={'source': '../dados//analise_orcamento.csv', 'row': 10}),\n",
       " Document(page_content='\\ufeffCOD: 040283\\nDISCRIMINAÇÃO: Bloco em concreto armado p/ fundação (incl. forma)\\nUNID.: m2\\nQUANT.: 4,61\\nP. UNIT.: \\nP. C/ BDI: 1.615,34\\nP. TOTAL: 7.007,20\\nP. TOTAL C/ BDI: 7.446,72\\n(A - B) / B: -5,90%\\n: ', metadata={'source': '../dados//analise_orcamento.csv', 'row': 11}),\n",
       " Document(page_content='\\ufeffCOD: 050257\\nDISCRIMINAÇÃO: Lastro de concreto magro c/ seixo\\nUNID.: m3\\nQUANT.: 1,08\\nP. UNIT.: \\nP. C/ BDI: 392,82\\nP. TOTAL: 430,52\\nP. TOTAL C/ BDI: 424,25\\n(A - B) / B: 1,48%\\n: ', metadata={'source': '../dados//analise_orcamento.csv', 'row': 12}),\n",
       " Document(page_content='\\ufeffCOD: 050729\\nDISCRIMINAÇÃO: Concreto armado FCK=20MPA, c/ forma mad. branca\\nUNID.: m3\\nQUANT.: 4,62\\nP. UNIT.: \\nP. C/ BDI: 1.680,99\\nP. TOTAL: 7.599,90\\nP. TOTAL C/ BDI: 7.766,17\\n(A - B) / B: -2,14%\\n: ', metadata={'source': '../dados//analise_orcamento.csv', 'row': 13}),\n",
       " Document(page_content='\\ufeffCOD: 060046\\nDISCRIMINAÇÃO: Alvenaria tijolo de barro a cutelo\\nUNID.: m2\\nQUANT.: 111,60\\nP. UNIT.: \\nP. C/ BDI: 35,87\\nP. TOTAL: 4.018,72\\nP. TOTAL C/ BDI: 4.003,09\\n(A - B) / B: 0,36%\\n: ', metadata={'source': '../dados//analise_orcamento.csv', 'row': 14}),\n",
       " Document(page_content='\\ufeffCOD: 070194\\nDISCRIMINAÇÃO: Tesoura em madeira de lei p/ vão de 8m\\nUNID.: un\\nQUANT.: 4,00\\nP. UNIT.: \\nP. C/ BDI: 1.156,12\\nP. TOTAL: 4.212,48\\nP. TOTAL C/ BDI: 4.624,48\\n(A - B) / B: -8,91%\\n: ', metadata={'source': '../dados//analise_orcamento.csv', 'row': 15}),\n",
       " Document(page_content='\\ufeffCOD: 070051\\nDISCRIMINAÇÃO: Estrutura em madeira de lei p/ telha de barro - pç aparelhada\\nUNID.: m2\\nQUANT.: 108,00\\nP. UNIT.: \\nP. C/ BDI: 67,11\\nP. TOTAL: 6.887,16\\nP. TOTAL C/ BDI: 7.247,88\\n(A - B) / B: -4,98%\\n: ', metadata={'source': '../dados//analise_orcamento.csv', 'row': 16}),\n",
       " Document(page_content='\\ufeffCOD: 070052\\nDISCRIMINAÇÃO: Estrutura em madeira de lei p/ telha de barro - pç serrada\\nUNID.: m2\\nQUANT.: 193,20\\nP. UNIT.: \\nP. C/ BDI: 59,03\\nP. TOTAL: 11.336,98\\nP. TOTAL C/ BDI: 11.404,60\\n(A - B) / B: -0,59%\\n: ', metadata={'source': '../dados//analise_orcamento.csv', 'row': 17}),\n",
       " Document(page_content='\\ufeffCOD: 70058\\nDISCRIMINAÇÃO: Cobertura - telha plan\\nUNID.: m2\\nQUANT.: 301,20\\nP. UNIT.: \\nP. C/ BDI: 43,08\\nP. TOTAL: 12.894,37\\nP. TOTAL C/ BDI: 12.975,70\\n(A - B) / B: -0,63%\\n: ', metadata={'source': '../dados//analise_orcamento.csv', 'row': 18}),\n",
       " Document(page_content='\\ufeffCOD: 0287\\nDISCRIMINAÇÃO: Cumeeira de barro\\nUNID.: m\\nQUANT.: 35,00\\nP. UNIT.: \\nP. C/ BDI: 16,54\\nP. TOTAL: 510,65\\nP. TOTAL C/ BDI: 578,90\\n(A - B) / B: -11,79%\\n: ', metadata={'source': '../dados//analise_orcamento.csv', 'row': 19}),\n",
       " Document(page_content='\\ufeffCOD: 70241\\nDISCRIMINAÇÃO: Encaliçamento de telha cerâmica (beiral e cumeeira)\\nUNID.: m\\nQUANT.: 143,00\\nP. UNIT.: \\nP. C/ BDI: 6,90\\nP. TOTAL: 983,84\\nP. TOTAL C/ BDI: 986,70\\n(A - B) / B: -0,29%\\n: ', metadata={'source': '../dados//analise_orcamento.csv', 'row': 20}),\n",
       " Document(page_content='\\ufeffCOD: 90065\\nDISCRIMINAÇÃO: Esquadria mad. e=3cm c/ caix., aduela e alizar\\nUNID.: m2\\nQUANT.: 20,16\\nP. UNIT.: \\nP. C/ BDI: 564,46\\nP. TOTAL: 10.826,73\\nP. TOTAL C/ BDI: 11.379,51\\n(A - B) / B: -4,86%\\n: ', metadata={'source': '../dados//analise_orcamento.csv', 'row': 21}),\n",
       " Document(page_content='\\ufeffCOD: 90527\\nDISCRIMINAÇÃO: Janela mad. tipo de correr c/ caix. simples\\nUNID.: m2\\nQUANT.: 27,84\\nP. UNIT.: \\nP. C/ BDI: 446,30\\nP. TOTAL: 11.601,48\\nP. TOTAL C/ BDI: 12.424,99\\n(A - B) / B: -6,63%\\n: ', metadata={'source': '../dados//analise_orcamento.csv', 'row': 22}),\n",
       " Document(page_content='\\ufeffCOD: 90399\\nDISCRIMINAÇÃO: Portão de ferro 5/8\" c/ ferragens (incl. pint. anti-corrosiva)\\nUNID.: m2\\nQUANT.: 16,92\\nP. UNIT.: \\nP. C/ BDI: 320,68\\nP. TOTAL: 5.210,18\\nP. TOTAL C/ BDI: 5.425,91\\n(A - B) / B: -4,27%\\n: ', metadata={'source': '../dados//analise_orcamento.csv', 'row': 23}),\n",
       " Document(page_content='\\ufeffCOD: 90400\\nDISCRIMINAÇÃO: Grade de ferro 5/8\" (incl. Pint. anti-corrosiva)\\nUNID.: m2\\nQUANT.: 52,80\\nP. UNIT.: \\nP. C/ BDI: 271,30\\nP. TOTAL: 13.305,07\\nP. TOTAL C/ BDI: 14.324,64\\n(A - B) / B: -7,12%\\n: ', metadata={'source': '../dados//analise_orcamento.csv', 'row': 24}),\n",
       " Document(page_content='\\ufeffCOD: 100226\\nDISCRIMINAÇÃO: Ferragens p/ porta extema 1 fl.\\nUNID.: cj\\nQUANT.: 9,00\\nP. UNIT.: \\nP. C/ BDI: 138,20\\nP. TOTAL: 1.235,61\\nP. TOTAL C/ BDI: 1.243,80\\n(A - B) / B: -0,66%\\n: ', metadata={'source': '../dados//analise_orcamento.csv', 'row': 25}),\n",
       " Document(page_content='\\ufeffCOD: 110143\\nDISCRIMINAÇÃO: Chapisco de cimento e areia no traço 1:3\\nUNID.: m2\\nQUANT.: 299,50\\nP. UNIT.: \\nP. C/ BDI: 6,20\\nP. TOTAL: 1.859,90\\nP. TOTAL C/ BDI: 1.856,90\\n(A - B) / B: 0,16%\\n: ', metadata={'source': '../dados//analise_orcamento.csv', 'row': 26}),\n",
       " Document(page_content='\\ufeffCOD: 110644\\nDISCRIMINAÇÃO: Cerâmica 20x20cm - PEI - III\\nUNID.: m2\\nQUANT.: 76,30\\nP. UNIT.: \\nP. C/ BDI: 63,64\\nP. TOTAL: 4.919,82\\nP. TOTAL C/ BDI: 4.855,73\\n(A - B) / B: 1,32%\\n: ', metadata={'source': '../dados//analise_orcamento.csv', 'row': 27}),\n",
       " Document(page_content='\\ufeffCOD: 110762\\nDISCRIMINAÇÃO: Emboço com argamassa 1:6:kimikal\\nUNID.: m2\\nQUANT.: 76,30\\nP. UNIT.: \\nP. C/ BDI: 21,89\\nP. TOTAL: 1.679,36\\nP. TOTAL C/ BDI: 1.670,21\\n(A - B) / B: 0,55%\\n: ', metadata={'source': '../dados//analise_orcamento.csv', 'row': 28}),\n",
       " Document(page_content='\\ufeffCOD: 110763\\nDISCRIMINAÇÃO: Reboco com argamassa 1:6:kimikal\\nUNID.: m2\\nQUANT.: 223,20\\nP. UNIT.: \\nP. C/ BDI: 25,40\\nP. TOTAL: 5.684,90\\nP. TOTAL C/ BDI: 5.669,28\\n(A - B) / B: 0,28%\\n: ', metadata={'source': '../dados//analise_orcamento.csv', 'row': 29}),\n",
       " Document(page_content='\\ufeffCOD: 130111\\nDISCRIMINAÇÃO: Camada impermeabilizadora e=10cm c/ pedra preta (incl. Sika 1)\\nUNID.: m2\\nQUANT.: 44,00\\nP. UNIT.: \\nP. C/ BDI: 41,76\\nP. TOTAL: 1.849,32\\nP. TOTAL C/ BDI: 1.837,44\\n(A - B) / B: 0,65%\\n: ', metadata={'source': '../dados//analise_orcamento.csv', 'row': 30}),\n",
       " Document(page_content='\\ufeffCOD: 130110\\nDISCRIMINAÇÃO: Camada regularizadora no traço 1:4\\nUNID.: m2\\nQUANT.: 188,00\\nP. UNIT.: \\nP. C/ BDI: 21,29\\nP. TOTAL: 4.045,76\\nP. TOTAL C/ BDI: 4.002,52\\n(A - B) / B: 1,08%\\n: ', metadata={'source': '../dados//analise_orcamento.csv', 'row': 31}),\n",
       " Document(page_content='\\ufeffCOD: 130119\\nDISCRIMINAÇÃO: Lajota cerâmica 30x30 PEI-IV\\nUNID.: m2\\nQUANT.: 188,00\\nP. UNIT.: \\nP. C/ BDI: 69,10\\nP. TOTAL: 13.656,32\\nP. TOTAL C/ BDI: 12.990,80\\n(A - B) / B: 5,12%\\n: ', metadata={'source': '../dados//analise_orcamento.csv', 'row': 32}),\n",
       " Document(page_content='\\ufeffCOD: 130492\\nDISCRIMINAÇÃO: Calçada (inc. alicerce, baldrame e concreto c/ junta seca)\\nUNID.: m2\\nQUANT.: 108,00\\nP. UNIT.: \\nP. C/ BDI: 72,72\\nP. TOTAL: 7.854,84\\nP. TOTAL C/ BDI: 7.853,76\\n(A - B) / B: 0,01%\\n: ', metadata={'source': '../dados//analise_orcamento.csv', 'row': 33}),\n",
       " Document(page_content=\"\\ufeffCOD: 140348'\\nDISCRIMINAÇÃO: Barroteamento em madeira de lei p/ forro PVC\\nUNID.: m2\\nQUANT.: 188,00\\nP. UNIT.: \\nP. C/ BDI: 29,93\\nP. TOTAL: 5.307,24\\nP. TOTAL C/ BDI: 5.626,84\\n(A - B) / B: -5,68%\\n: \", metadata={'source': '../dados//analise_orcamento.csv', 'row': 34}),\n",
       " Document(page_content='\\ufeffCOD: 141336\\nDISCRIMINAÇÃO: Forro em Iambri de PVC\\nUNID.: m2\\nQUANT.: 188,00\\nP. UNIT.: \\nP. C/ BDI: 23,40\\nP. TOTAL: 4.399,20\\nP. TOTAL C/ BDI: 4.399,20\\n(A - B) / B: 0,00%\\n: ', metadata={'source': '../dados//analise_orcamento.csv', 'row': 35}),\n",
       " Document(page_content='\\ufeffCOD: 150730\\nDISCRIMINAÇÃO: PVA interna c/ massa acrílica e selador\\nUNID.: m2\\nQUANT.: 520,80\\nP. UNIT.: \\nP. C/ BDI: 21,42\\nP. TOTAL: 9.436,90\\nP. TOTAL C/ BDI: 11.155,54\\n(A - B) / B: -15,97%\\n: ', metadata={'source': '../dados//analise_orcamento.csv', 'row': 36}),\n",
       " Document(page_content='\\ufeffCOD: 150134\\nDISCRIMINAÇÃO: Esmalte sobre madeira c/ massa e sclador\\nUNID.: m2\\nQUANT.: 305,20\\nP. UNIT.: \\nP. C/ BDI: 24,58\\nP. TOTAL: 7.236,29\\nP. TOTAL C/ BDI: 7.501,82\\n(A - B) / B: -3,54%\\n: ', metadata={'source': '../dados//analise_orcamento.csv', 'row': 37}),\n",
       " Document(page_content='\\ufeffCOD: 150491\\nDISCRIMINAÇÃO: Esmalte sobre grade de ferro (superf. aparelhada)\\nUNID.: m2\\nQUANT.: 139,04\\nP. UNIT.: \\nP. C/ BDI: 28,57\\nP. TOTAL: 4.065,53\\nP. TOTAL C/ BDI: 3.972,37\\n(A - B) / B: 2,35%\\n: ', metadata={'source': '../dados//analise_orcamento.csv', 'row': 38}),\n",
       " Document(page_content='\\ufeffCOD: 150253\\nDISCRIMINAÇÃO: Acrílica fosca int/ext c/ massa e selador 3 demaos\\nUNID.: m2\\nQUANT.: 258,29\\nP. UNIT.: \\nP. C/ BDI: 27,26\\nP. TOTAL: 6.501,16\\nP. TOTAL C/ BDI: 7.040,99\\n(A - B) / B: -7,67%\\n: ', metadata={'source': '../dados//analise_orcamento.csv', 'row': 39}),\n",
       " Document(page_content='\\ufeffCOD: 150207\\nDISCRIMINAÇÃO: Novacor\\nUNID.: m2\\nQUANT.: 108,00\\nP. UNIT.: \\nP. C/ BDI: 10,84\\nP. TOTAL: 1.080,00\\nP. TOTAL C/ BDI: 1.170,72\\n(A - B) / B: -7,75%\\n: ', metadata={'source': '../dados//analise_orcamento.csv', 'row': 40}),\n",
       " Document(page_content='\\ufeffCOD: 150286\\nDISCRIMINAÇÃO: Pintura s/ telha cerâmica\\nUNID.: m2\\nQUANT.: 301,20\\nP. UNIT.: \\nP. C/ BDI: 10,28\\nP. TOTAL: 2.828,27\\nP. TOTAL C/ BDI: 3.096,34\\n(A - B) / B: -8,66%\\n: ', metadata={'source': '../dados//analise_orcamento.csv', 'row': 41}),\n",
       " Document(page_content='\\ufeffCOD: 170321\\nDISCRIMINAÇÃO: Centro de distribuição p/ 12 disjuntores (c/ barramento)\\nUNID.: un\\nQUANT.: 2,00\\nP. UNIT.: \\nP. C/ BDI: 244,17\\nP. TOTAL: 487,40\\nP. TOTAL C/ BDI: 488,34\\n(A - B) / B: -0,19%\\n: ', metadata={'source': '../dados//analise_orcamento.csv', 'row': 42}),\n",
       " Document(page_content='\\ufeffCOD: 180414\\nDISCRIMINAÇÃO: Caixa em alvenaria de 30x30x30cm com tampa de concreto\\nUNID.: un\\nQUANT.: 4,00\\nP. UNIT.: \\nP. C/ BDI: 97,93\\nP. TOTAL: 388,76\\nP. TOTAL C/ BDI: 391,72\\n(A - B) / B: -0,76%\\n: ', metadata={'source': '../dados//analise_orcamento.csv', 'row': 43}),\n",
       " Document(page_content='\\ufeffCOD: 170076\\nDISCRIMINAÇÃO: Eletroduto PVC de 3/4\"\\nUNID.: m\\nQUANT.: 25,00\\nP. UNIT.: \\nP. C/ BDI: 5,36\\nP. TOTAL: 130,75\\nP. TOTAL C/ BDI: 134,00\\n(A - B) / B: -2,43%\\n: ', metadata={'source': '../dados//analise_orcamento.csv', 'row': 44}),\n",
       " Document(page_content='\\ufeffCOD: 170418\\nDISCRIMINAÇÃO: Cabo de cobre 2,5mm2 - 750 V\\nUNID.: m\\nQUANT.: 60,00\\nP. UNIT.: \\nP. C/ BDI: 3,30\\nP. TOTAL: 190,20\\nP. TOTAL C/ BDI: 198,00\\n(A - B) / B: -3,94%\\n: ', metadata={'source': '../dados//analise_orcamento.csv', 'row': 45}),\n",
       " Document(page_content='\\ufeffCOD: 170744\\nDISCRIMINAÇÃO: Cabo de cobre 4mm2 - 1 KV\\nUNID.: m\\nQUANT.: 40,00\\nP. UNIT.: \\nP. C/ BDI: 5,01\\nP. TOTAL: 190,00\\nP. TOTAL C/ BDI: 200,40\\n(A - B) / B: -10,18%\\n: ', metadata={'source': '../dados//analise_orcamento.csv', 'row': 46}),\n",
       " Document(page_content='\\ufeffCOD: 170749\\nDISCRIMINAÇÃO: Cabo de cobre 35mm2 - 1 KV\\nUNID.: m\\nQUANT.: 120,00\\nP. UNIT.: \\nP. C/ BDI: 20,03\\nP. TOTAL: 1.850,40\\nP. TOTAL C/ BDI: 2.403,60\\n(A - B) / B: -23,02%\\n: ', metadata={'source': '../dados//analise_orcamento.csv', 'row': 47}),\n",
       " Document(page_content='\\ufeffCOD: 170081\\nDISCRIMINAÇÃO: Ponto de luz / força (c/tubul., cx. e fiaçao) ate 200W\\nUNID.: pt\\nQUANT.: 24,00\\nP. UNIT.: \\nP. C/ BDI: 120,60\\nP. TOTAL: 2.831,52\\nP. TOTAL C/ BDI: 2.894,40\\n(A - B) / B: -2,17%\\n: ', metadata={'source': '../dados//analise_orcamento.csv', 'row': 48}),\n",
       " Document(page_content='\\ufeffCOD: 170692\\nDISCRIMINAÇÃO: Ponto p/ ventilador de teto (c/ fiaçao)\\nUNID.: pt\\nQUANT.: 12,00\\nP. UNIT.: \\nP. C/ BDI: 56,67\\nP. TOTAL: 657,36\\nP. TOTAL C/ BDI: 680,04\\n(A - B) / B: -3,34%\\n: ', metadata={'source': '../dados//analise_orcamento.csv', 'row': 49}),\n",
       " Document(page_content='\\ufeffCOD: 170332\\nDISCRIMINAÇÃO: Interruptor simples 1 tecla (s/ fiação)\\nUNID.: un\\nQUANT.: 4,00\\nP. UNIT.: \\nP. C/ BDI: 7,72\\nP. TOTAL: 26,52\\nP. TOTAL C/ BDI: 30,88\\n(A - B) / B: -14,12%\\n: ', metadata={'source': '../dados//analise_orcamento.csv', 'row': 50}),\n",
       " Document(page_content='\\ufeffCOD: 170340\\nDISCRIMINAÇÃO: Tomada universal 10A-250V (s/ fiaçao)\\nUNID.: un\\nQUANT.: 5,00\\nP. UNIT.: \\nP. C/ BDI: 10,58\\nP. TOTAL: 44,55\\nP. TOTAL C/ BDI: 52,90\\n(A - B) / B: -15,78%\\n: ', metadata={'source': '../dados//analise_orcamento.csv', 'row': 51}),\n",
       " Document(page_content='\\ufeffCOD: 170536\\nDISCRIMINAÇÃO: Luminária c/ 02 lamp.fluor. 16W-tubular (s/fiaçao)\\nUNID.: un\\nQUANT.: 12,00\\nP. UNIT.: \\nP. C/ BDI: 75,35\\nP. TOTAL: 901,32\\nP. TOTAL C/ BDI: 904,20\\n(A - B) / B: -0,32%\\n: ', metadata={'source': '../dados//analise_orcamento.csv', 'row': 52}),\n",
       " Document(page_content='\\ufeffCOD: 170537\\nDISCRIMINAÇÃO: Luminária c/ 02 lamp.fluor. 32W-tubular (s/fiaçao)\\nUNID.: un\\nQUANT.: 24,00\\nP. UNIT.: \\nP. C/ BDI: 97,40\\nP. TOTAL: 2.331,84\\nP. TOTAL C/ BDI: 2.337,60\\n(A - B) / B: -0,25%\\n: ', metadata={'source': '../dados//analise_orcamento.csv', 'row': 53}),\n",
       " Document(page_content='\\ufeffCOD: SINAPI - 74246/001\\nDISCRIMINAÇÃO: Refletor retangular completo com lâmpada vapor de mercúrio de 1000W\\nUNID.: un\\nQUANT.: 3,00\\nP. UNIT.: 188,58\\nP. C/ BDI: 245,15\\nP. TOTAL: 719,61\\nP. TOTAL C/ BDI: 735,46\\n(A - B) / B: -10,14%\\n: ', metadata={'source': '../dados//analise_orcamento.csv', 'row': 54}),\n",
       " Document(page_content='\\ufeffCOD: SINAPI - 73783/007\\nDISCRIMINAÇÃO: Poste de concreto h=7,00m ( incluindo base de concrcto ciclópico)\\nUNID.: un\\nQUANT.: 3,00\\nP. UNIT.: 526,69\\nP. C/ BDI: 684,70\\nP. TOTAL: 1.602,33\\nP. TOTAL C/ BDI: 2.054,09\\n(A - B) / B: -24,05%\\n: ', metadata={'source': '../dados//analise_orcamento.csv', 'row': 55}),\n",
       " Document(page_content='\\ufeffCOD: 171165\\nDISCRIMINAÇÃO: Haste de Aço cobreada 5/8\"\"x3,0m c/ conector\\nUNID.: un\\nQUANT.: 1,00\\nP. UNIT.: \\nP. C/ BDI: 59,07\\nP. TOTAL: 57,67\\nP. TOTAL C/ BDI: 59,07\\n(A - B) / B: -2,37%\\n: ', metadata={'source': '../dados//analise_orcamento.csv', 'row': 56}),\n",
       " Document(page_content='\\ufeffCOD: 180299\\nDISCRIMINAÇÃO: Ponto de agua (incl. tubos e conexoes)\\nUNID.: pt\\nQUANT.: 8,00\\nP. UNIT.: \\nP. C/ BDI: 216,39\\nP. TOTAL: 1.726,72\\nP. TOTAL C/ BDI: 1.731,12\\n(A - B) / B: -0,25%\\n: ', metadata={'source': '../dados//analise_orcamento.csv', 'row': 57}),\n",
       " Document(page_content='\\ufeffCOD: 180838\\nDISCRIMINAÇÃO: Reservatório em fibra de vidro 10.000 L\\nUNID.: un\\nQUANT.: 1,00\\nP. UNIT.: \\nP. C/ BDI: 3.994,37\\nP. TOTAL: 3.890,58\\nP. TOTAL C/ BDI: 3.994,37\\n(A - B) / B: -2,60%\\n: ', metadata={'source': '../dados//analise_orcamento.csv', 'row': 58}),\n",
       " Document(page_content='\\ufeffCOD: 180214\\nDISCRIMINAÇÃO: Ponto de esgoto (incl. tubos, conexoes,cx. c ralos)\\nUNID.: pt\\nQUANT.: 6,00\\nP. UNIT.: \\nP. C/ BDI: 215,06\\nP. TOTAL: 1.258,56\\nP. TOTAL C/ BDI: 1.290,36\\n(A - B) / B: -2,46%\\n: ', metadata={'source': '../dados//analise_orcamento.csv', 'row': 59}),\n",
       " Document(page_content='\\ufeffCOD: 180543\\nDISCRIMINAÇÃO: Sumidouro em alvenaria c/ tampa em concreto - cap. 50 pessoas\\nUNID.: un\\nQUANT.: 1,00\\nP. UNIT.: \\nP. C/ BDI: 1.393,73\\nP. TOTAL: 1.223,00\\nP. TOTAL C/ BDI: 1.393,73\\n(A - B) / B: -12,25%\\n: ', metadata={'source': '../dados//analise_orcamento.csv', 'row': 60}),\n",
       " Document(page_content='\\ufeffCOD: 180550\\nDISCRIMINAÇÃO: Fossa septica em concreto armado cap=50 pessoas\\nUNID.: un\\nQUANT.: 1,00\\nP. UNIT.: \\nP. C/ BDI: 3.976,21\\nP. TOTAL: 3.525,00\\nP. TOTAL C/ BDI: 3.976,21\\n(A - B) / B: -11,35%\\n: ', metadata={'source': '../dados//analise_orcamento.csv', 'row': 61}),\n",
       " Document(page_content='\\ufeffCOD: 180508\\nDISCRIMINAÇÃO: Tubo em PVC - 150mm (LS)\\nUNID.: m\\nQUANT.: 20,00\\nP. UNIT.: \\nP. C/ BDI: 39,33\\nP. TOTAL: 792,00\\nP. TOTAL C/ BDI: 786,60\\n(A - B) / B: 0,69%\\n: ', metadata={'source': '../dados//analise_orcamento.csv', 'row': 62}),\n",
       " Document(page_content='\\ufeffCOD: 180513\\nDISCRIMINAÇÃO: Canaleta em alvenaria (0.30x0.30m) rebocada internamente\\nUNID.: m\\nQUANT.: 72,00\\nP. UNIT.: \\nP. C/ BDI: 61,43\\nP. TOTAL: 4.441,68\\nP. TOTAL C/ BDI: 4.422,96\\n(A - B) / B: 0,42%\\n: ', metadata={'source': '../dados//analise_orcamento.csv', 'row': 63}),\n",
       " Document(page_content='\\ufeffCOD: 190087\\nDISCRIMINAÇÃO: Saboneteira de louça\\nUNID.: un\\nQUANT.: 3,00\\nP. UNIT.: \\nP. C/ BDI: 31,88\\nP. TOTAL: 92,16\\nP. TOTAL C/ BDI: 95,64\\n(A - B) / B: -3,64%\\n: ', metadata={'source': '../dados//analise_orcamento.csv', 'row': 64}),\n",
       " Document(page_content='\\ufeffCOD: 190090\\nDISCRIMINAÇÃO: Bacia sifonada de louça c/ assenlo\\nUNID.: un\\nQUANT.: 3,00\\nP. UNIT.: \\nP. C/ BDI: 210,16\\nP. TOTAL: 599,16\\nP. TOTAL C/ BDI: 630,48\\n(A - B) / B: -4,97%\\n: ', metadata={'source': '../dados//analise_orcamento.csv', 'row': 65}),\n",
       " Document(page_content='\\ufeffCOD: 190224\\nDISCRIMINAÇÃO: Caixa de descarga plastica externa\\nUNID.: un\\nQUANT.: 3,00\\nP. UNIT.: \\nP. C/ BDI: 76,91\\nP. TOTAL: 227,49\\nP. TOTAL C/ BDI: 230,73\\n(A - B) / B: -1,40%\\n: ', metadata={'source': '../dados//analise_orcamento.csv', 'row': 66}),\n",
       " Document(page_content='\\ufeffCOD: 190218\\nDISCRIMINAÇÃO: Chuveiro em PVC\\nUNID.: un\\nQUANT.: 1,00\\nP. UNIT.: \\nP. C/ BDI: 16,63\\nP. TOTAL: 14,83\\nP. TOTAL C/ BDI: 16,63\\n(A - B) / B: -11,43%\\n: ', metadata={'source': '../dados//analise_orcamento.csv', 'row': 67}),\n",
       " Document(page_content='\\ufeffCOD: 190375\\nDISCRIMINAÇÃO: Lavatório de louça c/ col., torneira, sifão e válvula\\nUNID.: un\\nQUANT.: 3,00\\nP. UNIT.: \\nP. C/ BDI: 338,38\\nP. TOTAL: 966,57\\nP. TOTAL C/ BDI: 1.015,14\\n(A - B) / B: -4,78%\\n: ', metadata={'source': '../dados//analise_orcamento.csv', 'row': 68}),\n",
       " Document(page_content='\\ufeffCOD: 190376\\nDISCRIMINAÇÃO: Tanque inox c/ torneira, sifao e válvula\\nUNID.: un\\nQUANT.: 2,00\\nP. UNIT.: \\nP. C/ BDI: 518,26\\nP. TOTAL: 1.040,84\\nP. TOTAL C/ BDI: 1.036,52\\n(A - B) / B: 0,36%\\n: ', metadata={'source': '../dados//analise_orcamento.csv', 'row': 69}),\n",
       " Document(page_content='\\ufeffCOD: 190098\\nDISCRIMINAÇÃO: Torneira de metal de 3/4\" p/ tanque e pia\\nUNID.: un\\nQUANT.: 6,00\\nP. UNIT.: \\nP. C/ BDI: 48,79\\nP. TOTAL: 269,58\\nP. TOTAL C/ BDI: 292,74\\n(A - B) / B: -7,91%\\n: ', metadata={'source': '../dados//analise_orcamento.csv', 'row': 70}),\n",
       " Document(page_content='\\ufeffCOD: 241317\\nDISCRIMINAÇÃO: Placa de inauguraçao em acrílico/letras bx. relevo-(60 x 40cm)\\nUNID.: un\\nQUANT.: 1,00\\nP. UNIT.: \\nP. C/ BDI: 2.545,35\\nP. TOTAL: 1.140,00\\nP. TOTAL C/ BDI: 2.545,35\\n(A - B) / B: -63,07%\\n: ', metadata={'source': '../dados//analise_orcamento.csv', 'row': 71}),\n",
       " Document(page_content='\\ufeffCOD: 250512\\nDISCRIMINAÇÃO: Casa de bomba 1,20x0,80m; h = 0,80m\\nUNID.: un\\nQUANT.: 1,00\\nP. UNIT.: \\nP. C/ BDI: 954,72\\nP. TOTAL: 949,23\\nP. TOTAL C/ BDI: 954,72\\n(A - B) / B: -28,90%\\n: ', metadata={'source': '../dados//analise_orcamento.csv', 'row': 72}),\n",
       " Document(page_content='\\ufeffCOD: 250546\\nDISCRIMINAÇÃO: Passarela coberta c/ telhas de barro-pilar sanduiche (det.23)\\nUNID.: m\\nQUANT.: 31,00\\nP. UNIT.: \\nP. C/ BDI: 1.013,04\\nP. TOTAL: 31.385,33\\nP. TOTAL C/ BDI: 31.404,24\\n(A - B) / B: -0,06%\\n: ', metadata={'source': '../dados//analise_orcamento.csv', 'row': 73}),\n",
       " Document(page_content=\"\\ufeffCOD: 250658\\nDISCRIMINAÇÃO: Torre em conc. armado p/ cx.d'agua h=6,0m-base 2.0x2.0m\\nUNID.: un\\nQUANT.: 1,00\\nP. UNIT.: \\nP. C/ BDI: 8.372,91\\nP. TOTAL: 7.598,25\\nP. TOTAL C/ BDI: 8.372,91\\n(A - B) / B: -34,31%\\n: \", metadata={'source': '../dados//analise_orcamento.csv', 'row': 74}),\n",
       " Document(page_content='\\ufeffCOD: 270220\\nDISCRIMINAÇÃO: Limpeza geral e entrega da obra\\nUNID.: m2\\nQUANT.: 576,00\\nP. UNIT.: \\nP. C/ BDI: 3,47\\nP. TOTAL: 1.969,92\\nP. TOTAL C/ BDI: 1.998,72\\n(A - B) / B: -1,44%\\n: ', metadata={'source': '../dados//analise_orcamento.csv', 'row': 75})]"
      ]
     },
     "execution_count": 7,
     "metadata": {},
     "output_type": "execute_result"
    }
   ],
   "source": [
    "from langchain.document_loaders import CSVLoader\n",
    "\n",
    "loader = CSVLoader(file_path=base_dir + \"/analise_orcamento.csv\", csv_args={\"delimiter\": \";\"})\n",
    "docs = loader.load()\n",
    "docs"
   ]
  },
  {
   "cell_type": "markdown",
   "id": "6ad3d12c",
   "metadata": {},
   "source": [
    "# Retrieval Augmented Generation\n",
    "\n",
    "1. Faça o load de documentos\n",
    "2. Quebre-os em Chunks\n",
    "3. Cálcule dos Embeddings\n",
    "4. Armazene no VectorDB\n",
    "\n",
    "> Fizemos algo semelhante na aula mod-03-aula3.ipynb\n",
    "\n",
    "https://python.langchain.com/assets/images/qa_flow-9fbd91de9282eb806bda1c6db501ecec.jpeg"
   ]
  },
  {
   "cell_type": "code",
   "execution_count": 8,
   "id": "b6019a92",
   "metadata": {},
   "outputs": [
    {
     "data": {
      "text/plain": [
       "144"
      ]
     },
     "execution_count": 8,
     "metadata": {},
     "output_type": "execute_result"
    }
   ],
   "source": [
    "from langchain.document_loaders.pdf import PyPDFDirectoryLoader\n",
    "\n",
    "# Carrega Documentos\n",
    "loader = PyPDFDirectoryLoader(path=base_dir + '/docs/')\n",
    "documents = loader.load()\n",
    "\n",
    "len(documents)"
   ]
  },
  {
   "cell_type": "code",
   "execution_count": 9,
   "id": "51dbd7a6",
   "metadata": {},
   "outputs": [
    {
     "name": "stdout",
     "output_type": "stream",
     "text": [
      "page_content='PLANO DE GESTÃO\\n2023 - 2025\\nPRAZO\\n16/8/2024RESPONSÁVEL\\nSEGPMETA\\nAprimorar 1 Programa de Saúde Preventiva.Descrição da ação\\nExpandir as ações de atendimento aos usuários do Programa de Saúde Preventiva para as \\ndemais especialidades disponibilizadas pela Coordenadoria de Saúde e Qualidade de Vida \\n(CSQ).AÇÃO\\nAprimoramento do Programa de Saúde Preventiva.OBJETIVO ESTRATÉGICO\\nAmpliar a efetividade das políticas e diretrizes da gestão de pessoas.\\n36\\nAÇÃO 21\\nTRIBUNAL DE CONTAS DO ESTADO DO PARÁ' metadata={'source': '../dados/docs/Plano_Gestao_2023-2025_Virtual.pdf', 'page': 33}\n",
      "71\n"
     ]
    },
    {
     "data": {
      "text/plain": [
       "[' \\nTRIBUNAL DE CONTAS DO ESTADO DO PARÁ  \\nSECRETARIA  \\nATO Nº 69  \\n \\n(Consolidado com as alterações dos atos nºs 71 de 05.02.2015 , \\n80 de 07.11.2019  e 88 de 23.05.2023 ) \\n \\nREGULAMENTO DE SERVIÇOS AUXILIARES  DO \\n TRIBUNAL DE CONTAS DO ESTADO DO PARÁ  \\n \\nCAPÍTULO I  \\nDA FINALIDADE E ESTRUTURA  DOS SERVIÇOS AUXILIARES  \\n \\nArt. 1º Os Serviços Auxiliares compreendem o conjunto de unidades de trabalho que \\ntêm por finalidade desempenhar atividades de apoio, assessoramento e gestão \\nnecessárias ao pleno exercício das competências do Tribunal de Contas do  Estado do \\nPará.  \\n \\nArt. 2º A estrutura dos Serviços Auxiliares do Tribunal de Contas do Estado do Pará é \\ncomposta pelas seguintes unidades:  \\n \\nI - Na atividade de apoio : \\na) Gabinete da Presidência;  \\nb) Gabinete da  Vice-Presidência;  \\nc) revogado  \\nd) Gabinetes dos  Conselheiros;  \\ne) Gabinetes dos Auditores.  \\n**(alínea “ c” revogada  pelo Ato nº 80/2019)  \\n \\nII - Na atividade de assessoramento : \\na) Procuradoria;  \\nb) Secretaria de Planejamento e Gestão Estratégica;  \\nc) Secretaria de Controle Interno.  \\n \\nIII - Na atividade de ges tão: \\na) Secretaria  Geral ; \\nb) Secretaria de Controle Externo;  \\nc) Secretaria de Tecnologia da Informação;  \\nd) Secretaria  de Administração;  \\ne) Secretaria de Gestão de Pessoas (NR)  \\nf) Representações . \\n**(alínea “ e” com redação alterada pelo  Ato nº 71/2015 )  \\n**(alínea “ f” com redação alterada pelo Ato nº 71/2015 )  \\n \\nCAPÍTULO II  \\nDA DIREÇÃO  \\n \\nArt. 3º Compete ao Presidente a direção das unidades dos Serviços Auxiliares.  \\n \\nParágrafo único. As unidades Gabinete da Vice -Presidência, dos Conselheiros e dos \\nAuditores são sub ordinadas aos respectivos titulares. (NR)  \\n**(parágrafo único com redação alterada pelo Ato nº 80/2019)  ',\n",
       " ' Art. 4º Compete ao Subprocurador e aos Subsecretários substituí rem os titulares das \\nunidades de serviços auxiliares no exercício de suas atribuições  em caso de suas \\nausências ou impedimentos . \\n \\nArt. 5 º A Assessoria Técnica das unidades relacionadas nas alíneas a, b , c e d, do \\ninciso III, do art. 2º será coordenada pelo respectivo S ubsecretário . \\n \\nArt. 6º A chefia de cada uma das Coordenadorias e Controlador ias mencionados no \\npresente Regulamento serão providas por função gratificada em nível de Coordenador e \\nControlador respectivamente.  \\n \\nCAPÍTULO III  \\nCOMPETÊNCIAS E COMPOSIÇÃO DAS UNIDADES DOS SERVIÇOS AUXILIARES  \\n \\nArt. 7º São competências comuns às unidades d os Serviços Auxiliares:  \\nI - implementar as ações de gestão com vista à consecução dos objetivos e metas \\nestabelecidos pelo Presidente ou pelo Tribunal Pleno;  \\nII - executar metas em consonância com o Planejamento Estratégico;  \\nIII - controlar e avaliar os r esultados dos trabalhos na sua área de atuação, promovendo \\nos ajustes necessários;  \\nIV - fornecer subsídios para a elaboração de indicadores de desempenho de sua área \\nde atuação, bem como avaliar e monitorar o cumprimento desses indicadores;  \\nV - estabelece r rotinas e procedimentos de trabalho, propor normas e manuais \\nreferentes à sua área de atuação;  \\nVI - requisitar, coordenar e controlar seus recursos humanos, materiais e patrimoniais;  \\nVII - recepcionar, tramitar, controlar, acompanhar, dar baixa e arquiva r processos e \\ndemais documentos expedidos e recebidos, de âmbito interno e externo de interesse da \\nunidade;  \\nVIII - acompanhar e monitorar o cumprimento das decisões do Tribunal, na sua área de \\natuação;  \\nIX - acompanhar e fiscalizar a execução dos contratos  administrativos e convênios \\nfirmados pelo Tribunal, cuja gestão esteja a cargo da unidade, com o apoio da \\nAssessoria Técnica da Secretaria de Administração;  \\nX - propor à Diretoria de Gestão de Pessoas da Secretaria de Administração cursos e \\nseminários pa ra aprimoramento dos trabalhos;  \\nXI - apresentar ao Presidente relatórios trimestrais e anual de suas atividades;  \\nXII - desempenhar outras funções que lhe forem atribuídas por determinação do \\nPresidente, por deliberação do Tribunal Pleno ou pela Chefia ime diata.  \\n \\nSEÇÃO I \\nGABINETE DA PRESIDÊNCIA  \\n \\nArt. 8º O Gabinete da Presidência (GPRES) unidade de apoio subordinada diretamente  \\nao Presidente tem por finalidade coordenar e organizar as atividades administrativas e \\nde representação da Presidência, bem como as ações de comunicação social, \\ncerimonial e relação institucional com os Poderes e outros órgãos e entidades nacionais \\ne internacionais.  \\n \\nArt. 9º Compete ao Gabinete da Presidê ncia: \\nI - coordenar, organizar e executar atividades administrativas inerentes ao cumprimento \\ndas atribuições do Presidente e d os serviços de representação da Presidência;  \\nII - coordenar, externa e internamente, as relações da Presidência;  \\nIII - assessorar o  Presidente  na supervisão e coordenação das atividades do Tribunal;  \\nIV - assesso rar o Presid ente na redação da correspondência e dos despachos, reunindo \\nos subsídios necessários;  ',\n",
       " ' V - organizar a matéria extrapauta que o Presidente submeterá a seus pares nas \\nsessões plenárias;  \\nVI - coordenar a organiza ção e o encaminha mento  da correspo ndência fazendo a \\ndevida triagem;  \\nVII - receber servidores e visitantes, providenciando o encaminhamento dos assuntos ao \\nPresidente ; \\nVIII - organizar a agenda de compromissos d o Presid ente; \\nIX - providenciar os termos de convocação de Auditor para substitu ir Conselheiro, na \\nforma estabelecida no Regimento Interno.  \\n \\nParágrafo único. O GPRES será dirigido  por um Chefe de Gabinete,  competindo -lhe as \\natividades d o Gabinete  referidas neste Regulamento, e conta com as funções \\ngratificadas constantes do Anexo I .  \\n \\nArt. 10. O Gabinete da Presidência  possui a seguinte composição:  \\nI - Assessoria de Comunicação e Relações Públicas ; \\nII - Assessoria de Cerimonial  e Relações Institucionais;  \\nIII - Coordenadoria de Apoio Técnico . \\n \\nSubseção I  \\nDas Competências das Unidades e Sub-unidades do Gabinete da Presidência  \\n \\nArt. 11. Compete à Assessoria de Comunicação e Relações Públicas  (ACRP):  \\nI - propor, coordenar, implementar e acompanhar políticas e diretrizes relativas à \\ncomunicação institucional e ao relacionamento do Tribunal c om a imprensa com o \\nobjetivo de maximizar a integração da instituição com os seus públicos e consolidar seu \\nconceito e imagem junto à sociedade;  \\nII - prestar, no âmbito da sua área de atuação, o apoio especializado ao funcionamento \\ndo Tribunal;  \\nIII - promo ver, de forma integrada com as demais áreas afins, a divulgação da atuação \\ndo Tribunal objetivando estimular a transparência e o aperfeiçoamento da Gestão \\nPública;  \\nIV - planejar, coordenar e supervisionar ações e projetos de comunicação interna e \\nexterna d as ações do Tribunal;  \\nV - planejar e organizar serviços técnicos de jornalismo, envolvendo redação, revisão, \\nilustração, diagramação e outras atividades correlatas;  \\nVI - coletar e preparar notícias e informações relativas ao Tribunal para divulgação;  \\nVII - elaborar Manuais de atendimento a imprensa, de editoração, de eventos, de \\nidentidade visual, de redação, de textos jornalísticos objetivando padronizar os \\nprocedimentos de comunicação e dar unicidade aos disc ursos e ações da empresa;  \\nVIII - planejar, exec utar, supervisionar as atividades da Rádio TCE;  \\nIX - definir o fluxo de Comunicação interna ágil e eficiente, apoiando -se no fato de que \\nos servidores contribuem, de forma decisiva, para a formação da imagem da instituição;  \\nX - assessorar o Presidente, os  Conselheiros e Secretários n os contatos com os \\nveículos de imprensa;  \\nXI - promover maior integração do Tribunal com a comunidade;  \\nXII - coordenar a realização de pesquisa de imagem da instituição junto a sociedade.  \\n \\nArt. 12. Compete à Assessoria de Cerimo nial e Relações Institucionais (ACRI) : \\nI - planejar e executar os procedimentos relativos ao cerimonial e ao rito protocol ar; \\nII - planejar, organizar e acompanhar a programação de cerimonial, solenidades e \\nrecepções oficiais do Tribunal, no âmbito interno  e externo, de acordo com as normas \\nprotocolares;  \\nIII - gerenciar a agenda de eventos;  ',\n",
       " ' IV - organizar e manter atualizado o cadastro das autoridades civis e militares, com as \\nquais o Tribunal exerce relações institucionais e protocolares , com os respectivo s \\ncargos, endereços e telefones;  \\nV - acompanhar a agenda  do Presidente;  \\nVI - coordenar a representação do Tribunal em eventos externos;  \\nVII - elaborar, em articulação com a chefia de Gabinete do Presidente, a agenda de \\nrepresentação oficial do Presidente,  compatibilizando -a com a agenda diária de \\naudiências;  \\nVIII - organizar a agenda de viagens e visitas oficiais do Presidente, obedecendo a \\nprogramação proposta;  \\nIX - organizar as comitivas para as cerimônias;  \\nX - receber e preparar as correspondências ofic iais e de cortesia do Presidente, bem \\ncomo participar na criação e expedição de convites, circulares, títulos e demais \\ncorrespondências inerentes para que sejam observadas a etiqueta e diplomacia;  \\nXI - atuar em eventos educativos promovidos pelo Tribunal;  \\nXII - fiscalizar e organizar a infraestrutura física e logística para a realização de eventos \\ninstitucionais ; \\nXIII - supervisionar os ambientes  designados,  quando da recepção de autoridades ou \\npromoções de solenidades;  \\nXIV - coordenar o Museu Serzedello Co rrêa e o Espaço Cultural de Exposição \\nCons elheiro  Clóvis Silva de Moraes Rego ;  \\nXV - organizar o arquivo histórico deste Tribunal;  \\nXVI - manter e atualizar as listagens de personalidades ligadas a este Tribunal, \\npromovendo a coleta, análise e exposição de dados históricos e biográficos dessas \\npersonalidades, com vista à publicação;  \\nXVII - registrar os fatos significativos para a história da instituição, por meio de filmagem, \\nfotografias e guarda de documentos;  \\nXVIII  - pesquisar documentos e informações que se relacionem à história deste Tribunal \\ne de Serzedello Corrêa;  \\nXIX - recolher, analisar, organizar e expor a história da existência deste Tribunal de \\nContas, de seus autores e de Serzedello Corrêa de forma didática e científica;  \\nXX - interagir com os sist emas nacional e estadual de Arquivos, Bibliotecas e Museus na \\npermanente formação de políticas de preservação da Cultura brasileira;  \\nXXI - promover mostras, divulgação e aperfeiçoamento do acervo organizado;  \\nXXII - permitir à soc iedade a consulta ao seu ac ervo;  \\nXXIII - organizar atividades como visitas guiadas para estudantes.  \\nParágrafo único.  A Assessoria de Cerimonial  e Relações Institucionais possui uma \\nGerência de  Atendimento ao Público , à qual compete:  \\nI - atender ao público em geral;  \\nII - fazer o devi do encaminhamento de pessoas as divers as unidades,  para tratarem de \\nassuntos relacionados a processos ou qualquer outro de interesse do Tribunal;  \\nIII - controlar a saída e retorno de funcionários durante o expediente do  Tribunal;  \\nIV - controlar o tempo de permanência de funcionários que comparecem  à recepção \\npara atendimento de pessoas que objetivam tratar de assunto de ordem particular . \\n \\nArt. 13.  Compete a Coordenadoria de Apoio Técnico  (CAT) : \\nI - organizar e encaminhar os processos e expedientes, fazendo a devida triagem;  \\nII - assessorar o Chefe de Gabinete na consolidação dos relatórios trimestrais e anual;  \\nIII - executar e manter atualizado o sistema de mala direta;  \\nIV - elaborar e encaminhar as correspondências e demais documentos da Chefia de \\nGabinete.  \\n \\n \\n \\n \\n ',\n",
       " ' SEÇÃO II  \\nGABINETE DA VICE -PRESIDÊ NCIA  \\n \\nArt. 14. O Gabinete d a Vice-Presidência  unidade de apoio subordinada diretamente a o \\nVice-Presidente tem por finalidade o auxílio técnico e administrativo das atividades por \\neste desenvolvidas conforme Regimento Interno . \\n \\nArt. 15.  As competências, as atividades e os controles dos integrantes o Gabinete do  \\nVice-Presidente serão por este estabelecido na forma regimental.  \\n \\nArt. 16. O Gabinete da Vice -Presidência possui em sua estrutura uma assessoria de \\nnível superio r, cabendo ao Conselheiro a respectiva indicaç ão para fins  de nomeação \\npelo Presidente.  \\n \\nSEÇÃO III  \\nGABINETE DA CORREGEDORIA  \\n \\nArt. 17. Revogado  \\nArt. 18. Revogado  \\nArt. 19. Revogado  \\n \\n**(Arts. 17, 18 e 19  revogad os pelo Ato nº 80/2019)  \\nSEÇÃO IV  \\nGABINETES DOS C ONSELHEIROS  \\n \\nArt. 20. Os Gabinetes dos Conselheiros unidade s de apoio subordinada diretamente a \\ncada um dos Conselheiros , destinam -se ao auxílio técnico e administrativo das \\natividades dos membros do Tribunal.  \\n \\nArt. 21.  As competências, as atividades e os controles dos integrantes dos Gabinetes \\ndos Conselheiros serão por estes estabelecidos na forma regimental.  \\n \\nArt. 22. Os Gabinetes dos Conselheiros possuem em sua estrutura a ssessorias, de nível \\nmédio e nível  superior, sob a direção de um Chefe de Gabinete , cabendo ao \\nConselheiro as respectivas  indicações para fins de nomeação pelo Presidente.  \\n \\nParágrafo único.  O Presidente colocará à disposição de cada Conselheiro os  servidores \\nsolicitados e considerados necessários, no limite máximo de 03 (três),  sem prejuízo das \\nindicações para os cargos comissionados a que se refere o caput deste artigo . \\n \\nSEÇÃO V  \\nGABINETE S DOS AUDITORES  \\n \\nArt. 23.  Os Gabinetes dos Auditores  unidade s de apoio subordinada diretamente a cada \\num dos Auditores,  destinam -se ao auxílio técnico e  administrativo das atividades dos \\nmembros do Tribunal.  \\n \\nArt. 24.  As competências, as atividades e os controles dos integrantes dos Gabinetes \\ndos Auditores  serão por estes estabelecidos na forma regimental.  \\n \\nArt. 25. Os Gabinetes dos Auditores possuem em s ua estrutura uma gerência de \\nexpediente, e conta com as funções gratificadas constantes do Anexo I, cabendo ao \\nAuditor as respectivas indicações para fins de nomeação pelo Presidente.  \\n \\nParágrafo único.  O Presidente colocará à disposição de cada Auditor os servidores \\nsolicitados e considerados necessários, no limite máximo de 03 (três), sem prejuízo da \\nindicaç ão para a s funções gratificada s a que se refere o caput deste artigo.  ',\n",
       " '  \\nSEÇÃO VI \\nPROCURADORIA  \\n \\nArt. 26. À Procuradoria (PROJU), unidade de assessorament o subordinada diretamente \\nao Presidente, tem por finalidade assessorar, emitir parecer e prestar assistência técnica ao \\nPresidente, Conselheiros, Auditores e unidades integrantes dos Serviços Auxiliares, bem como \\ncoordenar as decisões Plenárias de conteúdo  normativo, com vistas à uniformização da \\njurisprudência do Tribunal e aos enunciados das respectivas súmulas.  \\n \\nArt. 27.  Compete à Procuradoria:  \\nI - coordenar, organizar, orientar e distribuir os trabalhos pertinentes à Procuradoria;  \\nII - preparar as infor mações que devam ser prestadas pelo Presidente em mandado de \\nsegurança e demais ações em que tal seja necessário, providenciando a defesa dos \\ninteresses do Tribunal em caso de litígio;  \\nIII - coordenar e acompanhar os processos judiciais e administrativos e m todas as \\nesferas, inclusive mediante assessoramento à Procuradoria Geral do Estado;  \\nIV - prestar assistência técnico -jurídica aos órgãos integrantes do Tribunal;  \\nV - emitir e coordenar a emissão de parecer jurídico em processos administrativos nas \\náreas de competência do Tribunal;  \\nVI - proceder à triagem, classificação e arquivamento de processos;  \\nVII - responder a consultas e dar orientações , em sua área de competência,  aos \\nservidores deste Tribunal necessárias ao desempenho de suas tarefas;  \\nVIII - prest ar assessoramento técnico -jurídico aos projetos administrativos de interesse \\ndo Tribunal, quando solicitada pela Presidência;  \\nIX - coordenar as decisões Plenárias de conteúdo normativo, com vistas à uniformização \\nde jurisprudência e aos enunciados das resp ectivas súmulas;  \\nX - proceder ao levantamento, análise e síntese dos julgamentos uniformes e \\nconstantes, para, em momento oportuno e a juízo superior, servirem de base aos \\nenunciados da súmula da jurisprudência.  \\n \\nParágrafo único. A PROJU será dirigida  por um Procurador  com o auxílio do \\nSubprocurador,  competindo -lhes as atividades d a Procuradoria  referidas neste \\nRegulamento, e conta com a funç ão gratificada constante do Anexo I.   \\n \\nArt. 28. A Procuradoria possui uma Gerência de Expediente, à qual compete:  \\nI - prestar apoio a Procuradoria;  \\nII - elaborar e encaminhar as correspondências e demais documentos de interesses da \\nProcuradoria;  \\nIII - desempenhar no âmbito da Secretaria as competências relacionadas nos incisos VI, \\nVII do art. 7º, bem como consolidar as i nformações da Procuradoria para o relatório \\nprevisto no inciso XI do referido artigo.  \\n \\nSEÇÃO  VII \\nSECRETARIA DE PLANEJAMENTO E GESTÃO ESTRATÉGICA  \\n \\nArt. 29. À Secretaria  de P lanejamento e Gestão Estratégica (SEPGE) , unidade de \\nassessoramento subordinada diretamente a o Presidente, tem por finalidade coordenar, \\narticular, monitorar e avaliar o processo de planejamento estratégico do Tribunal, bem \\ncomo desenvolver ações para melhoria da qualidade das metodologias utilizadas no \\nplanejamento institucional, propor ações de desenvolvimento organizacional, de \\nmodernização administrativa e de aperfeiçoamento da estrutura, organização e \\nfuncionamento das unidades do Tribunal.  \\nArt. 30. Compete à  Secretaria  de Planejamento e Gestão Estratégica : \\nI - coordenar o processo do  planejamento institucional e de formulação dos planos \\nestratégicos, táticos e operacionais do Tribunal;  ',\n",
       " ' II - participar da elaboração da proposta do plano plurianual, da lei de diretrizes \\norçamentárias e da lei orçamentária, considerando o plano estratégi co; \\nIII - promover o monitoramento e a avaliação sistemática dos planos e sua integração \\ncom as diretrizes do Tribunal, bem como acompanhar o desenvolvimento das metas das \\nunidades ; \\nIV - analisar as proposições relativas à estrutura, competência, organizaç ão e \\nfuncionamento das unidades do Tribunal, coordenando a implantação das alterações no \\ndesenho organizacional e a modernização administrativa estabelecidas no decorrer do \\nprocesso de planejamento ; \\nV - promover, planejar, coordenar, acompanhar e orientar a implementação da melhoria \\ncontínua da gestão no Tribunal;  \\nVI - promover a gestão de projetos e processos no âmbito do Tribunal . \\n \\nParágrafo Único: A SEPGE será dirigida por um Secretário de Planejamento e Gestão \\nEstratégica com o auxílio de um subsecretário, competindo -lhe as atividades da \\nSecret aria de Planejamento e Gestão Estratégica referidas neste Regulamento.  (NR)  \\n(*) Parágrafo único com a redação alterada pelo Ato nº 88/2023 . \\n \\nSEÇÃO VIII  \\nSECRETARIA  DE CONTROLE INTERNO  \\n \\nArt. 31. À Secretaria  de Controle Interno (SECIN) , unidade de assessoramento \\nsubordinada diretamente a o Presidente , tem por finalida de acompanhar a execução do \\norçamento do Tribunal em todos os aspectos e fases de realização da despesa, desempenhar \\natividades de controle e proteção do seu patrimônio, bem como executar os demais procedimentos \\ncorrelatos com as funções de auditoria inter na. \\n \\nArt. 32. Compete à Secretaria de Controle Interno:  \\nI - acompanhar a execução do crédito orçamentário, bem como suas alterações em \\nnível de projetos e atividades, e a execução financeira nas fases da despesa;  \\nII - acompanhar as alterações da folha de p agamento;  \\nIII - acompanhar e controlar os atos de admissão e de aposentadoria do Tribunal;  \\nIV - acompanhar e controlar as execuções das licitações, contratos e convênios;  \\nV - elaborar e executar fiscalização contábil, financeira, orçamentária, patrimonial e \\noperacional, decorrentes do plano anual de fiscalização interna (PAFI);  \\nVI - examinar e emitir parecer sobre as prestações de contas da receita e da despesa do \\nTribunal, do Fundo de Assistência aos Servidores do Tribunal de Contas do Estado do \\nPará (FAST C), do Fundo de Modernização, Reaparelhamento e Aperfeiçoamento do \\nTribunal de Contas do Estado do Pará (FUNTCE), de convênios e de suprimento de \\nfundos;  \\nVII - dirigir e executar as fiscalizações internas especiais por determinação da \\nPresidência.  \\n \\nParágrafo Único: A SECIN será dirigida por um Secretário de Controle Interno com o \\nauxílio de um subsecretário, competindo -lhe as atividades da Secretaria de Controle \\nInterno referidas n este Regulamento.  (NR)  \\n(*) Parágrafo único com a redação alterada pelo Ato nº 88/2023 . \\n \\nSEÇÃO IX  \\nSECRETARIA  GERAL   \\n \\nArt. 33. À Secretaria Geral ( SEGER ), unidade de gestão subordin ada diretamente ao \\nPresidente, tem por finalidade  secretariar as sessões do Tribunal Pleno e das Câmaras, \\nassessorando o Presidente, os  Conselheiros, os Auditores e os Representantes do Ministério \\nPúblico de Contas durante as realizações  das mesmas, bem co mo adotar todas as demais medidas \\nnecessárias ao bom e regular funcionamento do Colegiado, zelando pela organização, divulgação \\ne publicação dos atos que lhes são pertinentes.  ',\n",
       " '  \\nArt. 34. Compete à Secretaria Geral : \\nI - secretariar as reuniões do Tribunal Pl eno e das Câmaras;  \\nII - coordenar a confecção das atas das sessões do Tribunal Pleno e das Câmaras;  \\nIII - orientar a elaboração da pauta das sessões plenárias submetendo -a, previamente, à \\naprovação do Presidente;  \\nIV - coordenar a divulgação e distribuição da pauta das sessões plenárias aos \\nConselheiros, Auditores e ao Ministério Público de Contas, com antecedência mínima de \\n1 (um) dia útil em relação à sessão a que se refere;  \\nV - providenciar o expediente do Tribunal Pleno e das Câmaras;  \\nVI - coordenar a fe itura, publicação e expedição dos atos e decisões do Tribunal Pleno e \\ndas Câmaras, sob a orientação da Presidência ou do Relator;  \\nVII - coordenar a expedição de comunicações decorrentes de despachos da Presidência \\ne decisões do Tribunal Pleno e das Câmaras ; \\nVIII - coordenar a expedição de certidão de atos e papéis que não se relacione com \\nservidores do Tribunal, mediante despacho do Presidente;  \\nIX - preparar e manter os termos de posse e declaração de bens do Presidente, do Vice -\\nPresidente, do Corregedor, d os Conselheiros e dos Auditores;  \\nX - manter em dia o registro das declarações de bens dos Conselheiros e Auditores;  \\nXI - coordenar o recebimento dos processos e expedientes a ser encaminhados ao \\nTribunal Pleno e as Câmaras, bem como providenciar sua entreg a aos relatores após \\ndistribuição;  \\nXII - fazer cumprir os prazos regimentais no andamento dos processos, quando em \\ntramitação na Secretaria Geral ; \\nXIII - encaminhar ao órgão competente os processos e papéis referentes a assuntos já \\nsolucionados;  \\nXIV - coordenar os serviços internos de atendimento do Tribunal Pleno e das Câmaras;  \\nXV - elaborar a relação dos responsáveis que tiveram suas contas relativas ao \\nexercício de cargos ou funções públicas rejeitadas por irregularidade insanável e por \\ndecisão irrecorr ível, para encaminhamento à Justiça Eleitoral, no prazo previsto em \\nlei; \\nXVI - fornecer à Procuradoria os elementos necessários para a organização das \\nSúmulas da Jurisprudência.  \\n \\nParágrafo único. A SEGER será dirigida por  um Secretário Geral com auxílio de  um \\nSubsecretário, competindo -lhes as atividades da Secretaria Geral referidas neste \\nRegulamento, e conta com as funções gratificadas constantes do Anexo I.  \\n \\nArt. 35. A Secretaria Geral possui a seguinte estrutura : \\nI - Assessoria Técnica;  \\nII - Gerência de  Expediente ; \\nIII - Coordenadoria de Atendimento ao Jurisdicionado ; \\nIV - Coordenadori a de Apoio as Sessões Plenárias;  \\nV - Coordenado ria de Formalização de Decisões;  \\nVI - Coordenadoria de Informação e Documentação.  \\n \\nSubseção I  \\nDas Competências das Unidades d a Secretaria  Geral  \\n \\nArt. 36. Compete à Assessoria Técnica : \\nI - receber e informar aos aposentandos ou pensionistas, bem como aos responsáveis, \\ninteressados ou procuradores sobre o andamento e situação de processos em \\ntramitação neste Tribunal;  \\nII - pesquis ar junto ao banco de dados do sistema de gerenciamento de documentos, \\nmediante solicitação, quanto à situação de entidades, responsáveis ou interessados \\nreferente a processos no Tribunal de Contas;  ',\n",
       " ' III - confeccionar e fornecer Certidões aos interessados e m obediência ao art. 5º, inciso \\nXXXIV, alínea b, da Constituição Federal de 1988;  \\nIV - prestar o apoio técnico necessário à r ealização das Sessões Plenárias;  \\nV - consolidar os relatórios de atividades da  SEGER , previsto no inciso X I do art. 7º.  \\n \\nArt. 37. Compete à Gerência de Expediente : \\nI - prestar apoio a SEGER;  \\nII - elaborar e encaminhar as correspondências e demais d ocumentos de interesses da \\nSEGER ; \\nIII - desempenhar no âmbito da Secretaria as competências relacionadas nos incisos VI, \\nVII do art. 7º ; \\nIV - receber processos e expedientes encaminhados à Secretaria e destinados à \\nPresidência e ao Plenário, adotando as providências cabíveis, inclusive confeccionando \\ne expedindo os ofícios das diligências solicitadas nos processos pelos relatores;  \\nV - receber processos devolvidos pelos Relatores , cumprindo e fazendo cumprir os \\ndespachos neles contidos e/ou fazendo encaminhamento para a Seção de Apoio ao \\nPlenário pa ra posterior inclusão em Pauta.  \\n \\nArt. 38. Compete à Coordenadoria de Atendimento ao Jurisdicionad o (CAJ) : \\nI - receber e informar aos aposentandos ou pensionistas, bem como aos responsáveis, \\ninteressados ou procuradores sobre o andamento e situação de processos em \\ntramitação n o Tribunal;  \\nII - elaborar e encaminhar à Imprensa Oficial os Editais de Citaç ão, Comunicações de \\nAudiência e Notificações de Julgamento para fins de publicação, mantendo registro \\natualizado dos mesmos para controle dos prazos regimentais, devendo providenciar a \\ncitação pessoal, se necessária;  \\nIII - arquivar e manter atualizados os instrumentos de procuração outorgados pelos \\nresponsáveis ou interessados, anexando -os aos processos pertinentes, se necessário;  \\nIV - gerenciar a distribuição de processos aos Conselheiros e Auditores.  \\n \\nArt. 39. Compete à Coordenadoria de  Apoio as Sessões ( CAS):  \\nI - elaborar a pauta de julgamentos das sessões do Tribunal Pleno e das Câmaras;  \\nII - formalizar as decisões do Tribunal Pleno e das Câmaras, sob a forma de Acórdãos e \\nResoluções, conforme previsão regimental;  \\nIII - confeccionar ofícios aos responsáv eis, interessados ou procuradores, dando ciência \\ndas decisões do Tribunal Pleno e das Câmaras;  \\nIV - registrar no Sistema de Gestão de Documentos, as decisões do Tribunal Pleno e \\ndas Câmaras, bem como cadastrar as multas e glosas no Sist ema de Cobrança \\nAdmi nistrativa.  \\n \\nArt. 40. Compete à Coordenadoria de  Formalização de Decisões (CFD)  \\nI - receber e orientar os aposentados e pensionistas, bem como responsáveis, \\ninteressados ou procuradores, para informar -lhes sobre as decisões do Tribunal Pleno e \\ndas Câmaras de seu interesse;  \\nII - organizar e manter arquivo das decisões do Plenário, tais como: Acórdãos, \\nResoluções, Instruções Normativas, Prejulgados, Consultas, dentre outras;  \\nIII - supervisionar a execução do sistema de cadastro de multas e dívida no Sistema d e \\nGestão de Documentos;  \\nIV - providenciar a elaboração e revisão dos atos e decisões do Tribunal Pleno e das \\nCâmaras, bem como dos ofícios dando conhecimento das referidas decisões;  \\nV - providenciar a difusão interna e externa das deliberações do Tribunal,  no que \\ncouber;  \\nVI - providenciar a publicação na Imprensa Oficial das decisões plenárias do  Tribunal, \\npor intermédio de atos, resoluções e acórdãos, bem como das decisões normativas;  ',\n",
       " ' VII - consolidar dados para subsidiar a elaboração da prestação de conta s anual do \\nFundo de Modernização, Reaparelhamento e Aperfeiçoamento do Tribunal de Contas \\ndo Estado do Pará (FUNTCE ). \\n \\nArt. 41. Compete à Coordenadoria de Informação e Documentação (CID):  \\nI - classificar a documentação recebida, separando os documentos a s erem \\nprotocolados das correspondências lacradas ou sigilosas, as quais devem ser \\nencaminhadas a quem de direito;  \\nII - cadastrar nos sistemas de informática, sob a forma de expediente, a documentação \\nque não originar processo, e dar a respectiva tramitação para o setor ao qual se destina;  \\nIII - proceder a autuação processual, quando for o caso, conforme os procedimentos \\nregimentais; alimentar com as respectivas informações o sistema de informática e \\nefetuar a devida tramitação para os setores competentes;  \\nIV - prestar informações para o público interessado e setores técnicos a respeito da \\ntramitação, localização e situação de processos, exceto os de caráter sigiloso;  \\nV - fornecer subsídios à Secretaria de Controle Externo a respeito dos processos \\nexistentes n o Tribunal e das obrigações dos seus jurisdicionados, constantes nos \\nsistemas de consulta;  \\nVI - controlar os prazos para cumprimento de decisões do Tribunal Pleno e das \\nCâmaras, bem como das diligências requeridas pelos Conselheiros e Auditores;  \\nVII - reproduzir, montar e encadernar textos e documentos de interesse do Tribunal, \\nmediante requisição das unidades administrativas;  \\nVIII - controlar diariamente o número de cópias reproduzidas para elaboração do \\nrelatório mensal, trimestral e anual, obedecendo ao limite de cada unidade \\nadministrativa;  \\nIX - manter sigilo da documentação reproduzida.  \\n \\nSEÇÃO X  \\nSECRETARIA DE CONTROLE EXTERNO  \\n \\nArt. 42. A Secretaria de Controle Externo (SECEX), unidade de gestão subordinada \\ndiretamente ao Presidente, tem por finalidade g erenciar as atividades de controle \\nexterno, exercendo a fiscalização financeira, orçamentária, contábil, operacional e \\npatrimonial da Administração Estadual, bem como assessorar os Conselheiros e os \\nAuditores no exercício das funções que lhes são afetas.  \\n \\nArt. 43. Compete à Secretaria de Controle Externo:  \\nI - propor regulamentos relativos ao funcionamento das atividades, dos processos de \\ntrabalho e dos projetos na área de controle externo;  \\nII - elaborar, consoante Instrução Normativa, e submeter à aprovaçã o do Tribunal Pleno, \\no Plano Anual de Fiscalização;  \\nIII - propor diretrizes relativas ao controle e à fiscalização consoante planejamento \\nestratégico do TCE;  \\nIV - orientar a operacionalização das diretrizes aprovadas, controlar as ações \\ndecorrentes e aval iar o alcance das metas fixadas;  \\nV - propor medidas de ação conjunta com órgãos e entidades congêneres;  \\nVI - coordenar, orientar, supervisionar e avaliar as atividades das unidades \\nsubordinadas;  \\nVII - propor à unidade competente do Tribunal a realização d e programa de formação \\ncontinuada e de outros eventos e atividades relacionadas ao desenvolvimento de \\ncompetências;  \\nVIII - organizar suas atividades e seu funcionamento, com vistas à simplificação e \\ndefinição de procedimentos;  \\nIX - delegar competência aos  controladores, gerentes e coordenadores de projetos \\nsobre assuntos específicos;  ']"
      ]
     },
     "execution_count": 9,
     "metadata": {},
     "output_type": "execute_result"
    }
   ],
   "source": [
    "print(documents[60])\n",
    "print(len(documents[60].page_content.split()))\n",
    "[text.page_content for text in documents][:10]"
   ]
  },
  {
   "cell_type": "code",
   "execution_count": 10,
   "id": "76848c71",
   "metadata": {},
   "outputs": [
    {
     "data": {
      "text/plain": [
       "384"
      ]
     },
     "execution_count": 10,
     "metadata": {},
     "output_type": "execute_result"
    }
   ],
   "source": [
    "# Quebrar em Chunks\n",
    "# https://python.langchain.com/docs/modules/data_connection/document_transformers/text_splitters/recursive_text_splitter\n",
    "from langchain.text_splitter import RecursiveCharacterTextSplitter\n",
    "\n",
    "text_splitter = RecursiveCharacterTextSplitter(chunk_size=1000, chunk_overlap= 50)\n",
    "documents = text_splitter.split_documents(documents)\n",
    "\n",
    "len(documents)"
   ]
  },
  {
   "cell_type": "code",
   "execution_count": 11,
   "id": "e08c6bed",
   "metadata": {},
   "outputs": [
    {
     "name": "stdout",
     "output_type": "stream",
     "text": [
      "page_content='produzido pela Coordenadoria;' metadata={'source': '../dados/docs/Regulamento dos Servicos Auxiliares 2014.pdf', 'page': 15}\n",
      "3\n"
     ]
    },
    {
     "data": {
      "text/plain": [
       "['TRIBUNAL DE CONTAS DO ESTADO DO PARÁ  \\nSECRETARIA  \\nATO Nº 69  \\n \\n(Consolidado com as alterações dos atos nºs 71 de 05.02.2015 , \\n80 de 07.11.2019  e 88 de 23.05.2023 ) \\n \\nREGULAMENTO DE SERVIÇOS AUXILIARES  DO \\n TRIBUNAL DE CONTAS DO ESTADO DO PARÁ  \\n \\nCAPÍTULO I  \\nDA FINALIDADE E ESTRUTURA  DOS SERVIÇOS AUXILIARES  \\n \\nArt. 1º Os Serviços Auxiliares compreendem o conjunto de unidades de trabalho que \\ntêm por finalidade desempenhar atividades de apoio, assessoramento e gestão \\nnecessárias ao pleno exercício das competências do Tribunal de Contas do  Estado do \\nPará.  \\n \\nArt. 2º A estrutura dos Serviços Auxiliares do Tribunal de Contas do Estado do Pará é \\ncomposta pelas seguintes unidades:  \\n \\nI - Na atividade de apoio : \\na) Gabinete da Presidência;  \\nb) Gabinete da  Vice-Presidência;  \\nc) revogado  \\nd) Gabinetes dos  Conselheiros;  \\ne) Gabinetes dos Auditores.  \\n**(alínea “ c” revogada  pelo Ato nº 80/2019)  \\n \\nII - Na atividade de assessoramento : \\na) Procuradoria;',\n",
       " 'a) Procuradoria;  \\nb) Secretaria de Planejamento e Gestão Estratégica;  \\nc) Secretaria de Controle Interno.  \\n \\nIII - Na atividade de ges tão: \\na) Secretaria  Geral ; \\nb) Secretaria de Controle Externo;  \\nc) Secretaria de Tecnologia da Informação;  \\nd) Secretaria  de Administração;  \\ne) Secretaria de Gestão de Pessoas (NR)  \\nf) Representações . \\n**(alínea “ e” com redação alterada pelo  Ato nº 71/2015 )  \\n**(alínea “ f” com redação alterada pelo Ato nº 71/2015 )  \\n \\nCAPÍTULO II  \\nDA DIREÇÃO  \\n \\nArt. 3º Compete ao Presidente a direção das unidades dos Serviços Auxiliares.  \\n \\nParágrafo único. As unidades Gabinete da Vice -Presidência, dos Conselheiros e dos \\nAuditores são sub ordinadas aos respectivos titulares. (NR)  \\n**(parágrafo único com redação alterada pelo Ato nº 80/2019)',\n",
       " 'Art. 4º Compete ao Subprocurador e aos Subsecretários substituí rem os titulares das \\nunidades de serviços auxiliares no exercício de suas atribuições  em caso de suas \\nausências ou impedimentos . \\n \\nArt. 5 º A Assessoria Técnica das unidades relacionadas nas alíneas a, b , c e d, do \\ninciso III, do art. 2º será coordenada pelo respectivo S ubsecretário . \\n \\nArt. 6º A chefia de cada uma das Coordenadorias e Controlador ias mencionados no \\npresente Regulamento serão providas por função gratificada em nível de Coordenador e \\nControlador respectivamente.  \\n \\nCAPÍTULO III  \\nCOMPETÊNCIAS E COMPOSIÇÃO DAS UNIDADES DOS SERVIÇOS AUXILIARES  \\n \\nArt. 7º São competências comuns às unidades d os Serviços Auxiliares:  \\nI - implementar as ações de gestão com vista à consecução dos objetivos e metas \\nestabelecidos pelo Presidente ou pelo Tribunal Pleno;  \\nII - executar metas em consonância com o Planejamento Estratégico;',\n",
       " 'III - controlar e avaliar os r esultados dos trabalhos na sua área de atuação, promovendo \\nos ajustes necessários;  \\nIV - fornecer subsídios para a elaboração de indicadores de desempenho de sua área \\nde atuação, bem como avaliar e monitorar o cumprimento desses indicadores;  \\nV - estabelece r rotinas e procedimentos de trabalho, propor normas e manuais \\nreferentes à sua área de atuação;  \\nVI - requisitar, coordenar e controlar seus recursos humanos, materiais e patrimoniais;  \\nVII - recepcionar, tramitar, controlar, acompanhar, dar baixa e arquiva r processos e \\ndemais documentos expedidos e recebidos, de âmbito interno e externo de interesse da \\nunidade;  \\nVIII - acompanhar e monitorar o cumprimento das decisões do Tribunal, na sua área de \\natuação;  \\nIX - acompanhar e fiscalizar a execução dos contratos  administrativos e convênios \\nfirmados pelo Tribunal, cuja gestão esteja a cargo da unidade, com o apoio da \\nAssessoria Técnica da Secretaria de Administração;',\n",
       " 'X - propor à Diretoria de Gestão de Pessoas da Secretaria de Administração cursos e \\nseminários pa ra aprimoramento dos trabalhos;  \\nXI - apresentar ao Presidente relatórios trimestrais e anual de suas atividades;  \\nXII - desempenhar outras funções que lhe forem atribuídas por determinação do \\nPresidente, por deliberação do Tribunal Pleno ou pela Chefia ime diata.  \\n \\nSEÇÃO I \\nGABINETE DA PRESIDÊNCIA  \\n \\nArt. 8º O Gabinete da Presidência (GPRES) unidade de apoio subordinada diretamente  \\nao Presidente tem por finalidade coordenar e organizar as atividades administrativas e \\nde representação da Presidência, bem como as ações de comunicação social, \\ncerimonial e relação institucional com os Poderes e outros órgãos e entidades nacionais \\ne internacionais.  \\n \\nArt. 9º Compete ao Gabinete da Presidê ncia: \\nI - coordenar, organizar e executar atividades administrativas inerentes ao cumprimento \\ndas atribuições do Presidente e d os serviços de representação da Presidência;',\n",
       " 'II - coordenar, externa e internamente, as relações da Presidência;  \\nIII - assessorar o  Presidente  na supervisão e coordenação das atividades do Tribunal;  \\nIV - assesso rar o Presid ente na redação da correspondência e dos despachos, reunindo \\nos subsídios necessários;',\n",
       " 'V - organizar a matéria extrapauta que o Presidente submeterá a seus pares nas \\nsessões plenárias;  \\nVI - coordenar a organiza ção e o encaminha mento  da correspo ndência fazendo a \\ndevida triagem;  \\nVII - receber servidores e visitantes, providenciando o encaminhamento dos assuntos ao \\nPresidente ; \\nVIII - organizar a agenda de compromissos d o Presid ente; \\nIX - providenciar os termos de convocação de Auditor para substitu ir Conselheiro, na \\nforma estabelecida no Regimento Interno.  \\n \\nParágrafo único. O GPRES será dirigido  por um Chefe de Gabinete,  competindo -lhe as \\natividades d o Gabinete  referidas neste Regulamento, e conta com as funções \\ngratificadas constantes do Anexo I .  \\n \\nArt. 10. O Gabinete da Presidência  possui a seguinte composição:  \\nI - Assessoria de Comunicação e Relações Públicas ; \\nII - Assessoria de Cerimonial  e Relações Institucionais;  \\nIII - Coordenadoria de Apoio Técnico . \\n \\nSubseção I',\n",
       " 'Subseção I  \\nDas Competências das Unidades e Sub-unidades do Gabinete da Presidência  \\n \\nArt. 11. Compete à Assessoria de Comunicação e Relações Públicas  (ACRP):  \\nI - propor, coordenar, implementar e acompanhar políticas e diretrizes relativas à \\ncomunicação institucional e ao relacionamento do Tribunal c om a imprensa com o \\nobjetivo de maximizar a integração da instituição com os seus públicos e consolidar seu \\nconceito e imagem junto à sociedade;  \\nII - prestar, no âmbito da sua área de atuação, o apoio especializado ao funcionamento \\ndo Tribunal;  \\nIII - promo ver, de forma integrada com as demais áreas afins, a divulgação da atuação \\ndo Tribunal objetivando estimular a transparência e o aperfeiçoamento da Gestão \\nPública;  \\nIV - planejar, coordenar e supervisionar ações e projetos de comunicação interna e \\nexterna d as ações do Tribunal;  \\nV - planejar e organizar serviços técnicos de jornalismo, envolvendo redação, revisão,',\n",
       " 'ilustração, diagramação e outras atividades correlatas;  \\nVI - coletar e preparar notícias e informações relativas ao Tribunal para divulgação;  \\nVII - elaborar Manuais de atendimento a imprensa, de editoração, de eventos, de \\nidentidade visual, de redação, de textos jornalísticos objetivando padronizar os \\nprocedimentos de comunicação e dar unicidade aos disc ursos e ações da empresa;  \\nVIII - planejar, exec utar, supervisionar as atividades da Rádio TCE;  \\nIX - definir o fluxo de Comunicação interna ágil e eficiente, apoiando -se no fato de que \\nos servidores contribuem, de forma decisiva, para a formação da imagem da instituição;  \\nX - assessorar o Presidente, os  Conselheiros e Secretários n os contatos com os \\nveículos de imprensa;  \\nXI - promover maior integração do Tribunal com a comunidade;  \\nXII - coordenar a realização de pesquisa de imagem da instituição junto a sociedade.  \\n \\nArt. 12. Compete à Assessoria de Cerimo nial e Relações Institucionais (ACRI) :',\n",
       " 'I - planejar e executar os procedimentos relativos ao cerimonial e ao rito protocol ar; \\nII - planejar, organizar e acompanhar a programação de cerimonial, solenidades e \\nrecepções oficiais do Tribunal, no âmbito interno  e externo, de acordo com as normas \\nprotocolares;  \\nIII - gerenciar a agenda de eventos;']"
      ]
     },
     "execution_count": 11,
     "metadata": {},
     "output_type": "execute_result"
    }
   ],
   "source": [
    "print(documents[60])\n",
    "print(len(documents[60].page_content.split()))\n",
    "[text.page_content for text in documents][:10]"
   ]
  },
  {
   "cell_type": "code",
   "execution_count": 12,
   "id": "1015c131",
   "metadata": {},
   "outputs": [],
   "source": [
    "# Embeddings\n",
    "# poetry install faiss-cpu\n",
    "from langchain.vectorstores import FAISS\n",
    "\n",
    "db = FAISS.from_documents(documents, embeddings_model)"
   ]
  },
  {
   "cell_type": "code",
   "execution_count": 46,
   "id": "cf98c10d",
   "metadata": {},
   "outputs": [],
   "source": [
    "db.save_local(\"faiss_index\")\n",
    "#new_db = FAISS.load_local(\"faiss_index\", embeddings_model)\n"
   ]
  },
  {
   "cell_type": "code",
   "execution_count": 47,
   "id": "a4d45d2e",
   "metadata": {},
   "outputs": [
    {
     "data": {
      "text/plain": [
       "[Document(page_content='33\\nAÇÃO\\nElaboração do plano de recuperação de desastres em Tecnologia da Informação.OBJETIVO ESTRATÉGICO\\nAprimorar a governança, a gestão e o uso da tecnologia da informação.PLANO DE GESTÃO\\n2023 - 2025\\nDescrição da ação\\nElaborar plano de recuperação de desastres em Tecnologia da Informação (TI) com a definição \\nde ações à recuperação da infraestrutura tecnológica, dos sistemas e dos dados do Tribunal caso \\nocorra interrupção por algum desastre, como: catástrofes naturais, ataques hacker ou falhas em \\nequipamentos.\\nMETA\\nElaborar 1 plano de recuperação de desastres em Tecnologia da Informação.\\nRESPONSÁVEL\\nSetinPRAZO\\n30/11/2024\\nPRAZO\\n15/12/2024\\nPLANO DE GESTÃO 2023 - 2025\\nAÇÃO 18\\n AÇÃO 17\\nTRIBUNAL DE CONTAS DO ESTADO DO PARÁ', metadata={'source': '../dados/docs/Plano_Gestao_2023-2025_Virtual.pdf', 'page': 30}),\n",
       " Document(page_content='27\\nAÇÃO\\nImplantação do módulo de gerenciamento do Plano de Logística Sustentável.OBJETIVO ESTRATÉGICO\\nOtimizar o planejamento e a gestão dos recursos materiais, orçamentários, financeiros e patrimoniais.PLANO DE GESTÃO\\n2023 - 2025\\nDescrição da Ação\\nDesenvolver módulo de  gerenciamento do Plano de Logística Sustentável no sistema de \\nmonitoramento do planejamento (Sisplan).\\nMETA\\nImplantar 1 módulo de gerenciamento do Plano de Logística Sustentável.\\nRESPONSÁVEL\\nSEPGEPRAZO\\n30/11/2023\\nAÇÃO 2\\nPLANO DE GESTÃO\\n2023 - 2025\\nRESPONSÁVEL\\nACRPPRAZO\\n30/11/2023META\\nElaborar 1 manual de gestão de crise na área de comunicação e imagem institucional.Descrição da ação\\nElaborar o plano de gerenciamento de crise para nortear o posicionamento \\ndo TCE-PA quando houver a necessidade.AÇÃO\\nPlano de gerenciamento de crise.OBJETIVO ESTRATÉGICO\\nAprimorar a comunicação institucional do TCE-PA.\\n27PLANO DE GESTÃO 2023 - 2025\\nAÇÃO 12\\n AÇÃO 11', metadata={'source': '../dados/docs/Plano_Gestao_2023-2025_Virtual.pdf', 'page': 24}),\n",
       " Document(page_content='PLANO DE GESTÃO\\n2023 - 2025\\nOBJETIVO ESTRATÉGICO\\nOtimizar o planejamento e a gestão dos recursos materiais, orçamentários, financeiros e patrimoniais.\\nMETA\\nAdquirir 1 sistema de gestão  acadêmica para Escola de Contas Alberto Veloso.Descrição da ação\\nAdquirir sistema  de gestão acadêmica para monitoramento das ações de capacitação realizadas \\npela Escola de Contas Alberto Veloso (ECAV).AÇÃO\\nAquisição do sistema de gestão acadêmica da Escola de Contas Alberto Veloso.\\nPRAZO\\n15/12/2024RESPONSÁVEL\\nECAV/Setin\\n32PLANO DE GESTÃO 2023 - 2025\\nAÇÃO 17\\nTRIBUNAL DE CONTAS DO ESTADO DO PARÁ', metadata={'source': '../dados/docs/Plano_Gestao_2023-2025_Virtual.pdf', 'page': 29}),\n",
       " Document(page_content='PLANO DE GESTÃO 2023 - 2025\\nPLANO DE GESTÃO\\n2023 - 2025\\nRESPONSÁVEL\\nSecexMETA\\nAprimorar 1 portal da intranet.Descrição da ação\\nAmpliação da disponibilização de normas, planos, dados e informações no portal da intranet da \\nSecex, proporcionando a difusão do conhecimento relacionado ao controle externo.AÇÃO\\nAprimoramento do espaço institucional da Secretaria de Controle Externo na intranet.OBJETIVO ESTRATÉGICO\\nAmpliar a efetividade das ações de controle externo.\\nPRAZO\\n29/9/2023\\nPRAZO\\n30/9/2024\\nTRIBUNAL DE CONTAS DO ESTADO DO PARÁ 17\\nAÇÃO 2\\n AÇÃO 1', metadata={'source': '../dados/docs/Plano_Gestao_2023-2025_Virtual.pdf', 'page': 14}),\n",
       " Document(page_content='PLANO DE GESTÃO\\n2023 - 2025\\nPRAZO\\n16/8/2024RESPONSÁVEL\\nSEGPMETA\\nAprimorar 1 Programa de Saúde Preventiva.Descrição da ação\\nExpandir as ações de atendimento aos usuários do Programa de Saúde Preventiva para as \\ndemais especialidades disponibilizadas pela Coordenadoria de Saúde e Qualidade de Vida \\n(CSQ).AÇÃO\\nAprimoramento do Programa de Saúde Preventiva.OBJETIVO ESTRATÉGICO\\nAmpliar a efetividade das políticas e diretrizes da gestão de pessoas.\\n36\\nAÇÃO 21\\nTRIBUNAL DE CONTAS DO ESTADO DO PARÁ', metadata={'source': '../dados/docs/Plano_Gestao_2023-2025_Virtual.pdf', 'page': 33})]"
      ]
     },
     "execution_count": 47,
     "metadata": {},
     "output_type": "execute_result"
    }
   ],
   "source": [
    "# Chroma irá retornar o documento mais similar\n",
    "#pergunta = \"Quais ações do plano de gestão são relacionadas a capacitação dos servidores?\"\n",
    "pergunta = \"Qual a meta do plano de gerenciamento de crises?\"\n",
    "\n",
    "documentos_similares = db.similarity_search(query=pergunta, k=5)\n",
    "documentos_similares"
   ]
  },
  {
   "cell_type": "code",
   "execution_count": 48,
   "id": "f887b2fb",
   "metadata": {},
   "outputs": [
    {
     "name": "stdout",
     "output_type": "stream",
     "text": [
      "33\n",
      "AÇÃO\n",
      "Elaboração do plano de recuperação de desastres em Tecnologia da Informação.OBJETIVO ESTRATÉGICO\n",
      "Aprimorar a governança, a gestão e o uso da tecnologia da informação.PLANO DE GESTÃO\n",
      "2023 - 2025\n",
      "Descrição da ação\n",
      "Elaborar plano de recuperação de desastres em Tecnologia da Informação (TI) com a definição \n",
      "de ações à recuperação da infraestrutura tecnológica, dos sistemas e dos dados do Tribunal caso \n",
      "ocorra interrupção por algum desastre, como: catástrofes naturais, ataques hacker ou falhas em \n",
      "equipamentos.\n",
      "META\n",
      "Elaborar 1 plano de recuperação de desastres em Tecnologia da Informação.\n",
      "RESPONSÁVEL\n",
      "SetinPRAZO\n",
      "30/11/2024\n",
      "PRAZO\n",
      "15/12/2024\n",
      "PLANO DE GESTÃO 2023 - 2025\n",
      "AÇÃO 18\n",
      " AÇÃO 17\n",
      "TRIBUNAL DE CONTAS DO ESTADO DO PARÁ\n"
     ]
    }
   ],
   "source": [
    "print(documentos_similares[0].page_content)\n"
   ]
  },
  {
   "cell_type": "code",
   "execution_count": 49,
   "id": "d34c3bdd",
   "metadata": {},
   "outputs": [
    {
     "data": {
      "text/plain": [
       "[(Document(page_content='33\\nAÇÃO\\nElaboração do plano de recuperação de desastres em Tecnologia da Informação.OBJETIVO ESTRATÉGICO\\nAprimorar a governança, a gestão e o uso da tecnologia da informação.PLANO DE GESTÃO\\n2023 - 2025\\nDescrição da ação\\nElaborar plano de recuperação de desastres em Tecnologia da Informação (TI) com a definição \\nde ações à recuperação da infraestrutura tecnológica, dos sistemas e dos dados do Tribunal caso \\nocorra interrupção por algum desastre, como: catástrofes naturais, ataques hacker ou falhas em \\nequipamentos.\\nMETA\\nElaborar 1 plano de recuperação de desastres em Tecnologia da Informação.\\nRESPONSÁVEL\\nSetinPRAZO\\n30/11/2024\\nPRAZO\\n15/12/2024\\nPLANO DE GESTÃO 2023 - 2025\\nAÇÃO 18\\n AÇÃO 17\\nTRIBUNAL DE CONTAS DO ESTADO DO PARÁ', metadata={'source': '../dados/docs/Plano_Gestao_2023-2025_Virtual.pdf', 'page': 30}),\n",
       "  0.7964793591555634),\n",
       " (Document(page_content='27\\nAÇÃO\\nImplantação do módulo de gerenciamento do Plano de Logística Sustentável.OBJETIVO ESTRATÉGICO\\nOtimizar o planejamento e a gestão dos recursos materiais, orçamentários, financeiros e patrimoniais.PLANO DE GESTÃO\\n2023 - 2025\\nDescrição da Ação\\nDesenvolver módulo de  gerenciamento do Plano de Logística Sustentável no sistema de \\nmonitoramento do planejamento (Sisplan).\\nMETA\\nImplantar 1 módulo de gerenciamento do Plano de Logística Sustentável.\\nRESPONSÁVEL\\nSEPGEPRAZO\\n30/11/2023\\nAÇÃO 2\\nPLANO DE GESTÃO\\n2023 - 2025\\nRESPONSÁVEL\\nACRPPRAZO\\n30/11/2023META\\nElaborar 1 manual de gestão de crise na área de comunicação e imagem institucional.Descrição da ação\\nElaborar o plano de gerenciamento de crise para nortear o posicionamento \\ndo TCE-PA quando houver a necessidade.AÇÃO\\nPlano de gerenciamento de crise.OBJETIVO ESTRATÉGICO\\nAprimorar a comunicação institucional do TCE-PA.\\n27PLANO DE GESTÃO 2023 - 2025\\nAÇÃO 12\\n AÇÃO 11', metadata={'source': '../dados/docs/Plano_Gestao_2023-2025_Virtual.pdf', 'page': 24}),\n",
       "  0.7916747027190185),\n",
       " (Document(page_content='PLANO DE GESTÃO\\n2023 - 2025\\nOBJETIVO ESTRATÉGICO\\nOtimizar o planejamento e a gestão dos recursos materiais, orçamentários, financeiros e patrimoniais.\\nMETA\\nAdquirir 1 sistema de gestão  acadêmica para Escola de Contas Alberto Veloso.Descrição da ação\\nAdquirir sistema  de gestão acadêmica para monitoramento das ações de capacitação realizadas \\npela Escola de Contas Alberto Veloso (ECAV).AÇÃO\\nAquisição do sistema de gestão acadêmica da Escola de Contas Alberto Veloso.\\nPRAZO\\n15/12/2024RESPONSÁVEL\\nECAV/Setin\\n32PLANO DE GESTÃO 2023 - 2025\\nAÇÃO 17\\nTRIBUNAL DE CONTAS DO ESTADO DO PARÁ', metadata={'source': '../dados/docs/Plano_Gestao_2023-2025_Virtual.pdf', 'page': 29}),\n",
       "  0.781569532173198),\n",
       " (Document(page_content='PLANO DE GESTÃO 2023 - 2025\\nPLANO DE GESTÃO\\n2023 - 2025\\nRESPONSÁVEL\\nSecexMETA\\nAprimorar 1 portal da intranet.Descrição da ação\\nAmpliação da disponibilização de normas, planos, dados e informações no portal da intranet da \\nSecex, proporcionando a difusão do conhecimento relacionado ao controle externo.AÇÃO\\nAprimoramento do espaço institucional da Secretaria de Controle Externo na intranet.OBJETIVO ESTRATÉGICO\\nAmpliar a efetividade das ações de controle externo.\\nPRAZO\\n29/9/2023\\nPRAZO\\n30/9/2024\\nTRIBUNAL DE CONTAS DO ESTADO DO PARÁ 17\\nAÇÃO 2\\n AÇÃO 1', metadata={'source': '../dados/docs/Plano_Gestao_2023-2025_Virtual.pdf', 'page': 14}),\n",
       "  0.7815126550011327),\n",
       " (Document(page_content='PLANO DE GESTÃO\\n2023 - 2025\\nPRAZO\\n16/8/2024RESPONSÁVEL\\nSEGPMETA\\nAprimorar 1 Programa de Saúde Preventiva.Descrição da ação\\nExpandir as ações de atendimento aos usuários do Programa de Saúde Preventiva para as \\ndemais especialidades disponibilizadas pela Coordenadoria de Saúde e Qualidade de Vida \\n(CSQ).AÇÃO\\nAprimoramento do Programa de Saúde Preventiva.OBJETIVO ESTRATÉGICO\\nAmpliar a efetividade das políticas e diretrizes da gestão de pessoas.\\n36\\nAÇÃO 21\\nTRIBUNAL DE CONTAS DO ESTADO DO PARÁ', metadata={'source': '../dados/docs/Plano_Gestao_2023-2025_Virtual.pdf', 'page': 33}),\n",
       "  0.7802935784813793),\n",
       " (Document(page_content='25\\nAÇÃO\\nImplantação do módulo de gerenciamento do Plano de Logística Sustentável.OBJETIVO ESTRATÉGICO\\nOtimizar o planejamento e a gestão dos recursos materiais, orçamentários, financeiros e patrimoniais.PLANO DE GESTÃO\\n2023 - 2025\\nDescrição da Ação\\nDesenvolver módulo de  gerenciamento do Plano de Logística Sustentável no sistema de \\nmonitoramento do planejamento (Sisplan).\\nMETA\\nImplantar 1 módulo de gerenciamento do Plano de Logística Sustentável.\\nRESPONSÁVEL\\nSEPGEPRAZO\\n30/11/2023\\nAÇÃO 2\\nPLANO DE GESTÃO\\n2023 - 2025\\nPRAZO\\n30/11/2024RESPONSÁVEL\\nACRP/SetinMETA\\nAprimorar 1 Portal do TCE-PA.Descrição da ação\\nDisponibilizar novas ferramentas de acessibilidade para melhorar a experiência de navegação \\nda pessoa com deficiência (PCD), tornando mais funcional e acessível aos usuários, bem \\ncomo agregar novos conteúdos aos portais.AÇÃO\\nAprimoramento do Portal TCE-PA com maior acessibilidade.OBJETIVO ESTRATÉGICO\\nAprimorar a comunicação institucional do TCE-PA.\\nAÇÃO 10', metadata={'source': '../dados/docs/Plano_Gestao_2023-2025_Virtual.pdf', 'page': 22}),\n",
       "  0.7797501580901041),\n",
       " (Document(page_content='23\\nAÇÃO\\nImplantação do módulo de gerenciamento do Plano de Logística Sustentável.OBJETIVO ESTRATÉGICO\\nOtimizar o planejamento e a gestão dos recursos materiais, orçamentários, financeiros e patrimoniais.PLANO DE GESTÃO\\n2023 - 2025\\nDescrição da Ação\\nDesenvolver módulo de  gerenciamento do Plano de Logística Sustentável no sistema de \\nmonitoramento do planejamento (Sisplan).\\nMETA\\nImplantar 1 módulo de gerenciamento do Plano de Logística Sustentável.\\nRESPONSÁVEL\\nSEPGEPRAZO\\n30/11/2023\\nAÇÃO 2\\nPRAZO\\n30/9/2023\\nPLANO DE GESTÃO\\n2023 - 2025\\nRESPONSÁVEL\\nECAVPRAZO\\n31/3/2024META\\nCapacitar 30 gestores.Descrição da ação\\nImplantar o programa de capacitação de líderes no TCE-PA, com oferta de ações educacionais \\ncom temas pertinentes às atividades gerenciais aos servidores que atuam em cargos de gestão.AÇÃO\\nImplantação do programa de capacitação de líderes do TCE-PA.OBJETIVO ESTRATÉGICO\\nPromover a integração dos programas educacionais com as diretrizes institucionais.\\n23\\nAÇÃO 8', metadata={'source': '../dados/docs/Plano_Gestao_2023-2025_Virtual.pdf', 'page': 20}),\n",
       "  0.7762143957482524),\n",
       " (Document(page_content='31\\nAÇÃO\\nImplantação do módulo de gerenciamento do Plano de Logística Sustentável.OBJETIVO ESTRATÉGICO\\nOtimizar o planejamento e a gestão dos recursos materiais, orçamentários, financeiros e patrimoniais.PLANO DE GESTÃO\\n2023 - 2025\\nDescrição da ação\\nDesenvolver módulo de gerenciamento do Plano de Logística Sustentável no \\nsistema de monitoramento do planejamento (Sisplan).\\nMETA\\nImplantar 1 módulo de gerenciamento do Plano de Logística Sustentável.\\nRESPONSÁVEL\\nSepge/SetinPRAZO\\n30/11/2023\\nPRAZO\\n30/11/2023\\nPLANO DE GESTÃO 2023 - 2025\\nAÇÃO 16\\nTRIBUNAL DE CONTAS DO ESTADO DO PARÁ', metadata={'source': '../dados/docs/Plano_Gestao_2023-2025_Virtual.pdf', 'page': 28}),\n",
       "  0.7734316922221691),\n",
       " (Document(page_content='29\\nAÇÃO\\nImplantação do módulo de gerenciamento do Plano de Logística Sustentável.OBJETIVO ESTRATÉGICO\\nOtimizar o planejamento e a gestão dos recursos materiais, orçamentários, financeiros e patrimoniais.PLANO DE GESTÃO\\n2023 - 2025\\nDescrição da Ação\\nDesenvolver módulo de  gerenciamento do Plano de Logística Sustentável no sistema de \\nmonitoramento do planejamento (Sisplan).\\nMETA\\nImplantar 1 módulo de gerenciamento do Plano de Logística Sustentável.\\nRESPONSÁVEL\\nSEPGEPRAZO\\n30/11/2023\\nAÇÃO 2\\nPLANO DE GESTÃO\\n2023 - 2025\\n29\\nAÇÃO\\nCriação de murais expositivos para o novo espaço cultural \\nConselheiro José Maria de Vasconcelos Machado.OBJETIVO ESTRATÉGICO\\nAprimorar a comunicação institucional do TCE-PA.\\nDescrição da ação\\nDivulgar a história do espaço cultural do casarão denominado Conselheiro José \\nMaria de Vasconcelos Machado.\\nMETA\\nDivulgar 3 murais expositivos para o novo espaço cultural.\\nRESPONSÁVEL\\nACRI/SetinPRAZO\\n30/9/2024\\nPLANO DE GESTÃO 2023 - 2025\\nAÇÃO 14\\nPRAZO\\n30/10/2024', metadata={'source': '../dados/docs/Plano_Gestao_2023-2025_Virtual.pdf', 'page': 26}),\n",
       "  0.7725516238784131),\n",
       " (Document(page_content='PLANO DE GESTÃO\\n2023 - 2025\\nDescrição da Ação\\nElaborar Manual de acompanhamento e fiscalização de contratos adequado à Nova Lei de \\nLicitação e Contratos (Lei 14.133/2021).AÇÃO\\nElaboração de Manual de acompanhamento e fiscalização de contratos.OBJETIVO ESTRATÉGICO\\nOtimizar o planejamento e a gestão dos recursos materiais, orçamentários, financeiros e patrimoniais.\\nMETA\\nPublicar 1 Manual de acompanhamento e fiscalização de contratos.\\nRESPONSÁVEL\\nSEADMAÇÃO 1\\nPLANO DE GESTÃO\\n2023 - 2025\\n24\\nAÇÃO\\nImplantação dos programas de capacitação elaborados pelas unidades \\nSepge, Setin e ACRP.OBJETIVO ESTRATÉGICO\\nPromover a integração dos programas educacionais com as diretrizes institucionais.\\nDescrição da ação\\nImplementar trilha de capacitação dos servidores das unidades Sepge, Setin e ACRP.\\nMETA\\nImplantar 3 trilhas de capacitação dos servidores das unidades Sepge, Setin e ACRP na plataforma Moodle.\\nRESPONSÁVEL\\nECAV/ ACRP /Sepge/SetinPRAZO\\n30/4/2024\\nTRIBUNAL DE CONTAS DO ESTADO DO PARÁ\\nAÇÃO 9', metadata={'source': '../dados/docs/Plano_Gestao_2023-2025_Virtual.pdf', 'page': 21}),\n",
       "  0.7723250424208186)]"
      ]
     },
     "execution_count": 49,
     "metadata": {},
     "output_type": "execute_result"
    }
   ],
   "source": [
    "documentos_similares = db.similarity_search_with_relevance_scores(pergunta, k=10)\n",
    "documentos_similares"
   ]
  },
  {
   "cell_type": "code",
   "execution_count": 50,
   "id": "bc17131b",
   "metadata": {},
   "outputs": [
    {
     "data": {
      "text/plain": [
       "[(Document(page_content='Executivo, as medidas cabíveis.', metadata={'source': '../dados/docs/Ato_n_63_Texto_compilado_-_RITCEPA_alteracoes_ate_ato_87_de_04.04.2023.pdf', 'page': 37}),\n",
       "  0.6481705419513674),\n",
       " (Document(page_content='produzido pela Coordenadoria;', metadata={'source': '../dados/docs/Regulamento dos Servicos Auxiliares 2014.pdf', 'page': 15}),\n",
       "  0.6477065051492624),\n",
       " (Document(page_content='recorrida, que somente os admitirá se interpostos dentro dos respectivos prazos, contendo \\nobrigatoriamente o arrazoado correspondente e a fundamentação legal, com indicação da \\nnorma violada pela decisão recorrida. \\n**(Art. 264, caput, com redação alterada pelo Ato nº 66 de 08.04.2014)', metadata={'source': '../dados/docs/Ato_n_63_Texto_compilado_-_RITCEPA_alteracoes_ate_ato_87_de_04.04.2023.pdf', 'page': 71}),\n",
       "  0.6426731599126974),\n",
       " (Document(page_content='§ 6° Conclusa a fase de instrução, os autos serão remetidos ao Relator, que terá 15 (quinze) \\ndias para apreciá-los. \\n§ 7° O Relator, se julgar necessário, poderá solicitar outras providências, interrompendo-se, \\nneste caso, o prazo fixado neste artigo.  \\n**(§§ 6º e 7º renumerados pelo Ato nº 66 de 08.04.2014)  \\n \\nArt. 265. O recurso de embargos de declaração será dirigido ao Relator da decisão recorrida, \\npara análise dos pressupostos de admissibilidade no prazo de 15 (quinze) dias. (NR) \\n**(Art. 265, caput, com redação alterada pelo Ato nº 66 de 08.04.2014)  \\n§ 1° Não admitido o recurso, o Relator comunicará este fato ao recorrente e determinará o \\narquivamento. \\n§ 2° O Relator, se julgar necessário, poderá solicitar outras providências, interrompendo-se, \\nneste caso, o prazo fixado neste artigo. \\n**(§§ 6º e 7º renumerados pelo Ato nº 66 de 08.04.2014)  \\n \\nArt. 266. Em todas as fases do julgamento do recurso, ao recorrente será assegurada ampla', metadata={'source': '../dados/docs/Ato_n_63_Texto_compilado_-_RITCEPA_alteracoes_ate_ato_87_de_04.04.2023.pdf', 'page': 72}),\n",
       "  0.6412817660028073),\n",
       " (Document(page_content='termos previstos nos §§ 2º e 3º do art. 177 e art. 179, deste regimento. (NR) \\n**(Caput do art. 261 com redação alterada pelo Ato nº 84 de 27.04.2022)  \\n§ 1º Após o pronunciamento do representante do Ministério Público de Contas, o requerente \\nfalará uma única vez e sem ser aparteado, pelo prazo de 15 (quinze) minutos, admitida \\nprorrogação por igual período. \\n§ 2º No caso de procurador de mais de um interessado, aplica-se o prazo previsto no parágrafo \\nanterior. \\n§ 3º Havendo mais de um interessado com procuradores diferentes, o prazo previsto no § 1º \\ndeste artigo será duplicado e dividido em partes iguais entre estes.', metadata={'source': '../dados/docs/Ato_n_63_Texto_compilado_-_RITCEPA_alteracoes_ate_ato_87_de_04.04.2023.pdf', 'page': 70}),\n",
       "  0.6397821811327897),\n",
       " (Document(page_content='19 \\n a) com idade igual ou superior a 60 (sessenta) anos;  \\n \\nb) portadora de deficiência física ou mental; \\nc) portadora de doença, na forma prevista em lei; \\nXI - outros assuntos que, a critério do Tribunal Pleno ou do Presidente, sejam entendidos \\ncomo tal. \\n \\nArt. 43. Todos os documentos comprobatórios de despesas, remetidos ao Tribunal para \\ninstruírem prestações ou tomadas de contas, só serão aceitos em original, redigidos de \\nmaneira clara, precisa e sem rasuras. \\n \\nArt. 44. Os termos e atos processuais, exarados sempre em ordem cronológica, conterão \\nsomente o indispensável à realização de sua finalidade, não sendo admitidas entrelinhas, \\nrasuras ou emendas não ressalvadas. \\nParágrafo único. Os documentos que, pelas suas reduzidas dimensões, dificultem a montagem \\ndos processos somente serão recebidos no Tribunal se colados em folha de tamanho maior, \\nrespeitadas, entretanto, as anotações porventura existentes no verso.', metadata={'source': '../dados/docs/Ato_n_63_Texto_compilado_-_RITCEPA_alteracoes_ate_ato_87_de_04.04.2023.pdf', 'page': 18}),\n",
       "  0.6392749859578095),\n",
       " (Document(page_content='III - confirmação de recebimento do comunicado eletrônico, observadas as normas de \\ncertificação digital; \\nIV - publicação no Diário Oficial do Estado. \\n§ 1° As ocorrências previstas nos incisos III e IV deverão ser certificadas nos autos pela \\nunidade competente da Secretaria, fazendo constar a data da certificação, para fins de \\ncontagem de prazo.', metadata={'source': '../dados/docs/Ato_n_63_Texto_compilado_-_RITCEPA_alteracoes_ate_ato_87_de_04.04.2023.pdf', 'page': 62}),\n",
       "  0.6385758540347108),\n",
       " (Document(page_content='IV - a eleição será realizada mediante um único escrutínio, com a utilização de cédulas \\ndistintas para cada um dos cargos indicados, observado o inciso VI; \\nV - a sequência de votação para os cargos será procedida na seguinte ordem: Presidente, Vice-\\nPresidente e Corregedor;  \\nVI - no caso de empate, será efetuada nova votação e, persistindo o empate, será considerado \\neleito o Conselheiro mais antigo no Tribunal; \\nVII - o quórum da sessão para a eleição dos dirigentes será de, pelo menos, 4 (quatro) \\nConselheiros efetivos; \\nVIII - os eleitos serão proclamados pelo presidente da sessão, logo após conhecidos os \\nresultados.', metadata={'source': '../dados/docs/Ato_n_63_Texto_compilado_-_RITCEPA_alteracoes_ate_ato_87_de_04.04.2023.pdf', 'page': 5}),\n",
       "  0.6382973898065993),\n",
       " (Document(page_content='Parágrafo único. O ato que determinar a inspeção extraordinária indicará o objeto e assinará o \\nprazo para a sua realização e encaminhamento do relatório conclusivo ao Relator, competindo \\nao Tribunal Pleno decidir sobre a prorrogação desse prazo, se necessário. \\n \\nSeção V \\nAcompanhamento \\n \\nArt. 84. Acompanhamento é o instrumento de fiscalização utilizado para avaliar a gestão de \\nórgão, entidade ou programa governamental por período de tempo predeterminado, \\nobjetivando:', metadata={'source': '../dados/docs/Ato_n_63_Texto_compilado_-_RITCEPA_alteracoes_ate_ato_87_de_04.04.2023.pdf', 'page': 27}),\n",
       "  0.6379995380281729),\n",
       " (Document(page_content='COORDENAÇÃO\\nSecretaria de Planejamento e Gestão Estratégica\\nSecretária de Planejamento e Gestão Estratégica\\nLilian Rose Bitar Tandaya Bendahan\\nEquipe Técnica\\nAlcides Casemyro F. Alcantara\\nAlessandro Brito de Sousa\\nAlexandre Aly P Charone \\nClewerson Castelo Branco de Queiroz\\nHilda da Fonseca Duarte Caetano\\nJuliana Bulgarelli Mendes\\nMonique Helen Cravo Soares Farias\\nRogério Conceição Cruz\\nVicente Anchieta Júnior\\nProjeto Gráfico\\nClewerson Castelo Branco de Queiroz', metadata={'source': '../dados/docs/Plano_Gestao_2023-2025_Virtual.pdf', 'page': 6}),\n",
       "  0.6372746965274825)]"
      ]
     },
     "execution_count": 50,
     "metadata": {},
     "output_type": "execute_result"
    }
   ],
   "source": [
    "pergunta2 = \"Qual o melhor relógio para quem prática corrida?\"\n",
    "\n",
    "documentos_similares = db.similarity_search_with_relevance_scores(pergunta2, k=10)\n",
    "documentos_similares"
   ]
  },
  {
   "cell_type": "markdown",
   "id": "6af2427c",
   "metadata": {},
   "source": [
    "## Criando Retrievers"
   ]
  },
  {
   "cell_type": "code",
   "execution_count": 51,
   "id": "22de397c",
   "metadata": {},
   "outputs": [
    {
     "data": {
      "text/plain": [
       "langchain.vectorstores.faiss.FAISS"
      ]
     },
     "execution_count": 51,
     "metadata": {},
     "output_type": "execute_result"
    }
   ],
   "source": [
    "type(db)"
   ]
  },
  {
   "cell_type": "code",
   "execution_count": 52,
   "id": "6ec1fe48",
   "metadata": {},
   "outputs": [
    {
     "data": {
      "text/plain": [
       "VectorStoreRetriever(tags=['FAISS'], metadata=None, vectorstore=<langchain.vectorstores.faiss.FAISS object at 0x7f6d84ad8eb0>, search_type='similarity', search_kwargs={})"
      ]
     },
     "execution_count": 52,
     "metadata": {},
     "output_type": "execute_result"
    }
   ],
   "source": [
    "retriever = db.as_retriever()\n",
    "retriever"
   ]
  },
  {
   "cell_type": "code",
   "execution_count": 53,
   "id": "1b0f95ee",
   "metadata": {},
   "outputs": [
    {
     "data": {
      "text/plain": [
       "[Document(page_content='33\\nAÇÃO\\nElaboração do plano de recuperação de desastres em Tecnologia da Informação.OBJETIVO ESTRATÉGICO\\nAprimorar a governança, a gestão e o uso da tecnologia da informação.PLANO DE GESTÃO\\n2023 - 2025\\nDescrição da ação\\nElaborar plano de recuperação de desastres em Tecnologia da Informação (TI) com a definição \\nde ações à recuperação da infraestrutura tecnológica, dos sistemas e dos dados do Tribunal caso \\nocorra interrupção por algum desastre, como: catástrofes naturais, ataques hacker ou falhas em \\nequipamentos.\\nMETA\\nElaborar 1 plano de recuperação de desastres em Tecnologia da Informação.\\nRESPONSÁVEL\\nSetinPRAZO\\n30/11/2024\\nPRAZO\\n15/12/2024\\nPLANO DE GESTÃO 2023 - 2025\\nAÇÃO 18\\n AÇÃO 17\\nTRIBUNAL DE CONTAS DO ESTADO DO PARÁ', metadata={'source': '../dados/docs/Plano_Gestao_2023-2025_Virtual.pdf', 'page': 30}),\n",
       " Document(page_content='27\\nAÇÃO\\nImplantação do módulo de gerenciamento do Plano de Logística Sustentável.OBJETIVO ESTRATÉGICO\\nOtimizar o planejamento e a gestão dos recursos materiais, orçamentários, financeiros e patrimoniais.PLANO DE GESTÃO\\n2023 - 2025\\nDescrição da Ação\\nDesenvolver módulo de  gerenciamento do Plano de Logística Sustentável no sistema de \\nmonitoramento do planejamento (Sisplan).\\nMETA\\nImplantar 1 módulo de gerenciamento do Plano de Logística Sustentável.\\nRESPONSÁVEL\\nSEPGEPRAZO\\n30/11/2023\\nAÇÃO 2\\nPLANO DE GESTÃO\\n2023 - 2025\\nRESPONSÁVEL\\nACRPPRAZO\\n30/11/2023META\\nElaborar 1 manual de gestão de crise na área de comunicação e imagem institucional.Descrição da ação\\nElaborar o plano de gerenciamento de crise para nortear o posicionamento \\ndo TCE-PA quando houver a necessidade.AÇÃO\\nPlano de gerenciamento de crise.OBJETIVO ESTRATÉGICO\\nAprimorar a comunicação institucional do TCE-PA.\\n27PLANO DE GESTÃO 2023 - 2025\\nAÇÃO 12\\n AÇÃO 11', metadata={'source': '../dados/docs/Plano_Gestao_2023-2025_Virtual.pdf', 'page': 24}),\n",
       " Document(page_content='PLANO DE GESTÃO\\n2023 - 2025\\nOBJETIVO ESTRATÉGICO\\nOtimizar o planejamento e a gestão dos recursos materiais, orçamentários, financeiros e patrimoniais.\\nMETA\\nAdquirir 1 sistema de gestão  acadêmica para Escola de Contas Alberto Veloso.Descrição da ação\\nAdquirir sistema  de gestão acadêmica para monitoramento das ações de capacitação realizadas \\npela Escola de Contas Alberto Veloso (ECAV).AÇÃO\\nAquisição do sistema de gestão acadêmica da Escola de Contas Alberto Veloso.\\nPRAZO\\n15/12/2024RESPONSÁVEL\\nECAV/Setin\\n32PLANO DE GESTÃO 2023 - 2025\\nAÇÃO 17\\nTRIBUNAL DE CONTAS DO ESTADO DO PARÁ', metadata={'source': '../dados/docs/Plano_Gestao_2023-2025_Virtual.pdf', 'page': 29}),\n",
       " Document(page_content='PLANO DE GESTÃO 2023 - 2025\\nPLANO DE GESTÃO\\n2023 - 2025\\nRESPONSÁVEL\\nSecexMETA\\nAprimorar 1 portal da intranet.Descrição da ação\\nAmpliação da disponibilização de normas, planos, dados e informações no portal da intranet da \\nSecex, proporcionando a difusão do conhecimento relacionado ao controle externo.AÇÃO\\nAprimoramento do espaço institucional da Secretaria de Controle Externo na intranet.OBJETIVO ESTRATÉGICO\\nAmpliar a efetividade das ações de controle externo.\\nPRAZO\\n29/9/2023\\nPRAZO\\n30/9/2024\\nTRIBUNAL DE CONTAS DO ESTADO DO PARÁ 17\\nAÇÃO 2\\n AÇÃO 1', metadata={'source': '../dados/docs/Plano_Gestao_2023-2025_Virtual.pdf', 'page': 14})]"
      ]
     },
     "execution_count": 53,
     "metadata": {},
     "output_type": "execute_result"
    }
   ],
   "source": [
    "# Um retriever e uma abstração -> Recuperador\n",
    "# Possui métodos semelhantes a usar diretamente o ChromaDB\n",
    "# Usado internamente pelo Langchain\n",
    "retriever.get_relevant_documents(pergunta)"
   ]
  },
  {
   "cell_type": "markdown",
   "id": "805b8a10",
   "metadata": {},
   "source": [
    "### Melhorando nossa consulta com o MultiQuery Retrieval\n",
    "\n",
    "- Às vezes, os documentos o seu vectordb podem conter frases que você não conhece, devido ao seu tamanho.\n",
    "- Isso pode causar problemas ao tentar pensar na string de consulta correta para comparações de similaridade.\n",
    "- Podemos usar um LLM para gerar múltiplas variações de nossa consulta usando MultiQueryRetriever, permitindo-nos focar em ideias-chave em vez de frases exatas."
   ]
  },
  {
   "cell_type": "code",
   "execution_count": 54,
   "id": "6af76c24",
   "metadata": {},
   "outputs": [],
   "source": [
    "from langchain.retrievers import MultiQueryRetriever\n",
    "\n",
    "retriever_from_llm = MultiQueryRetriever.from_llm(retriever=retriever, llm=chat_llm)\n"
   ]
  },
  {
   "cell_type": "code",
   "execution_count": 55,
   "id": "43b6af26",
   "metadata": {},
   "outputs": [],
   "source": [
    "# LOGGING - O Código abaixo irá mostrar os logs do módulo de multi_query\n",
    "import logging\n",
    "logging.basicConfig()\n",
    "logging.getLogger('langchain.retrievers.multi_query').setLevel(logging.INFO)"
   ]
  },
  {
   "cell_type": "code",
   "execution_count": 56,
   "id": "01c1dcf6",
   "metadata": {},
   "outputs": [
    {
     "name": "stderr",
     "output_type": "stream",
     "text": [
      "INFO:langchain.retrievers.multi_query:Generated queries: ['1. Qual é o objetivo principal do plano de gerenciamento de crises no Plano de Gestão?', '2. De acordo com o Plano de Gestão, qual é a finalidade do plano de gerenciamento de crises?', '3. Quais são as metas estabelecidas pelo Plano de Gestão para o plano de gerenciamento de crises?']\n"
     ]
    }
   ],
   "source": [
    "pergunta = \"Qual a meta do plano de gerenciamento de crises de acordo com o Plano de Gestão?\"\n",
    "results = retriever_from_llm.get_relevant_documents(query=pergunta)"
   ]
  },
  {
   "cell_type": "code",
   "execution_count": 57,
   "id": "fe46489a",
   "metadata": {},
   "outputs": [
    {
     "data": {
      "text/plain": [
       "[Document(page_content='27\\nAÇÃO\\nImplantação do módulo de gerenciamento do Plano de Logística Sustentável.OBJETIVO ESTRATÉGICO\\nOtimizar o planejamento e a gestão dos recursos materiais, orçamentários, financeiros e patrimoniais.PLANO DE GESTÃO\\n2023 - 2025\\nDescrição da Ação\\nDesenvolver módulo de  gerenciamento do Plano de Logística Sustentável no sistema de \\nmonitoramento do planejamento (Sisplan).\\nMETA\\nImplantar 1 módulo de gerenciamento do Plano de Logística Sustentável.\\nRESPONSÁVEL\\nSEPGEPRAZO\\n30/11/2023\\nAÇÃO 2\\nPLANO DE GESTÃO\\n2023 - 2025\\nRESPONSÁVEL\\nACRPPRAZO\\n30/11/2023META\\nElaborar 1 manual de gestão de crise na área de comunicação e imagem institucional.Descrição da ação\\nElaborar o plano de gerenciamento de crise para nortear o posicionamento \\ndo TCE-PA quando houver a necessidade.AÇÃO\\nPlano de gerenciamento de crise.OBJETIVO ESTRATÉGICO\\nAprimorar a comunicação institucional do TCE-PA.\\n27PLANO DE GESTÃO 2023 - 2025\\nAÇÃO 12\\n AÇÃO 11', metadata={'source': '../dados/docs/Plano_Gestao_2023-2025_Virtual.pdf', 'page': 24}),\n",
       " Document(page_content='33\\nAÇÃO\\nElaboração do plano de recuperação de desastres em Tecnologia da Informação.OBJETIVO ESTRATÉGICO\\nAprimorar a governança, a gestão e o uso da tecnologia da informação.PLANO DE GESTÃO\\n2023 - 2025\\nDescrição da ação\\nElaborar plano de recuperação de desastres em Tecnologia da Informação (TI) com a definição \\nde ações à recuperação da infraestrutura tecnológica, dos sistemas e dos dados do Tribunal caso \\nocorra interrupção por algum desastre, como: catástrofes naturais, ataques hacker ou falhas em \\nequipamentos.\\nMETA\\nElaborar 1 plano de recuperação de desastres em Tecnologia da Informação.\\nRESPONSÁVEL\\nSetinPRAZO\\n30/11/2024\\nPRAZO\\n15/12/2024\\nPLANO DE GESTÃO 2023 - 2025\\nAÇÃO 18\\n AÇÃO 17\\nTRIBUNAL DE CONTAS DO ESTADO DO PARÁ', metadata={'source': '../dados/docs/Plano_Gestao_2023-2025_Virtual.pdf', 'page': 30}),\n",
       " Document(page_content='PLANO DE GESTÃO\\n2023 - 2025\\nPRAZO\\n16/8/2024RESPONSÁVEL\\nSEGPMETA\\nAprimorar 1 Programa de Saúde Preventiva.Descrição da ação\\nExpandir as ações de atendimento aos usuários do Programa de Saúde Preventiva para as \\ndemais especialidades disponibilizadas pela Coordenadoria de Saúde e Qualidade de Vida \\n(CSQ).AÇÃO\\nAprimoramento do Programa de Saúde Preventiva.OBJETIVO ESTRATÉGICO\\nAmpliar a efetividade das políticas e diretrizes da gestão de pessoas.\\n36\\nAÇÃO 21\\nTRIBUNAL DE CONTAS DO ESTADO DO PARÁ', metadata={'source': '../dados/docs/Plano_Gestao_2023-2025_Virtual.pdf', 'page': 33}),\n",
       " Document(page_content='PLANO DE GESTÃO 2023 - 2025\\nPLANO DE GESTÃO\\n2023 - 2025\\nRESPONSÁVEL\\nSecexMETA\\nAprimorar 1 portal da intranet.Descrição da ação\\nAmpliação da disponibilização de normas, planos, dados e informações no portal da intranet da \\nSecex, proporcionando a difusão do conhecimento relacionado ao controle externo.AÇÃO\\nAprimoramento do espaço institucional da Secretaria de Controle Externo na intranet.OBJETIVO ESTRATÉGICO\\nAmpliar a efetividade das ações de controle externo.\\nPRAZO\\n29/9/2023\\nPRAZO\\n30/9/2024\\nTRIBUNAL DE CONTAS DO ESTADO DO PARÁ 17\\nAÇÃO 2\\n AÇÃO 1', metadata={'source': '../dados/docs/Plano_Gestao_2023-2025_Virtual.pdf', 'page': 14}),\n",
       " Document(page_content='recursos, a implantação do módulo de gerenciamento e monito-\\nramento da execução das ações do Plano de Logística Susten-\\ntável do TCE-PA, a aquisição de sistema integrado para área de \\nGestão de Pessoas, a disponibilização de ferramenta automática \\nde formalização dos acórdãos do Plenário Virtual, a aquisição do \\nsistema de gestão acadêmica da Escola de Contas e a elabo -\\nração do plano de recuperação de desastres em TecnoIogia da \\nInformação. \\nPor último, reitera-se que as ações do Plano de Gestão 2023-\\n2025 são essenciais para o desenvolvimento institucional e o \\naperfeiçoamento contínuo dos processos internos de trabalho, de \\nmaneira a assegurar as condições para o cumprimento da missão \\ndo Tribunal de orientar e fiscalizar a correta aplicação dos recur-\\nsos públicos estaduais em benefício da sociedade paraense.', metadata={'source': '../dados/docs/Plano_Gestao_2023-2025_Virtual.pdf', 'page': 8}),\n",
       " Document(page_content='23\\nAÇÃO 8\\nPLANO DE GESTÃO 2023 - 2025\\nAÇÃO 7', metadata={'source': '../dados/docs/Plano_Gestao_2023-2025_Virtual.pdf', 'page': 20})]"
      ]
     },
     "execution_count": 57,
     "metadata": {},
     "output_type": "execute_result"
    }
   ],
   "source": [
    "results"
   ]
  },
  {
   "cell_type": "code",
   "execution_count": 58,
   "id": "09ee88ee",
   "metadata": {},
   "outputs": [
    {
     "name": "stderr",
     "output_type": "stream",
     "text": [
      "INFO:langchain.retrievers.multi_query:Generated queries: ['1. Quais são os membros que compõem o gabinete da presidência?', '2. Quem faz parte do gabinete presidencial e qual é a sua função?', '3. Quais são as pessoas que trabalham no gabinete da presidência e quais são as suas responsabilidades?']\n"
     ]
    },
    {
     "data": {
      "text/plain": [
       "[Document(page_content='X - propor à Diretoria de Gestão de Pessoas da Secretaria de Administração cursos e \\nseminários pa ra aprimoramento dos trabalhos;  \\nXI - apresentar ao Presidente relatórios trimestrais e anual de suas atividades;  \\nXII - desempenhar outras funções que lhe forem atribuídas por determinação do \\nPresidente, por deliberação do Tribunal Pleno ou pela Chefia ime diata.  \\n \\nSEÇÃO I \\nGABINETE DA PRESIDÊNCIA  \\n \\nArt. 8º O Gabinete da Presidência (GPRES) unidade de apoio subordinada diretamente  \\nao Presidente tem por finalidade coordenar e organizar as atividades administrativas e \\nde representação da Presidência, bem como as ações de comunicação social, \\ncerimonial e relação institucional com os Poderes e outros órgãos e entidades nacionais \\ne internacionais.  \\n \\nArt. 9º Compete ao Gabinete da Presidê ncia: \\nI - coordenar, organizar e executar atividades administrativas inerentes ao cumprimento \\ndas atribuições do Presidente e d os serviços de representação da Presidência;', metadata={'source': '../dados/docs/Regulamento dos Servicos Auxiliares 2014.pdf', 'page': 1}),\n",
       " Document(page_content='V - organizar a matéria extrapauta que o Presidente submeterá a seus pares nas \\nsessões plenárias;  \\nVI - coordenar a organiza ção e o encaminha mento  da correspo ndência fazendo a \\ndevida triagem;  \\nVII - receber servidores e visitantes, providenciando o encaminhamento dos assuntos ao \\nPresidente ; \\nVIII - organizar a agenda de compromissos d o Presid ente; \\nIX - providenciar os termos de convocação de Auditor para substitu ir Conselheiro, na \\nforma estabelecida no Regimento Interno.  \\n \\nParágrafo único. O GPRES será dirigido  por um Chefe de Gabinete,  competindo -lhe as \\natividades d o Gabinete  referidas neste Regulamento, e conta com as funções \\ngratificadas constantes do Anexo I .  \\n \\nArt. 10. O Gabinete da Presidência  possui a seguinte composição:  \\nI - Assessoria de Comunicação e Relações Públicas ; \\nII - Assessoria de Cerimonial  e Relações Institucionais;  \\nIII - Coordenadoria de Apoio Técnico . \\n \\nSubseção I', metadata={'source': '../dados/docs/Regulamento dos Servicos Auxiliares 2014.pdf', 'page': 2}),\n",
       " Document(page_content='COMPOSIÇÃO ADMINISTRATIVA\\nPRESIDENTE \\nConselheira Rosa Egídia Crispino Calheiros Lopes \\nVICE-PRESIDENTE\\nConselheiro Fernando de Castro Ribeiro\\nCORREGEDOR \\nConselheiro Luis da Cunha Teixeira\\nCHEFE DE GABINETE\\nDiógenes da Silva Fiorese\\nPROCURADOR\\nElias Antônio de Albuquerque Chamma\\nSECRETÁRIO GERAL\\nJosé Tuffi Salim Júnior\\nSECRETÁRIA DE CONTROLE EXTERNO \\nAna Paula Cruz Maciel\\nSECRETÁRIA DE PLANEJAMENTO E GESTÃO ESTRATÉGICA\\nLilian Rose Bitar Tandaya Bendahan\\nSECRETÁRIA DE ADMINISTRAÇÃO\\nMaria de Lourdes Carneiro Lobato\\nSECRETÁRIA DE GESTÃO DE PESSOAS\\nAlice Cristina da Costa Loureiro\\nSECRETÁRIA DE TECNOLOGIA DA INFORMAÇÃO\\nLeda Mara Souza de Oliveira Monteiro\\nSECRETÁRIA DE CONTROLE INTERNO\\nAndréa Pinheiro Xerfan \\nSECRETÁRIO DE REPRESENTAÇÃO - SANTARÉM \\nAntônio Carlos Sales Ferreira Júnior\\nSECRETÁRIO DE REPRESENTAÇÃO - MARABÁ\\nRafael Larêdo Mendonça\\nDIRETORA GERAL DA ESCOLA DE CONTAS ALBERTO VELOSO\\nCarmen Lúcia Dantas do Carmo', metadata={'source': '../dados/docs/Plano_Gestao_2023-2025_Virtual.pdf', 'page': 5}),\n",
       " Document(page_content='Presidente  \\nMARIA DE LOURDES LIMA DE OLIVEIRA                          IVAN BARBOSA DA CUNHA  \\nLUIS DA CUNHA TEIXEIRA  \\n \\n (*) publicado no D.O.E. de 06/02/ 2015, com as alterações do ato nº 71 de 05/02/2015.', metadata={'source': '../dados/docs/Regulamento dos Servicos Auxiliares 2014.pdf', 'page': 24}),\n",
       " Document(page_content='a) Procuradoria;  \\nb) Secretaria de Planejamento e Gestão Estratégica;  \\nc) Secretaria de Controle Interno.  \\n \\nIII - Na atividade de ges tão: \\na) Secretaria  Geral ; \\nb) Secretaria de Controle Externo;  \\nc) Secretaria de Tecnologia da Informação;  \\nd) Secretaria  de Administração;  \\ne) Secretaria de Gestão de Pessoas (NR)  \\nf) Representações . \\n**(alínea “ e” com redação alterada pelo  Ato nº 71/2015 )  \\n**(alínea “ f” com redação alterada pelo Ato nº 71/2015 )  \\n \\nCAPÍTULO II  \\nDA DIREÇÃO  \\n \\nArt. 3º Compete ao Presidente a direção das unidades dos Serviços Auxiliares.  \\n \\nParágrafo único. As unidades Gabinete da Vice -Presidência, dos Conselheiros e dos \\nAuditores são sub ordinadas aos respectivos titulares. (NR)  \\n**(parágrafo único com redação alterada pelo Ato nº 80/2019)', metadata={'source': '../dados/docs/Regulamento dos Servicos Auxiliares 2014.pdf', 'page': 0}),\n",
       " Document(page_content='SEÇÃO II  \\nGABINETE DA VICE -PRESIDÊ NCIA  \\n \\nArt. 14. O Gabinete d a Vice-Presidência  unidade de apoio subordinada diretamente a o \\nVice-Presidente tem por finalidade o auxílio técnico e administrativo das atividades por \\neste desenvolvidas conforme Regimento Interno . \\n \\nArt. 15.  As competências, as atividades e os controles dos integrantes o Gabinete do  \\nVice-Presidente serão por este estabelecido na forma regimental.  \\n \\nArt. 16. O Gabinete da Vice -Presidência possui em sua estrutura uma assessoria de \\nnível superio r, cabendo ao Conselheiro a respectiva indicaç ão para fins  de nomeação \\npelo Presidente.  \\n \\nSEÇÃO III  \\nGABINETE DA CORREGEDORIA  \\n \\nArt. 17. Revogado  \\nArt. 18. Revogado  \\nArt. 19. Revogado  \\n \\n**(Arts. 17, 18 e 19  revogad os pelo Ato nº 80/2019)  \\nSEÇÃO IV  \\nGABINETES DOS C ONSELHEIROS  \\n \\nArt. 20. Os Gabinetes dos Conselheiros unidade s de apoio subordinada diretamente a \\ncada um dos Conselheiros , destinam -se ao auxílio técnico e administrativo das', metadata={'source': '../dados/docs/Regulamento dos Servicos Auxiliares 2014.pdf', 'page': 4}),\n",
       " Document(page_content='para atendimento de pessoas que objetivam tratar de assunto de ordem particular . \\n \\nArt. 13.  Compete a Coordenadoria de Apoio Técnico  (CAT) : \\nI - organizar e encaminhar os processos e expedientes, fazendo a devida triagem;  \\nII - assessorar o Chefe de Gabinete na consolidação dos relatórios trimestrais e anual;  \\nIII - executar e manter atualizado o sistema de mala direta;  \\nIV - elaborar e encaminhar as correspondências e demais documentos da Chefia de \\nGabinete.', metadata={'source': '../dados/docs/Regulamento dos Servicos Auxiliares 2014.pdf', 'page': 3})]"
      ]
     },
     "execution_count": 58,
     "metadata": {},
     "output_type": "execute_result"
    }
   ],
   "source": [
    "pergunta = \"Qual a composição do gabinete da presidência?\"\n",
    "results = retriever_from_llm.get_relevant_documents(query=pergunta)\n",
    "results"
   ]
  },
  {
   "cell_type": "code",
   "execution_count": 59,
   "id": "2e212948",
   "metadata": {},
   "outputs": [
    {
     "data": {
      "text/plain": [
       "'X - propor à Diretoria de Gestão de Pessoas da Secretaria de Administração cursos e \\nseminários pa ra aprimoramento dos trabalhos;  \\nXI - apresentar ao Presidente relatórios trimestrais e anual de suas atividades;  \\nXII - desempenhar outras funções que lhe forem atribuídas por determinação do \\nPresidente, por deliberação do Tribunal Pleno ou pela Chefia ime diata.  \\n \\nSEÇÃO I \\nGABINETE DA PRESIDÊNCIA  \\n \\nArt. 8º O Gabinete da Presidência (GPRES) unidade de apoio subordinada diretamente  \\nao Presidente tem por finalidade coordenar e organizar as atividades administrativas e \\nde representação da Presidência, bem como as ações de comunicação social, \\ncerimonial e relação institucional com os Poderes e outros órgãos e entidades nacionais \\ne internacionais.  \\n \\nArt. 9º Compete ao Gabinete da Presidê ncia: \\nI - coordenar, organizar e executar atividades administrativas inerentes ao cumprimento \\ndas atribuições do Presidente e d os serviços de representação da Presidência;'"
      ]
     },
     "execution_count": 59,
     "metadata": {},
     "output_type": "execute_result"
    }
   ],
   "source": [
    "results[0].page_content"
   ]
  },
  {
   "cell_type": "markdown",
   "id": "b095583a",
   "metadata": {},
   "source": [
    "# Usando o Retrieval QA"
   ]
  },
  {
   "cell_type": "code",
   "execution_count": 79,
   "id": "23162810",
   "metadata": {},
   "outputs": [],
   "source": [
    "from langchain.chains import RetrievalQA\n",
    "qa = RetrievalQA.from_chain_type(llm=chat_llm, chain_type=\"stuff\", retriever=retriever_from_llm)"
   ]
  },
  {
   "cell_type": "code",
   "execution_count": 80,
   "id": "0b9e2319",
   "metadata": {},
   "outputs": [
    {
     "name": "stderr",
     "output_type": "stream",
     "text": [
      "INFO:langchain.retrievers.multi_query:Generated queries: ['1. Quais são as orientações estabelecidas no Plano de Gestão para o próximo ano?', '2. Quais são as metas e objetivos do Plano de Gestão para 2023?', '3. Quais são as estratégias recomendadas pelo Plano de Gestão para o futuro próximo?']\n"
     ]
    },
    {
     "data": {
      "text/plain": [
       "'As 3 diretrizes do Plano de Gestão para 2023 são: Transformação Digital, Sustentabilidade e Transparência. O plano contempla 21 ações alinhadas a essas diretrizes e aos objetivos estratégicos contidos no Plano Estratégico 2022-2027.'"
      ]
     },
     "execution_count": 80,
     "metadata": {},
     "output_type": "execute_result"
    }
   ],
   "source": [
    "qa.run(\"Quais são as diretrizes do Plano de Gestão para 2023?\")"
   ]
  },
  {
   "cell_type": "code",
   "execution_count": 81,
   "id": "c0d50492",
   "metadata": {},
   "outputs": [
    {
     "name": "stderr",
     "output_type": "stream",
     "text": [
      "INFO:langchain.retrievers.multi_query:Generated queries: ['1. Quais são os membros que compõem o gabinete da presidência?', '2. Quem são as pessoas que fazem parte do gabinete da presidência?', '3. Como é constituído o gabinete da presidência em termos de membros?']\n"
     ]
    },
    {
     "data": {
      "text/plain": [
       "'O Gabinete da Presidência possui a seguinte composição:\\nI - Assessoria de Comunicação e Relações Públicas;\\nII - Assessoria de Cerimonial e Relações Institucionais;\\nIII - Coordenadoria de Apoio Técnico.\\nE é dirigido por um Chefe de Gabinete, atualmente ocupado por Diógenes da Silva Fiorese.'"
      ]
     },
     "execution_count": 81,
     "metadata": {},
     "output_type": "execute_result"
    }
   ],
   "source": [
    "qa.run(\"Qual a composição do gabinete da presidência?\")"
   ]
  },
  {
   "cell_type": "code",
   "execution_count": 82,
   "id": "b2c1450a",
   "metadata": {},
   "outputs": [
    {
     "name": "stderr",
     "output_type": "stream",
     "text": [
      "INFO:langchain.retrievers.multi_query:Generated queries: ['1. Quais habilidades o Tribunal possui?', '2. Quais são as aptidões do Tribunal?', '3. Quais são as capacidades do Tribunal?']\n"
     ]
    },
    {
     "data": {
      "text/plain": [
       "'O Tribunal de Contas do Estado tem diversas competências, entre elas: decidir sobre denúncias e representações em matéria de sua competência; negar aplicação de Lei ou de ato normativo considerado ilegal ou inconstitucional; determinar a instauração de tomada de contas, inspeções extraordinárias e auditorias especiais; decidir sobre recursos interpostos contra suas decisões, bem como pedidos de rescisão; estabelecer prejulgados, por meio de súmulas; elaborar e alterar seu Regimento Interno; eleger seu Presidente e demais dirigentes, e dar-lhes posse; entre outras atribuições. Você pode conferir todas as competências detalhadas no Regimento Interno do Tribunal.'"
      ]
     },
     "execution_count": 82,
     "metadata": {},
     "output_type": "execute_result"
    }
   ],
   "source": [
    "qa.run(\"Quais as competências do Tribunal?\")"
   ]
  },
  {
   "cell_type": "code",
   "execution_count": 83,
   "id": "459594ff",
   "metadata": {},
   "outputs": [
    {
     "name": "stderr",
     "output_type": "stream",
     "text": [
      "INFO:langchain.retrievers.multi_query:Generated queries: ['1. Quais são os profissionais habilitados a redigir as resoluções do Tribunal?', '2. Existem requisitos específicos para redigir as resoluções do Tribunal?', '3. Quem são os responsáveis pela elaboração das resoluções do Tribunal?']\n"
     ]
    },
    {
     "name": "stdout",
     "output_type": "stream",
     "text": [
      "De acordo com o Art. 191, as Resoluções e Acórdãos serão redigidos pela Secretaria, sob a orientação do Relator.\n"
     ]
    }
   ],
   "source": [
    "r = qa.run(\"Quem pode redigir as resoluções do Tribunal?\")\n",
    "print(r)"
   ]
  },
  {
   "cell_type": "code",
   "execution_count": 65,
   "id": "ac4d501b",
   "metadata": {},
   "outputs": [
    {
     "data": {
      "text/plain": [
       "'O Tribunal pode aplicar diversas punições aos jurisdicionados, incluindo multas de até cem por cento do valor atualizado do dano causado ao erário estadual, inabilitação para o exercício de cargo em comissão ou função de confiança no âmbito da administração pública estadual por um período de até cinco anos, e medidas cautelares como recomendação de afastamento temporário do responsável, indisponibilidade de bens para garantir o ressarcimento dos danos em apuração e sustação de ato impugnado ou de procedimento. A decisão sobre qual punição aplicar dependerá da gravidade da infração e de outras circunstâncias, como a existência de dolo ou culpa e a proporcionalidade da sanção administrativa imposta.'"
      ]
     },
     "execution_count": 65,
     "metadata": {},
     "output_type": "execute_result"
    }
   ],
   "source": [
    "qa.run(\"Quais punições o Tribunal pode aplicar aos jurisdicionados?\")"
   ]
  },
  {
   "cell_type": "code",
   "execution_count": 66,
   "id": "a341dcdc",
   "metadata": {},
   "outputs": [
    {
     "data": {
      "text/plain": [
       "'Desculpe, mas não há informação suficiente no contexto fornecido para responder a essa pergunta. O contexto fala sobre a Coordenadoria e suas atividades, mas não fornece informações sobre carros ou consumo de combustível. Posso ajudar com alguma outra pergunta sobre o contexto fornecido?'"
      ]
     },
     "execution_count": 66,
     "metadata": {},
     "output_type": "execute_result"
    }
   ],
   "source": [
    "qa.run(\"Qual o carro que consome menos combustível?\")"
   ]
  },
  {
   "cell_type": "markdown",
   "id": "9c8c4d35",
   "metadata": {},
   "source": [
    "# Avaliando o modelo\n",
    "\n",
    "### Gerando perguntas"
   ]
  },
  {
   "cell_type": "code",
   "execution_count": 67,
   "id": "4224d5f3",
   "metadata": {},
   "outputs": [],
   "source": [
    "from langchain.evaluation.qa import QAGenerateChain\n",
    "from langchain.prompts import PromptTemplate"
   ]
  },
  {
   "cell_type": "code",
   "execution_count": 68,
   "id": "7b88e153",
   "metadata": {},
   "outputs": [],
   "source": [
    "# Recomendo usar o GPT4\n",
    "example_gen_chain = QAGenerateChain.from_llm(chat_llm)"
   ]
  },
  {
   "cell_type": "code",
   "execution_count": 69,
   "id": "1755ae2e",
   "metadata": {},
   "outputs": [
    {
     "data": {
      "text/plain": [
       "'You are a teacher coming up with questions to ask on a quiz. \\nGiven the following document, please generate a question and answer based on that document.\\n\\nExample Format:\\n<Begin Document>\\n...\\n<End Document>\\nQUESTION: question here\\nANSWER: answer here\\n\\nThese questions should be detailed and be based explicitly on information in the document. Begin!\\n\\n<Begin Document>\\n{doc}\\n<End Document>'"
      ]
     },
     "execution_count": 69,
     "metadata": {},
     "output_type": "execute_result"
    }
   ],
   "source": [
    "example_gen_chain.prompt.template"
   ]
  },
  {
   "cell_type": "code",
   "execution_count": 70,
   "id": "d18c99e8",
   "metadata": {},
   "outputs": [],
   "source": [
    "prompt_ptbr = 'Você é um professor que vem com perguntas para fazer em um teste. \\nDado o documento a seguir, gere uma pergunta e uma resposta com base nesse documento.\\n\\nFormato de exemplo:\\n<Documento inicial>\\n...\\n<Documento final>\\nQUESTION: pergunta aqui \\nANSWER: responda aqui \\n\\nEssas perguntas devem ser detalhadas e basear-se explicitamente nas informações do documento. Começar!\\n\\n<Iniciar Documento>\\n{doc}\\n<Finalizar Documento>'\n",
    "\n",
    "prompt_ptbr_template = PromptTemplate.from_template(prompt_ptbr)\n",
    "example_gen_chain = QAGenerateChain(llm=chat_llm, prompt=prompt_ptbr_template)"
   ]
  },
  {
   "cell_type": "code",
   "execution_count": 71,
   "id": "e085672b",
   "metadata": {},
   "outputs": [
    {
     "data": {
      "text/plain": [
       "[{'qa_pairs': {'query': 'Qual é o objetivo do relatório que deve ser apresentado pelo Tribunal à Assembleia Legislativa, de acordo com o documento?',\n",
       "   'answer': 'O objetivo do relatório que deve ser apresentado pelo Tribunal à Assembleia Legislativa é apresentar um minucioso relatório do exercício financeiro encerrado, louvando-se para tanto nos elementos colhidos no curso das fiscalizações realizadas para este fim. Esse relatório será elaborado pelo Relator da prestação de contas, cabendo ao Departamento de Controle Externo oferecer todas as informações e dados necessários.'}},\n",
       " {'qa_pairs': {'query': 'Qual é a sanção que pode ser aplicada a um responsável cujas contas foram julgadas irregulares?',\n",
       "   'answer': 'A inabilitação para o exercício de cargo em comissão ou função de confiança no âmbito da administração pública estadual, por um período não superior a 5 anos, cumulativamente com outras sanções previstas no Capítulo. '}},\n",
       " {'qa_pairs': {'query': 'Qual é o procedimento para a distribuição do relatório da comissão aos interessados antes da sessão de apreciação do Parecer Prévio?',\n",
       "   'answer': 'Segundo o Art. 102 do documento, o Relator deve distribuir cópia do relatório da comissão aos Conselheiros, ao Ministério Público de Contas, ao Governador, ao ex-Governador (quando for o caso), aos demais chefes de Poderes e a outras autoridades a seu critério até 24 horas antes da sessão a ser realizada.'}},\n",
       " {'qa_pairs': {'query': 'O que é o Departamento de Controle Externo e qual é o prazo para instrução dos processos?',\n",
       "   'answer': 'O Departamento de Controle Externo é responsável por instruir e emitir relatório sobre os processos encaminhados para este fim, com prazo de 15 (quinze) dias úteis, podendo ser prorrogado na forma deste Regimento.'}},\n",
       " {'qa_pairs': {'query': 'Quais são as atribuições do Conselheiro de acordo com o artigo 29?',\n",
       "   'answer': 'De acordo com o Artigo 29, as atribuições do Conselheiro são: participar das sessões ordinárias, extraordinárias e solenes do Tribunal, bem como das sessões ordinárias do Plenário Virtual, presidir e orientar a instrução processual da matéria da qual seja Relator, determinando todas as providências e diligências necessárias àquele fim, desde que não conflitem com as instruções, ordens de serviço, e jurisprudência predominante do Tribunal, determinar a expedição de comunicação de audiência, citação e notificação nos processos de sua relatoria, encaminhar ao Ministério Público de Contas os processos em que presidir e orientar a instrução processual, relatar e votar os processos que lhe sejam distribuídos e propor, discutir e votar as matérias de competência do Tribunal, podendo requerer as providências necessárias ao esclarecimento do assunto.'}}]"
      ]
     },
     "execution_count": 71,
     "metadata": {},
     "output_type": "execute_result"
    }
   ],
   "source": [
    "import random\n",
    "\n",
    "random_docs = [random.choice(documents) for _ in range(5)]\n",
    "exemplos = example_gen_chain.apply_and_parse(\n",
    "    [{\"doc\": t} for t in random_docs]\n",
    ")\n",
    "\n",
    "exemplos"
   ]
  },
  {
   "cell_type": "code",
   "execution_count": 72,
   "id": "014a14fc",
   "metadata": {},
   "outputs": [],
   "source": [
    "exemplos = [exemplo['qa_pairs'] for exemplo in exemplos]"
   ]
  },
  {
   "cell_type": "code",
   "execution_count": 73,
   "id": "2258cb71",
   "metadata": {},
   "outputs": [
    {
     "data": {
      "text/plain": [
       "'O objetivo do relatório é apresentar à Assembleia Legislativa um minucioso relatório do exercício financeiro encerrado, louvando-se para tanto nos elementos colhidos no curso das fiscalizações realizadas para este fim, na hipótese prevista no artigo mencionado. O relatório será elaborado pelo Relator da prestação de contas, cabendo ao Departamento de Controle Externo oferecer todas as informações e dados necessários.'"
      ]
     },
     "execution_count": 73,
     "metadata": {},
     "output_type": "execute_result"
    }
   ],
   "source": [
    "qa.run(exemplos[0][\"query\"])"
   ]
  },
  {
   "cell_type": "markdown",
   "id": "72b5e5c3",
   "metadata": {},
   "source": [
    "### Avaliação Manual\n"
   ]
  },
  {
   "cell_type": "code",
   "execution_count": 74,
   "id": "ffcf0ef6",
   "metadata": {},
   "outputs": [],
   "source": [
    "import langchain\n",
    "langchain.debug = True"
   ]
  },
  {
   "cell_type": "code",
   "execution_count": 75,
   "id": "15273cb3",
   "metadata": {},
   "outputs": [
    {
     "name": "stdout",
     "output_type": "stream",
     "text": [
      "\u001b[32;1m\u001b[1;3m[chain/start]\u001b[0m \u001b[1m[1:chain:RetrievalQA] Entering Chain run with input:\n",
      "\u001b[0m{\n",
      "  \"query\": \"Qual é o objetivo do relatório que deve ser apresentado pelo Tribunal à Assembleia Legislativa, de acordo com o documento?\"\n",
      "}\n",
      "\u001b[32;1m\u001b[1;3m[chain/start]\u001b[0m \u001b[1m[1:chain:RetrievalQA > 3:chain:StuffDocumentsChain] Entering Chain run with input:\n",
      "\u001b[0m[inputs]\n",
      "\u001b[32;1m\u001b[1;3m[chain/start]\u001b[0m \u001b[1m[1:chain:RetrievalQA > 3:chain:StuffDocumentsChain > 4:chain:LLMChain] Entering Chain run with input:\n",
      "\u001b[0m{\n",
      "  \"question\": \"Qual é o objetivo do relatório que deve ser apresentado pelo Tribunal à Assembleia Legislativa, de acordo com o documento?\",\n",
      "  \"context\": \"direito. \\n§ 1º Na hipótese prevista neste artigo, deverá o Tribunal apresentar à Assembleia Legislativa \\nminucioso relatório do exercício financeiro encerrado, louvando-se para tanto nos elementos \\ncolhidos no curso das fiscalizações realizadas para este fim. \\n§ 2º O relatório de que trata o parágrafo anterior será elaborado pelo Relator da prestação de \\ncontas, cabendo ao Departamento de Controle Externo oferecer todas as informações e dados \\nnecessários. \\nCAPÍTULO II \\nATOS SUJEITOS A REGISTRO \\nSeção I \\nDisposições Gerais \\n \\nArt. 105. O Tribunal apreciará, para fins de registro, mediante procedimentos de fiscalização \\nou processo específico, a legalidade dos atos de:\\n\\nmatéria, ficando, desde logo, convocados os Conselheiros e o representante do Ministério \\nPúblico, cientes os interessados da data e hora da continuação da sessão extraordinária. \\n \\nArt. 103. O Tribunal, no prazo previsto na Constituição Estadual, encaminhará à Assembleia \\nLegislativa o original do processo das contas prestadas pelo Governador do Estado, \\ndevidamente acompanhado do relatório, do parecer do Ministério Público de Contas, do \\nParecer Prévio aprovado pelo Tribunal Pleno e, se for o caso, da defesa escrita. \\nParágrafo único. Encaminhará também aos titulares dos Poderes e Órgãos e ao ex-\\nGovernador, quando couber, cópia do Relatório, do Parecer do Ministério Público de Contas, \\ndo Parecer Prévio aprovado pelo Tribunal Pleno e defesa escrita. \\n \\nArt. 104. Caso as contas de Governo não sejam apresentadas dentro dos prazos \\nconstitucionais e legais, o Tribunal comunicará o fato à Assembleia Legislativa, para fins de \\ndireito.\\n\\nprestação de contas anual do Governador do Estado, o Tribunal aplicará multa nos termos \\nprevistos no art. 243, inciso II. \\n \\nArt. 100. O Relator encaminhará as contas para a comissão técnica especialmente designada \\npara análise e instrução do processo. \\n§ 1° A Comissão, antes da elaboração do relatório que dará respaldo à proposta de Parecer \\nPrévio, verificará se dos autos constam todos os documentos exigidos na forma da lei e deste \\nRegimento. \\n§ 2º A Comissão procederá à verificação das formalidades e apreciação geral fundamentada \\nna gestão orçamentária, patrimonial, financeira e fiscal do exercício, devendo ainda verificar \\nse os resultados estão adequadamente evidenciados no balanço geral, concluindo com a \\nemissão de relatório técnico que dará subsídio à proposta de Parecer Prévio. \\n§ 3º O relatório da comissão, sem prejuízo das recomendações, conterá informações sobre:  \\nI - a elaboração dos balanços, de conformidade com as legislações federal e estadual \\nsupletiva;\\n\\nh) uniformização de jurisprudência; \\ni) assuntos de economia interna do Tribunal; \\nj) outras matérias que, por sua natureza, entenda o Tribunal Pleno devam se revestir desta \\nforma. \\n \\nArt. 190. São partes essenciais das deliberações do Tribunal: \\nI - o relatório que conterá as conclusões da instrução processual efetuada pelo Departamento \\nde Controle Externo, bem como as do parecer do Ministério Público de Contas; \\nII - a transcrição da sustentação oral, se houver; \\nIII - a fundamentação com que o Relator analisou as questões de fato e de direito; \\nIV - o dispositivo com que o Relator decidiu sobre o mérito do processo.   \\n \\nArt. 191. Os Atos, Acórdãos e Resoluções serão redigidos pela Secretaria, sob a orientação do \\nRelator. \\n§ 1º As deliberações do Tribunal Pleno serão assinadas pelo Presidente e seu respectivo \\nRelator, mencionados os nomes de todos os demais membros que participaram da votação, \\nsalvo a que trata do Parecer Prévio que será assinada por todos.\"\n",
      "}\n",
      "\u001b[32;1m\u001b[1;3m[llm/start]\u001b[0m \u001b[1m[1:chain:RetrievalQA > 3:chain:StuffDocumentsChain > 4:chain:LLMChain > 5:llm:AzureChatOpenAI] Entering LLM run with input:\n",
      "\u001b[0m{\n",
      "  \"prompts\": [\n",
      "    \"System: Use the following pieces of context to answer the users question. \\nIf you don't know the answer, just say that you don't know, don't try to make up an answer.\\n----------------\\ndireito. \\n§ 1º Na hipótese prevista neste artigo, deverá o Tribunal apresentar à Assembleia Legislativa \\nminucioso relatório do exercício financeiro encerrado, louvando-se para tanto nos elementos \\ncolhidos no curso das fiscalizações realizadas para este fim. \\n§ 2º O relatório de que trata o parágrafo anterior será elaborado pelo Relator da prestação de \\ncontas, cabendo ao Departamento de Controle Externo oferecer todas as informações e dados \\nnecessários. \\nCAPÍTULO II \\nATOS SUJEITOS A REGISTRO \\nSeção I \\nDisposições Gerais \\n \\nArt. 105. O Tribunal apreciará, para fins de registro, mediante procedimentos de fiscalização \\nou processo específico, a legalidade dos atos de:\\n\\nmatéria, ficando, desde logo, convocados os Conselheiros e o representante do Ministério \\nPúblico, cientes os interessados da data e hora da continuação da sessão extraordinária. \\n \\nArt. 103. O Tribunal, no prazo previsto na Constituição Estadual, encaminhará à Assembleia \\nLegislativa o original do processo das contas prestadas pelo Governador do Estado, \\ndevidamente acompanhado do relatório, do parecer do Ministério Público de Contas, do \\nParecer Prévio aprovado pelo Tribunal Pleno e, se for o caso, da defesa escrita. \\nParágrafo único. Encaminhará também aos titulares dos Poderes e Órgãos e ao ex-\\nGovernador, quando couber, cópia do Relatório, do Parecer do Ministério Público de Contas, \\ndo Parecer Prévio aprovado pelo Tribunal Pleno e defesa escrita. \\n \\nArt. 104. Caso as contas de Governo não sejam apresentadas dentro dos prazos \\nconstitucionais e legais, o Tribunal comunicará o fato à Assembleia Legislativa, para fins de \\ndireito.\\n\\nprestação de contas anual do Governador do Estado, o Tribunal aplicará multa nos termos \\nprevistos no art. 243, inciso II. \\n \\nArt. 100. O Relator encaminhará as contas para a comissão técnica especialmente designada \\npara análise e instrução do processo. \\n§ 1° A Comissão, antes da elaboração do relatório que dará respaldo à proposta de Parecer \\nPrévio, verificará se dos autos constam todos os documentos exigidos na forma da lei e deste \\nRegimento. \\n§ 2º A Comissão procederá à verificação das formalidades e apreciação geral fundamentada \\nna gestão orçamentária, patrimonial, financeira e fiscal do exercício, devendo ainda verificar \\nse os resultados estão adequadamente evidenciados no balanço geral, concluindo com a \\nemissão de relatório técnico que dará subsídio à proposta de Parecer Prévio. \\n§ 3º O relatório da comissão, sem prejuízo das recomendações, conterá informações sobre:  \\nI - a elaboração dos balanços, de conformidade com as legislações federal e estadual \\nsupletiva;\\n\\nh) uniformização de jurisprudência; \\ni) assuntos de economia interna do Tribunal; \\nj) outras matérias que, por sua natureza, entenda o Tribunal Pleno devam se revestir desta \\nforma. \\n \\nArt. 190. São partes essenciais das deliberações do Tribunal: \\nI - o relatório que conterá as conclusões da instrução processual efetuada pelo Departamento \\nde Controle Externo, bem como as do parecer do Ministério Público de Contas; \\nII - a transcrição da sustentação oral, se houver; \\nIII - a fundamentação com que o Relator analisou as questões de fato e de direito; \\nIV - o dispositivo com que o Relator decidiu sobre o mérito do processo.   \\n \\nArt. 191. Os Atos, Acórdãos e Resoluções serão redigidos pela Secretaria, sob a orientação do \\nRelator. \\n§ 1º As deliberações do Tribunal Pleno serão assinadas pelo Presidente e seu respectivo \\nRelator, mencionados os nomes de todos os demais membros que participaram da votação, \\nsalvo a que trata do Parecer Prévio que será assinada por todos.\\nHuman: Qual é o objetivo do relatório que deve ser apresentado pelo Tribunal à Assembleia Legislativa, de acordo com o documento?\"\n",
      "  ]\n",
      "}\n",
      "\u001b[36;1m\u001b[1;3m[llm/end]\u001b[0m \u001b[1m[1:chain:RetrievalQA > 3:chain:StuffDocumentsChain > 4:chain:LLMChain > 5:llm:AzureChatOpenAI] [1.65s] Exiting LLM run with output:\n",
      "\u001b[0m{\n",
      "  \"generations\": [\n",
      "    [\n",
      "      {\n",
      "        \"text\": \"O objetivo do relatório que deve ser apresentado pelo Tribunal à Assembleia Legislativa é apresentar um minucioso relatório do exercício financeiro encerrado e louvar-se nos elementos colhidos no curso das fiscalizações realizadas para este fim. Isso está estabelecido no § 1º do artigo 103.\",\n",
      "        \"generation_info\": {\n",
      "          \"finish_reason\": \"stop\"\n",
      "        },\n",
      "        \"message\": {\n",
      "          \"lc\": 1,\n",
      "          \"type\": \"constructor\",\n",
      "          \"id\": [\n",
      "            \"langchain\",\n",
      "            \"schema\",\n",
      "            \"messages\",\n",
      "            \"AIMessage\"\n",
      "          ],\n",
      "          \"kwargs\": {\n",
      "            \"content\": \"O objetivo do relatório que deve ser apresentado pelo Tribunal à Assembleia Legislativa é apresentar um minucioso relatório do exercício financeiro encerrado e louvar-se nos elementos colhidos no curso das fiscalizações realizadas para este fim. Isso está estabelecido no § 1º do artigo 103.\",\n",
      "            \"additional_kwargs\": {}\n",
      "          }\n",
      "        }\n",
      "      }\n",
      "    ]\n",
      "  ],\n",
      "  \"llm_output\": {\n",
      "    \"token_usage\": {\n",
      "      \"completion_tokens\": 76,\n",
      "      \"prompt_tokens\": 1128,\n",
      "      \"total_tokens\": 1204\n",
      "    },\n",
      "    \"model_name\": \"gpt-35-turbo\"\n",
      "  },\n",
      "  \"run\": null\n",
      "}\n",
      "\u001b[36;1m\u001b[1;3m[chain/end]\u001b[0m \u001b[1m[1:chain:RetrievalQA > 3:chain:StuffDocumentsChain > 4:chain:LLMChain] [1.65s] Exiting Chain run with output:\n",
      "\u001b[0m{\n",
      "  \"text\": \"O objetivo do relatório que deve ser apresentado pelo Tribunal à Assembleia Legislativa é apresentar um minucioso relatório do exercício financeiro encerrado e louvar-se nos elementos colhidos no curso das fiscalizações realizadas para este fim. Isso está estabelecido no § 1º do artigo 103.\"\n",
      "}\n",
      "\u001b[36;1m\u001b[1;3m[chain/end]\u001b[0m \u001b[1m[1:chain:RetrievalQA > 3:chain:StuffDocumentsChain] [1.66s] Exiting Chain run with output:\n",
      "\u001b[0m{\n",
      "  \"output_text\": \"O objetivo do relatório que deve ser apresentado pelo Tribunal à Assembleia Legislativa é apresentar um minucioso relatório do exercício financeiro encerrado e louvar-se nos elementos colhidos no curso das fiscalizações realizadas para este fim. Isso está estabelecido no § 1º do artigo 103.\"\n",
      "}\n",
      "\u001b[36;1m\u001b[1;3m[chain/end]\u001b[0m \u001b[1m[1:chain:RetrievalQA] [1.90s] Exiting Chain run with output:\n",
      "\u001b[0m{\n",
      "  \"result\": \"O objetivo do relatório que deve ser apresentado pelo Tribunal à Assembleia Legislativa é apresentar um minucioso relatório do exercício financeiro encerrado e louvar-se nos elementos colhidos no curso das fiscalizações realizadas para este fim. Isso está estabelecido no § 1º do artigo 103.\"\n",
      "}\n"
     ]
    },
    {
     "data": {
      "text/plain": [
       "'O objetivo do relatório que deve ser apresentado pelo Tribunal à Assembleia Legislativa é apresentar um minucioso relatório do exercício financeiro encerrado e louvar-se nos elementos colhidos no curso das fiscalizações realizadas para este fim. Isso está estabelecido no § 1º do artigo 103.'"
      ]
     },
     "execution_count": 75,
     "metadata": {},
     "output_type": "execute_result"
    }
   ],
   "source": [
    "qa.run(exemplos[0][\"query\"])"
   ]
  },
  {
   "cell_type": "code",
   "execution_count": 76,
   "id": "aee3f09a",
   "metadata": {},
   "outputs": [],
   "source": [
    "# Turn off the debug mode\n",
    "langchain.debug = False"
   ]
  },
  {
   "cell_type": "markdown",
   "id": "4a376775",
   "metadata": {},
   "source": [
    "## Avaliação assistida por LLM"
   ]
  },
  {
   "cell_type": "code",
   "execution_count": 77,
   "id": "5f4a9a54",
   "metadata": {},
   "outputs": [
    {
     "data": {
      "text/plain": [
       "[{'query': 'Qual é o objetivo do relatório que deve ser apresentado pelo Tribunal à Assembleia Legislativa, de acordo com o documento?',\n",
       "  'answer': 'O objetivo do relatório que deve ser apresentado pelo Tribunal à Assembleia Legislativa é apresentar um minucioso relatório do exercício financeiro encerrado, louvando-se para tanto nos elementos colhidos no curso das fiscalizações realizadas para este fim. Esse relatório será elaborado pelo Relator da prestação de contas, cabendo ao Departamento de Controle Externo oferecer todas as informações e dados necessários.',\n",
       "  'result': 'O objetivo do relatório que deve ser apresentado pelo Tribunal à Assembleia Legislativa é apresentar um minucioso relatório do exercício financeiro encerrado, louvando-se para tanto nos elementos colhidos no curso das fiscalizações realizadas para este fim. Esse relatório deve ser elaborado pelo Relator da prestação de contas, cabendo ao Departamento de Controle Externo oferecer todas as informações e dados necessários.'},\n",
       " {'query': 'Qual é a sanção que pode ser aplicada a um responsável cujas contas foram julgadas irregulares?',\n",
       "  'answer': 'A inabilitação para o exercício de cargo em comissão ou função de confiança no âmbito da administração pública estadual, por um período não superior a 5 anos, cumulativamente com outras sanções previstas no Capítulo. ',\n",
       "  'result': 'De acordo com o Art. 248, o Tribunal, por maioria de dois terços de seus membros, pode aplicar a sanção de inabilitação para o exercício de cargo em comissão ou função de confiança no âmbito da administração pública estadual, por prazo não superior a 5 (cinco) anos, cumulativamente com as sanções previstas neste Capítulo.'},\n",
       " {'query': 'Qual é o procedimento para a distribuição do relatório da comissão aos interessados antes da sessão de apreciação do Parecer Prévio?',\n",
       "  'answer': 'Segundo o Art. 102 do documento, o Relator deve distribuir cópia do relatório da comissão aos Conselheiros, ao Ministério Público de Contas, ao Governador, ao ex-Governador (quando for o caso), aos demais chefes de Poderes e a outras autoridades a seu critério até 24 horas antes da sessão a ser realizada.',\n",
       "  'result': 'De acordo com o Art. 102, §1º, o Relator, até 24 horas antes da sessão a que se refere o caput deste artigo, fará distribuir cópia do relatório da comissão aos Conselheiros, ao Ministério Público de Contas, ao Governador, ao ex-Governador, quando for o caso, aos demais chefes de Poderes e a outras autoridades, a seu critério.'},\n",
       " {'query': 'O que é o Departamento de Controle Externo e qual é o prazo para instrução dos processos?',\n",
       "  'answer': 'O Departamento de Controle Externo é responsável por instruir e emitir relatório sobre os processos encaminhados para este fim, com prazo de 15 (quinze) dias úteis, podendo ser prorrogado na forma deste Regimento.',\n",
       "  'result': 'O Departamento de Controle Externo é um órgão responsável pela fiscalização de órgãos e entidades sujeitos à jurisdição do Tribunal. Suas prerrogativas incluem livre ingresso nos órgãos fiscalizados, acesso a documentos e informações necessários, competência para requerer documentos e informações desejadas e local apropriado para a realização de seus trabalhos. O prazo para instrução dos processos é de 10 dias, podendo ser prorrogado por mais 10 dias em casos excepcionais, mediante solicitação escrita fundamentada. O Departamento de Controle Externo dará prioridade às medidas decorrentes da reabertura da instrução.'},\n",
       " {'query': 'Quais são as atribuições do Conselheiro de acordo com o artigo 29?',\n",
       "  'answer': 'De acordo com o Artigo 29, as atribuições do Conselheiro são: participar das sessões ordinárias, extraordinárias e solenes do Tribunal, bem como das sessões ordinárias do Plenário Virtual, presidir e orientar a instrução processual da matéria da qual seja Relator, determinando todas as providências e diligências necessárias àquele fim, desde que não conflitem com as instruções, ordens de serviço, e jurisprudência predominante do Tribunal, determinar a expedição de comunicação de audiência, citação e notificação nos processos de sua relatoria, encaminhar ao Ministério Público de Contas os processos em que presidir e orientar a instrução processual, relatar e votar os processos que lhe sejam distribuídos e propor, discutir e votar as matérias de competência do Tribunal, podendo requerer as providências necessárias ao esclarecimento do assunto.',\n",
       "  'result': 'De acordo com o Artigo 29, as atribuições do Conselheiro são:\\n\\nI - participar, presencialmente ou por videoconferência, das sessões ordinárias, extraordinárias e solenes do Tribunal, bem como das sessões ordinárias do Plenário Virtual.\\n\\nII - presidir e orientar a instrução processual da matéria da qual seja Relator, determinando todas as providências e diligências necessárias àquele fim, desde que não conflitem com as instruções, ordens de serviço, e jurisprudência predominante do Tribunal;\\n\\nIII - determinar a expedição de comunicação de audiência, citação e notificação nos processos de sua relatoria;\\n\\nIV - encaminhar ao Ministério Público de Contas os processos em que presidir e orientar a instrução processual;\\n\\nV - relatar e votar os processos que lhe sejam distribuídos;\\n\\nVI - propor, discutir e votar as matérias de competência do Tribunal, podendo requerer as providências necessárias ao esclarecimento do assunto.'}]"
      ]
     },
     "execution_count": 77,
     "metadata": {},
     "output_type": "execute_result"
    }
   ],
   "source": [
    "## Avaliação assistida por LLM\n",
    "predictions = qa.apply(exemplos)\n",
    "predictions"
   ]
  },
  {
   "cell_type": "code",
   "execution_count": 78,
   "id": "76f9d7ae",
   "metadata": {},
   "outputs": [
    {
     "name": "stdout",
     "output_type": "stream",
     "text": [
      "Exemplo 0:\n",
      "Pergunta: Qual é o objetivo do relatório que deve ser apresentado pelo Tribunal à Assembleia Legislativa, de acordo com o documento?\n",
      "Resposta correta: O objetivo do relatório que deve ser apresentado pelo Tribunal à Assembleia Legislativa é apresentar um minucioso relatório do exercício financeiro encerrado, louvando-se para tanto nos elementos colhidos no curso das fiscalizações realizadas para este fim. Esse relatório será elaborado pelo Relator da prestação de contas, cabendo ao Departamento de Controle Externo oferecer todas as informações e dados necessários.\n",
      "Resposta do Modelo: O objetivo do relatório que deve ser apresentado pelo Tribunal à Assembleia Legislativa é apresentar um minucioso relatório do exercício financeiro encerrado, louvando-se para tanto nos elementos colhidos no curso das fiscalizações realizadas para este fim. Esse relatório deve ser elaborado pelo Relator da prestação de contas, cabendo ao Departamento de Controle Externo oferecer todas as informações e dados necessários.\n",
      "Avaliação: CORRECT\n",
      "\n",
      "Exemplo 1:\n",
      "Pergunta: Qual é a sanção que pode ser aplicada a um responsável cujas contas foram julgadas irregulares?\n",
      "Resposta correta: A inabilitação para o exercício de cargo em comissão ou função de confiança no âmbito da administração pública estadual, por um período não superior a 5 anos, cumulativamente com outras sanções previstas no Capítulo. \n",
      "Resposta do Modelo: De acordo com o Art. 248, o Tribunal, por maioria de dois terços de seus membros, pode aplicar a sanção de inabilitação para o exercício de cargo em comissão ou função de confiança no âmbito da administração pública estadual, por prazo não superior a 5 (cinco) anos, cumulativamente com as sanções previstas neste Capítulo.\n",
      "Avaliação: CORRECT\n",
      "\n",
      "Exemplo 2:\n",
      "Pergunta: Qual é o procedimento para a distribuição do relatório da comissão aos interessados antes da sessão de apreciação do Parecer Prévio?\n",
      "Resposta correta: Segundo o Art. 102 do documento, o Relator deve distribuir cópia do relatório da comissão aos Conselheiros, ao Ministério Público de Contas, ao Governador, ao ex-Governador (quando for o caso), aos demais chefes de Poderes e a outras autoridades a seu critério até 24 horas antes da sessão a ser realizada.\n",
      "Resposta do Modelo: De acordo com o Art. 102, §1º, o Relator, até 24 horas antes da sessão a que se refere o caput deste artigo, fará distribuir cópia do relatório da comissão aos Conselheiros, ao Ministério Público de Contas, ao Governador, ao ex-Governador, quando for o caso, aos demais chefes de Poderes e a outras autoridades, a seu critério.\n",
      "Avaliação: CORRECT\n",
      "\n",
      "Exemplo 3:\n",
      "Pergunta: O que é o Departamento de Controle Externo e qual é o prazo para instrução dos processos?\n",
      "Resposta correta: O Departamento de Controle Externo é responsável por instruir e emitir relatório sobre os processos encaminhados para este fim, com prazo de 15 (quinze) dias úteis, podendo ser prorrogado na forma deste Regimento.\n",
      "Resposta do Modelo: O Departamento de Controle Externo é um órgão responsável pela fiscalização de órgãos e entidades sujeitos à jurisdição do Tribunal. Suas prerrogativas incluem livre ingresso nos órgãos fiscalizados, acesso a documentos e informações necessários, competência para requerer documentos e informações desejadas e local apropriado para a realização de seus trabalhos. O prazo para instrução dos processos é de 10 dias, podendo ser prorrogado por mais 10 dias em casos excepcionais, mediante solicitação escrita fundamentada. O Departamento de Controle Externo dará prioridade às medidas decorrentes da reabertura da instrução.\n",
      "Avaliação: INCORRECT\n",
      "\n",
      "Exemplo 4:\n",
      "Pergunta: Quais são as atribuições do Conselheiro de acordo com o artigo 29?\n",
      "Resposta correta: De acordo com o Artigo 29, as atribuições do Conselheiro são: participar das sessões ordinárias, extraordinárias e solenes do Tribunal, bem como das sessões ordinárias do Plenário Virtual, presidir e orientar a instrução processual da matéria da qual seja Relator, determinando todas as providências e diligências necessárias àquele fim, desde que não conflitem com as instruções, ordens de serviço, e jurisprudência predominante do Tribunal, determinar a expedição de comunicação de audiência, citação e notificação nos processos de sua relatoria, encaminhar ao Ministério Público de Contas os processos em que presidir e orientar a instrução processual, relatar e votar os processos que lhe sejam distribuídos e propor, discutir e votar as matérias de competência do Tribunal, podendo requerer as providências necessárias ao esclarecimento do assunto.\n",
      "Resposta do Modelo: De acordo com o Artigo 29, as atribuições do Conselheiro são:\n",
      "\n",
      "I - participar, presencialmente ou por videoconferência, das sessões ordinárias, extraordinárias e solenes do Tribunal, bem como das sessões ordinárias do Plenário Virtual.\n",
      "\n",
      "II - presidir e orientar a instrução processual da matéria da qual seja Relator, determinando todas as providências e diligências necessárias àquele fim, desde que não conflitem com as instruções, ordens de serviço, e jurisprudência predominante do Tribunal;\n",
      "\n",
      "III - determinar a expedição de comunicação de audiência, citação e notificação nos processos de sua relatoria;\n",
      "\n",
      "IV - encaminhar ao Ministério Público de Contas os processos em que presidir e orientar a instrução processual;\n",
      "\n",
      "V - relatar e votar os processos que lhe sejam distribuídos;\n",
      "\n",
      "VI - propor, discutir e votar as matérias de competência do Tribunal, podendo requerer as providências necessárias ao esclarecimento do assunto.\n",
      "Avaliação: CORRECT\n",
      "\n"
     ]
    }
   ],
   "source": [
    "from langchain.evaluation.qa import QAEvalChain\n",
    "eval_chain = QAEvalChain.from_llm(chat_llm)\n",
    "\n",
    "graded_outputs = eval_chain.evaluate(exemplos, predictions)\n",
    "\n",
    "for i, eg in enumerate(exemplos):\n",
    "    print(f\"Exemplo {i}:\")\n",
    "    print(\"Pergunta: \" + predictions[i]['query'])\n",
    "    print(\"Resposta correta: \" + predictions[i]['answer'])\n",
    "    print(\"Resposta do Modelo: \" + predictions[i]['result'])\n",
    "    print(\"Avaliação: \" + graded_outputs[i]['results'])\n",
    "    print()"
   ]
  },
  {
   "cell_type": "markdown",
   "id": "3fc46c86",
   "metadata": {},
   "source": [
    "### Outros casos de uso\n",
    "https://python.langchain.com/docs/use_cases"
   ]
  }
 ],
 "metadata": {
  "kernelspec": {
   "display_name": "Python 3 (ipykernel)",
   "language": "python",
   "name": "python3"
  },
  "language_info": {
   "codemirror_mode": {
    "name": "ipython",
    "version": 3
   },
   "file_extension": ".py",
   "mimetype": "text/x-python",
   "name": "python",
   "nbconvert_exporter": "python",
   "pygments_lexer": "ipython3",
   "version": "3.10.12"
  }
 },
 "nbformat": 4,
 "nbformat_minor": 5
}
